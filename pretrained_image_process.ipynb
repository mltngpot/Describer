{
  "cells": [
    {
      "cell_type": "code",
      "source": [
        "import torch\n",
        "import requests\n",
        "from PIL import Image\n",
        "import pandas as pd\n",
        "from transformers import (\n",
        "    MllamaForConditionalGeneration,\n",
        "    AutoProcessor\n",
        ")\n",
        "\n",
        "# Model initialization\n",
        "model_id = \"3.2-11B\"\n",
        "\n",
        "# Load model and processor\n",
        "model = MllamaForConditionalGeneration.from_pretrained(\n",
        "    model_id,\n",
        "    torch_dtype=torch.bfloat16,\n",
        "    device_map=\"auto\",\n",
        ")\n",
        "processor = AutoProcessor.from_pretrained(model_id)\n",
        "\n",
        "# Read image URLs from the CSV file\n",
        "input_csv_path = \"purdue_2023_images.csv\"  # Input CSV file path\n",
        "output_csv_path = \"image_descriptions_2023.csv\"  # Output CSV file path\n",
        "\n",
        "df = pd.read_csv(input_csv_path)\n",
        "\n",
        "# Filter out rows with null Image_URL\n",
        "df = df[df[\"Image_URL\"].notnull()]  # Keep rows with valid URLs\n",
        "image_urls = df[\"Image_URL\"].tolist()\n",
        "\n",
        "# Create a list to store the descriptions\n",
        "descriptions = []\n",
        "\n",
        "# Generate descriptions for each image\n",
        "for url in image_urls:\n",
        "    try:\n",
        "        # Load the image\n",
        "        image = Image.open(requests.get(url, stream=True).raw)\n",
        "\n",
        "        # Prompt text\n",
        "        prompt = \"<|image|><|begin_of_text|>Describe the Image\"\n",
        "\n",
        "        # Process the input\n",
        "        inputs = processor(image, prompt, return_tensors=\"pt\").to(model.device)\n",
        "\n",
        "        # Generate the description\n",
        "        output = model.generate(**inputs, max_new_tokens=50)\n",
        "        description = processor.decode(output[0], skip_special_tokens=True)\n",
        "\n",
        "        # Append the description to the list\n",
        "        descriptions.append(description)\n",
        "    except Exception as e:\n",
        "        # Append error messages if any exceptions occur\n",
        "        descriptions.append(f\"Error: {e}\")\n",
        "\n",
        "# Add the descriptions to the DataFrame and save it to a new CSV file\n",
        "df[\"Description\"] = descriptions\n",
        "df.to_csv(output_csv_path, index=False)\n",
        "\n",
        "print(f\"Image descriptions have been saved to: {output_csv_path}\")\n"
      ],
      "metadata": {
        "id": "LX7XRVPlBKyQ"
      },
      "execution_count": null,
      "outputs": []
    },
    {
      "cell_type": "code",
      "source": [
        "import pandas as pd\n",
        "\n",
        "\n",
        "input_csv_path = \"image_descriptions_2023.csv\"\n",
        "output_csv_path = \"filtered_image_descriptions_2023.csv\"\n",
        "\n",
        "\n",
        "df = pd.read_csv(input_csv_path)\n",
        "\n",
        "# Filter out rows for which no description can be generated\n",
        "filtered_df = df[~df[\"Description\"].str.contains(\"I'm not able to\", na=False)]\n",
        "\n",
        "# Save the filtered DataFrame to a new CSV file\n",
        "filtered_df.to_csv(output_csv_path, index=False)\n",
        "\n",
        "print(f\"Filtered descriptions have been saved to: {output_csv_path}\")\n"
      ],
      "metadata": {
        "id": "LApCgMKqhjuk"
      },
      "execution_count": null,
      "outputs": []
    }
  ],
  "metadata": {
    "accelerator": "GPU",
    "colab": {
      "gpuType": "T4",
      "provenance": []
    },
    "kernelspec": {
      "display_name": "Python 3",
      "name": "python3"
    },
    "language_info": {
      "name": "python"
    }
  },
  "nbformat": 4,
  "nbformat_minor": 0
}