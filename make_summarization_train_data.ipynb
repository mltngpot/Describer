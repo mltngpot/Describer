{
 "cells": [
  {
   "attachments": {},
   "cell_type": "markdown",
   "metadata": {
    "id": "X4cRE8IbIrIV"
   },
   "source": [
    "If you're opening this Notebook on colab, you will probably need to install 🤗 Transformers and 🤗 Datasets as well as other dependencies. Uncomment the following cell and run it."
   ]
  },
  {
   "cell_type": "code",
   "execution_count": null,
   "metadata": {
    "colab": {
     "base_uri": "https://localhost:8080/",
     "height": 1000
    },
    "id": "MOsHUjgdIrIW",
    "outputId": "f84a093e-147f-470e-aad9-80fb51193c8e"
   },
   "outputs": [],
   "source": [
    "#! pip install datasets evaluate transformers rouge-score nltk"
   ]
  },
  {
   "attachments": {},
   "cell_type": "markdown",
   "metadata": {},
   "source": [
    "If you're opening this notebook locally, make sure your environment has an install from the last version of those libraries.\n",
    "\n",
    "To be able to share your model with the community and generate results like the one shown in the picture below via the inference API, there are a few more steps to follow.\n",
    "\n",
    "First you have to store your authentication token from the Hugging Face website (sign up [here](https://huggingface.co/join) if you haven't already!) then execute the following cell and input your username and password:"
   ]
  },
  {
   "cell_type": "code",
   "execution_count": 2,
   "metadata": {},
   "outputs": [
    {
     "data": {
      "application/vnd.jupyter.widget-view+json": {
       "model_id": "ba71005d83cb44fe98fa299601359805",
       "version_major": 2,
       "version_minor": 0
      },
      "text/plain": [
       "VBox(children=(HTML(value='<center> <img\\nsrc=https://huggingface.co/front/assets/huggingface_logo-noborder.sv…"
      ]
     },
     "metadata": {},
     "output_type": "display_data"
    }
   ],
   "source": [
    "from huggingface_hub import notebook_login\n",
    "\n",
    "notebook_login()"
   ]
  },
  {
   "attachments": {},
   "cell_type": "markdown",
   "metadata": {},
   "source": [
    "Then you need to install Git-LFS. Uncomment the following instructions:"
   ]
  },
  {
   "cell_type": "code",
   "execution_count": null,
   "metadata": {},
   "outputs": [],
   "source": [
    "# !apt install git-lfs"
   ]
  },
  {
   "attachments": {},
   "cell_type": "markdown",
   "metadata": {},
   "source": [
    "Make sure your version of Transformers is at least 4.11.0 since the functionality was introduced in that version:"
   ]
  },
  {
   "cell_type": "code",
   "execution_count": 3,
   "metadata": {},
   "outputs": [
    {
     "name": "stdout",
     "output_type": "stream",
     "text": [
      "4.46.3\n"
     ]
    }
   ],
   "source": [
    "import transformers\n",
    "\n",
    "print(transformers.__version__)"
   ]
  },
  {
   "attachments": {},
   "cell_type": "markdown",
   "metadata": {
    "id": "HFASsisvIrIb"
   },
   "source": [
    "You can find a script version of this notebook to fine-tune your model in a distributed fashion using multiple GPUs or TPUs [here](https://github.com/huggingface/transformers/tree/master/examples/seq2seq)."
   ]
  },
  {
   "attachments": {},
   "cell_type": "markdown",
   "metadata": {},
   "source": [
    "We also quickly upload some telemetry - this tells us which examples and software versions are getting used so we know where to prioritize our maintenance efforts. We don't collect (or care about) any personally identifiable information, but if you'd prefer not to be counted, feel free to skip this step or delete this cell entirely."
   ]
  },
  {
   "cell_type": "code",
   "execution_count": 4,
   "metadata": {},
   "outputs": [],
   "source": [
    "from transformers.utils import send_example_telemetry\n",
    "\n",
    "send_example_telemetry(\"summarization_notebook\", framework=\"pytorch\")"
   ]
  },
  {
   "attachments": {},
   "cell_type": "markdown",
   "metadata": {
    "id": "rEJBSTyZIrIb"
   },
   "source": [
    "# Fine-tuning a model on a summarization task"
   ]
  },
  {
   "attachments": {},
   "cell_type": "markdown",
   "metadata": {
    "id": "kTCFado4IrIc"
   },
   "source": [
    "In this notebook, we will see how to fine-tune one of the [🤗 Transformers](https://github.com/huggingface/transformers) model for a summarization task. We will use the [XSum dataset](https://arxiv.org/pdf/1808.08745.pdf) (for extreme summarization) which contains BBC articles accompanied with single-sentence summaries.\n",
    "\n",
    "![Widget inference on a summarization task](images/summarization.png)\n",
    "\n",
    "We will see how to easily load the dataset for this task using 🤗 Datasets and how to fine-tune a model on it using the `Trainer` API."
   ]
  },
  {
   "cell_type": "code",
   "execution_count": 2,
   "metadata": {},
   "outputs": [],
   "source": [
    "model_checkpoint = \"t5-small\""
   ]
  },
  {
   "attachments": {},
   "cell_type": "markdown",
   "metadata": {
    "id": "4RRkXuteIrIh"
   },
   "source": [
    "This notebook is built to run  with any model checkpoint from the [Model Hub](https://huggingface.co/models) as long as that model has a sequence-to-sequence version in the Transformers library. Here we picked the [`t5-small`](https://huggingface.co/t5-small) checkpoint. "
   ]
  },
  {
   "attachments": {},
   "cell_type": "markdown",
   "metadata": {
    "id": "whPRbBNbIrIl"
   },
   "source": [
    "## Loading the dataset"
   ]
  },
  {
   "attachments": {},
   "cell_type": "markdown",
   "metadata": {
    "id": "W7QYTpxXIrIl"
   },
   "source": [
    "We will use the [🤗 Datasets](https://github.com/huggingface/datasets) library to download the data and get the metric we need to use for evaluation (to compare our model to the benchmark). This can be easily done with the functions `load_dataset` and `load_metric`.  "
   ]
  },
  {
   "cell_type": "code",
   "execution_count": 8,
   "metadata": {
    "id": "IreSlFmlIrIm"
   },
   "outputs": [
    {
     "name": "stderr",
     "output_type": "stream",
     "text": [
      "2023-06-06 12:43:46.062773: I tensorflow/core/platform/cpu_feature_guard.cc:182] This TensorFlow binary is optimized to use available CPU instructions in performance-critical operations.\n",
      "To enable the following instructions: AVX2 FMA, in other operations, rebuild TensorFlow with the appropriate compiler flags.\n",
      "Found cached dataset xsum (/home/sudolife/.cache/huggingface/datasets/xsum/default/1.2.0/082863bf4754ee058a5b6f6525d0cb2b18eadb62c7b370b095d1364050a52b71)\n"
     ]
    },
    {
     "data": {
      "application/vnd.jupyter.widget-view+json": {
       "model_id": "ef1e01985867419f9bb6a46bc1f93ffe",
       "version_major": 2,
       "version_minor": 0
      },
      "text/plain": [
       "  0%|          | 0/3 [00:00<?, ?it/s]"
      ]
     },
     "metadata": {},
     "output_type": "display_data"
    }
   ],
   "source": [
    "from datasets import load_dataset\n",
    "from evaluate import load\n",
    "\n",
    "raw_datasets = load_dataset(\"xsum\")\n",
    "metric = load(\"rouge\")"
   ]
  },
  {
   "attachments": {},
   "cell_type": "markdown",
   "metadata": {
    "id": "RzfPtOMoIrIu"
   },
   "source": [
    "The `dataset` object itself is [`DatasetDict`](https://huggingface.co/docs/datasets/package_reference/main_classes.html#datasetdict), which contains one key for the training, validation and test set:"
   ]
  },
  {
   "cell_type": "code",
   "execution_count": 9,
   "metadata": {
    "id": "GWiVUF0jIrIv",
    "outputId": "35e3ea43-f397-4a54-c90c-f2cf8d36873e"
   },
   "outputs": [
    {
     "data": {
      "text/plain": [
       "DatasetDict({\n",
       "    train: Dataset({\n",
       "        features: ['document', 'summary', 'id'],\n",
       "        num_rows: 204045\n",
       "    })\n",
       "    validation: Dataset({\n",
       "        features: ['document', 'summary', 'id'],\n",
       "        num_rows: 11332\n",
       "    })\n",
       "    test: Dataset({\n",
       "        features: ['document', 'summary', 'id'],\n",
       "        num_rows: 11334\n",
       "    })\n",
       "})"
      ]
     },
     "execution_count": 9,
     "metadata": {},
     "output_type": "execute_result"
    }
   ],
   "source": [
    "raw_datasets"
   ]
  },
  {
   "attachments": {},
   "cell_type": "markdown",
   "metadata": {
    "id": "u3EtYfeHIrIz"
   },
   "source": [
    "To access an actual element, you need to select a split first, then give an index:"
   ]
  },
  {
   "cell_type": "code",
   "execution_count": 10,
   "metadata": {
    "id": "X6HrpprwIrIz",
    "outputId": "d7670bc0-42e4-4c09-8a6a-5c018ded7d95"
   },
   "outputs": [
    {
     "data": {
      "text/plain": [
       "{'document': 'The full cost of damage in Newton Stewart, one of the areas worst affected, is still being assessed.\\nRepair work is ongoing in Hawick and many roads in Peeblesshire remain badly affected by standing water.\\nTrains on the west coast mainline face disruption due to damage at the Lamington Viaduct.\\nMany businesses and householders were affected by flooding in Newton Stewart after the River Cree overflowed into the town.\\nFirst Minister Nicola Sturgeon visited the area to inspect the damage.\\nThe waters breached a retaining wall, flooding many commercial properties on Victoria Street - the main shopping thoroughfare.\\nJeanette Tate, who owns the Cinnamon Cafe which was badly affected, said she could not fault the multi-agency response once the flood hit.\\nHowever, she said more preventative work could have been carried out to ensure the retaining wall did not fail.\\n\"It is difficult but I do think there is so much publicity for Dumfries and the Nith - and I totally appreciate that - but it is almost like we\\'re neglected or forgotten,\" she said.\\n\"That may not be true but it is perhaps my perspective over the last few days.\\n\"Why were you not ready to help us a bit more when the warning and the alarm alerts had gone out?\"\\nMeanwhile, a flood alert remains in place across the Borders because of the constant rain.\\nPeebles was badly hit by problems, sparking calls to introduce more defences in the area.\\nScottish Borders Council has put a list on its website of the roads worst affected and drivers have been urged not to ignore closure signs.\\nThe Labour Party\\'s deputy Scottish leader Alex Rowley was in Hawick on Monday to see the situation first hand.\\nHe said it was important to get the flood protection plan right but backed calls to speed up the process.\\n\"I was quite taken aback by the amount of damage that has been done,\" he said.\\n\"Obviously it is heart-breaking for people who have been forced out of their homes and the impact on businesses.\"\\nHe said it was important that \"immediate steps\" were taken to protect the areas most vulnerable and a clear timetable put in place for flood prevention plans.\\nHave you been affected by flooding in Dumfries and Galloway or the Borders? Tell us about your experience of the situation and how it was handled. Email us on selkirk.news@bbc.co.uk or dumfries@bbc.co.uk.',\n",
       " 'summary': 'Clean-up operations are continuing across the Scottish Borders and Dumfries and Galloway after flooding caused by Storm Frank.',\n",
       " 'id': '35232142'}"
      ]
     },
     "execution_count": 10,
     "metadata": {},
     "output_type": "execute_result"
    }
   ],
   "source": [
    "raw_datasets[\"train\"][0]"
   ]
  },
  {
   "attachments": {},
   "cell_type": "markdown",
   "metadata": {
    "id": "WHUmphG3IrI3"
   },
   "source": [
    "To get a sense of what the data looks like, the following function will show some examples picked randomly in the dataset."
   ]
  },
  {
   "cell_type": "code",
   "execution_count": 11,
   "metadata": {
    "id": "i3j8APAoIrI3"
   },
   "outputs": [],
   "source": [
    "import datasets\n",
    "import random\n",
    "import pandas as pd\n",
    "from IPython.display import display, HTML\n",
    "\n",
    "def show_random_elements(dataset, num_examples=5):\n",
    "    assert num_examples <= len(dataset), \"Can't pick more elements than there are in the dataset.\"\n",
    "    picks = []\n",
    "    for _ in range(num_examples):\n",
    "        pick = random.randint(0, len(dataset)-1)\n",
    "        while pick in picks:\n",
    "            pick = random.randint(0, len(dataset)-1)\n",
    "        picks.append(pick)\n",
    "    \n",
    "    df = pd.DataFrame(dataset[picks])\n",
    "    for column, typ in dataset.features.items():\n",
    "        if isinstance(typ, datasets.ClassLabel):\n",
    "            df[column] = df[column].transform(lambda i: typ.names[i])\n",
    "    display(HTML(df.to_html()))"
   ]
  },
  {
   "cell_type": "code",
   "execution_count": 12,
   "metadata": {
    "id": "SZy5tRB_IrI7",
    "outputId": "ba8f2124-e485-488f-8c0c-254f34f24f13"
   },
   "outputs": [
    {
     "data": {
      "text/html": [
       "<table border=\"1\" class=\"dataframe\">\n",
       "  <thead>\n",
       "    <tr style=\"text-align: right;\">\n",
       "      <th></th>\n",
       "      <th>document</th>\n",
       "      <th>summary</th>\n",
       "      <th>id</th>\n",
       "    </tr>\n",
       "  </thead>\n",
       "  <tbody>\n",
       "    <tr>\n",
       "      <th>0</th>\n",
       "      <td>The theatre is undergoing an £16m refurbishment and was originally planned to open by Easter next year.\\nNow Hull City Council has revealed the venue will not be ready until August at the earliest.\\nSteven Bayes, the Labour councillor responsible for tourism, said the delay was due to uncertainty over funding.\\n\"Clearly everyone would have liked to have seen the project finished as soon as possible in 2017, but we feel this is the best method of getting as much done for as long a period of time.\"\\nLast week, the Chancellor George Osborne announced a £13m grant towards Hull hosting the year long City of Culture arts festival.</td>\n",
       "      <td>The reopening of Hull New Theatre will be delayed until the summer of 2017, missing most of the City of Culture arts festival.</td>\n",
       "      <td>35879272</td>\n",
       "    </tr>\n",
       "    <tr>\n",
       "      <th>1</th>\n",
       "      <td>The Stop Online Piracy Act (Sopa) aims to slash the amount of pirated content on the internet.\\nBut signatories including Google co-founder Sergey Brin claim it amounts to China-style censorship.\\nThe bill has the backing of Hollywood and the music industry.\\nSopa was introduced by Judiciary Committee chairman Lamar Smith, a Texas Republican, who said the legislation was designed to \"stop the flow of revenue to rogue websites... that profit from selling pirated goods without any legal consequences\".\\nIt would give content owners and the US government the power to request court orders to shut down websites associated with piracy.\\nSopa aims to stop online ad networks and payment processors from doing business with foreign websites accused of enabling or facilitating copyright infringement.\\nIt could stop search engines from linking to the allegedly infringing sites. Domain name registrars could be forced to take down the websites, and internet service providers could be forced to block access to the sites accused of infringing.\\nA similar law, the Protect IP Act, is making its way through the US Senate.\\nCritics argue that the proposals are too broad and could lead to the closure of a range of sites.\\nThe latest letter, published in several US newspapers including the Wall Street Journal, The Washington Post and the New York Times, reads: \"We've all had the good fortune to found internet companies and non-profits in a regulatory climate that promotes entrepreneurship, innovation, the creation of content and free expression online.\\n\"However we're worried that the Protect IP Act and the Stop Online Piracy Act - which started out as well-meaning efforts to control piracy online - will undermine that framework.\"\\nThe letter said that the legislation would require web services to monitor what users link to or upload.\\nThe bill would also \"deny website owners the right to due process\" and \"give the US government the power to censor the web using techniques similar to those used by China, Malaysia and Iran\", the letter goes on.\\n\"We urge Congress to think hard before changing the regulation that underpins the internet... Let's not deny the next generation of entrepreneurs and founders the same opportunities that we all had.\"\\nThe letter was signed by Twitter co-founders Jack Dorsey, Biz Stone and Evan Williams; Flickr co-founder Caterina Fake; Yahoo! co-founders David Filo and Jerry Yang; LinkedIn co-founder Reid Hoffman; YouTube co-founder Chad Hurley; PayPal co-founder Elon Musk; Craigslist founder Craig Newmark; eBay founder Pierre Omidyar and Wikipedia founder Jimmy Wales.\\nAnother appeal, signed by 83 key internet engineersincluding father of the internet Vint Cerf, has also been sent to Congress.\\n\"We cannot have a free and open internet unless its naming and routing systems sit above the political concerns and objectives of any one government or industry,\" it reads.\\n\"Censorship of internet infrastructure will inevitably cause network errors and security problems. This is true in China, Iran and other countries that censor the network today; it will be just as true of American censorship.\"\\nA group of US politicians is proposing an alternative to Sopa that would see funding cut off to foreign websites accused of copyright infringements in a similar way to how the US ended Wikileaks' commercial operation.\\nThey argue that the International Trade Commission (ITC) should take charge of combating piracy, instead of judges. The ITC would be tasked with reviewing claims of online infringement against foreign website owners, ordering them cut off from funding if the claims prove true.\\nWhile the US moves to tighten its copyright laws, the UK is aiming to relax its own.\\nThe Intellectual Property Office has launched a consultation exercise intended, among other things, to allow the ripping of CDs to digital music players.\\nIt follows recommendations from Professor Ian Hargreaves inhis review of intellectual property.\\nOther plans include allowing data mining of scientific research for non-commercial use and a licensing scheme to make it easier for digital services to gain access to copyrighted works. It also proposes relaxing copyright rules around \"parody\" videos which are increasingly popular on YouTube.\\nThe move was welcomed by the British Library and watchdog Consumer Focus, but The Publishers' Association said it was concerned that the relaxation could make intellectual property theft easier.</td>\n",
       "      <td>The founders of Google, Twitter and eBay have signed a strongly worded letter criticising controversial US legislation ahead of a debate in Congress.</td>\n",
       "      <td>16195344</td>\n",
       "    </tr>\n",
       "    <tr>\n",
       "      <th>2</th>\n",
       "      <td>Lt Gen James Terry, who is co-ordinating efforts against IS, said the soldiers would be in addition to 3,100 US soldiers already promised.\\nHe did not say which coalition nations would provide the extra troops or what role they would play.\\nThe US has agreed to send troops to Iraq in an advisory role.\\nCoalition members discussed the Islamic State issue and made the troop pledge at a security conference in the region last week, Gen Terry said.\\nGen Terry also told the conference that air strikes against IS were taking a toll on the militants' campaign in Iraq and Syria.\\nThe US state department says nearly 60 countries belong to the coalition, although most play no direct role in the air strikes.\\nIt is hoped the deployment of additional soldiers will increase the effectiveness of the Iraqi army, much of which proved ineffective under an IS onslaught last summer.\\n\"While [the Iraqi security forces] have a long way to go I think they're becoming more capable every day,\" Lt Terry said.\\n\"When you start now to balance the different capabilities out across the coalition, I think we're doing pretty well in terms of boots on the ground.\"\\nMeanwhile, the Combined Joint Task Force announced that US-led coalition forces carried out 15 air strikes in Syria and 31 in Iraq between 3 and 8 December.\\nIS controls large areas of Syria and Iraq, imposing a rigid version of Sunni Islam and persecuting or killing non-believers.\\nThe group has also executed several western hostages and has promised to kill more.\\nEarlier on Monday US Defence Secretary Chuck Hagel said that the US would not be reviewing its policy of not paying ransoms in hostage situations, in spite of several failed rescue bids in the last few months.\\nIn the latest incident, British-born US journalist Luke Somers and South African teacher Pierre Korkie were both killed by al-Qaeda gunmen in Yemen during an attempted rescue operation on Saturday.</td>\n",
       "      <td>The US-led coalition fighting Islamic State (IS) militants has pledged to send an additional 1,500 troops to Iraq, a top US commander has said.</td>\n",
       "      <td>30388718</td>\n",
       "    </tr>\n",
       "    <tr>\n",
       "      <th>3</th>\n",
       "      <td>The survey suggested that staffing levels and a lack of consultation continued to be the biggest concerns.\\nBut the vast majority said they were happy to \"go the extra mile\" and trusted their direct line manager.\\nThe survey was completed by 60,681 of NHS Scotland's 160,635 staff - the highest response rate in its history.\\nOverall, health workers responded less positively to 17 of the 29 questions and more positively to four questions. The remaining eight questions saw no percentage change.\\nAmong the key findings were:\\nThe 33% of all employees who thought their department had enough staff fell to 26% for nurses and midwives and 12% for ambulance personnel.\\nThe report said there had been \"statistically significant\" improvements in one of the 29 questions, and significant deteriorations in four questions.\\nBut all eight statements relating to the overall experience of working for the NHS received a positive response from 53% or more of all respondents.\\nNorman Provan, Royal College of Nursing Scotland associate director, said: \"Demand on NHS services resources continues to outstrip supply, putting staff under enormous pressure.\\n\"It is worrying that nurses and midwives, like other staff groups, say that they are not consulted about changes and that they are also unclear about how changes will work out in practice.\\n\"The experience of staff on the frontline is key to building sustainable services and better, safer patient care. It is crucial that they are listened to.\"\\nHealth Secretary Shona Robison welcomed the increase in responses to the survey, and said the feedback was \"extremely important in letting us know what is going right and where we can make improvements\".\\nShe added: \"It is welcome that staff remain committed to their roles, with almost nine out of ten willing to go the 'extra mile' at work. It is also promising that so many staff members have confidence and trust in their direct line manager, and get help and support from colleagues when needed.\\n\"However, we know there are challenges to be addressed, in particular making staff feel engaged and involved in the decisions being made within their health board.\\n\"It is vital that we learn from these findings, and I will be expecting all health boards to use their individual survey results to work with staff to bring in changes which will further improve staff experience.\"\\nScottish Conservative health spokesman Jackson Carlaw said the survey \"highlights again just how short we are of nurses, and the SNP has to take full responsibility for that\".\\nScottish Labour's Dr Richard Simpson said NHS staff do \"incredible work every day\" but were \"under valued and overworked\" by the Scottish government.</td>\n",
       "      <td>NHS workers in Scotland are slightly less positive about their jobs than they were last year, according to the annual health service staff survey.</td>\n",
       "      <td>35070925</td>\n",
       "    </tr>\n",
       "    <tr>\n",
       "      <th>4</th>\n",
       "      <td>Media playback is not supported on this device\\nJamie Vardy scored twice but missed out on a hat-trick by blazing a second penalty over the bar.\\nCity's longest-serving player Andy King was also on the score-sheet with Kevin Mirallas netting Everton's consolation.\\nBut this was almost a sideshow to the festivities for the Foxes' first top-flight title in their 132-year history.\\nMedia playback is not supported on this device\\nThe celebrations included a pre-match performance from Italian tenor Andrea Bocelli in front of a sold-out stadium bedecked in banners declaring the club's new status as champions of England.\\nAnd then, once the game had finished, came the moment all connected with the club had been waiting for - the lifting of the Premier League trophy.\\nIt was held aloft by captain Wes Morgan and manager Claudio Ranieri to a rapturous response from those inside the King Power Stadium and thousands more who had gathered outside the ground.\\nSaturday afternoon was billed as a title party, but for most inside the stadium the celebrations have been ongoing since Tottenham's draw at Chelsea confirmed the Foxes as the most remarkable of Premier League winners.\\nThe City players themselves only returned to training for this fixture on Thursday after being given an extra day off to revel in their stunning triumph and presumably to fully recover from a rowdy Monday night at Jamie Vardy's house.\\nFrom the moment they emerged for their pre-match warm-up, they were cheered to the rafters by supporters who had begun to mass in the stadium hours earlier to enjoy a beer on the club and revel in its greatest moment.\\nSo keen were the home fans to show their appreciation to Ranieri and his side that the Italian was forced to quieten them for the performance of Nessun Dorma by compatriot Bocelli, who received a huge ovation when he removed his tracksuit top to reveal a Leicester shirt beneath bearing his name.\\nBut despite the carnival atmosphere and a guard of honour from their opponents there was no complacency from the Foxes, who provided a fast-paced and committed finale befitting the side with the best home record in the division.\\nIf the rumoured Hollywood film of Vardy's life does come to pass it now has a superb ending, although it came within a few yards of the perfect denouement.\\nHaving missed the last two games through suspension, the 29-year-old England striker returned to the starting XI and made an instant impact, scoring with what was his first meaningful touch to steer in from King's chipped delivery.\\nA constant menace to the Everton defence, his second came from the spot after he had been tripped by Matthew Pennington.\\nBut with a dream scenario beckoning after Darron Gibson had clattered into Jeffrey Schlupp in the box, Vardy blasted his hat-trick chance high over the Everton bar from the spot.\\nWith 24 goals for the season, Vardy is now one behind Tottenham's Harry Kane in the race to be Premier League top-scorer, although he has now had a hand in more top-flight goals this season than any other player (30).\\nMidfielder King is a one-club man, the longest serving member of the Leicester squad and sole survivor of the side that won promotion from League One in 2009.\\nHis 334th career appearance only came about because of Danny Drinkwater's suspension, but the 27-year-old illustrated the reasons for his Foxes longevity with a dynamic and influential display.\\nAfter setting up the opener he was perfectly placed to latch on to a loose ball, following Riyad Mahrez's mazy run down the right, and fire his side into a commanding lead.\\nThe goal was significant for another reason, as it took Leicester's all-time league goal difference to +1 - an apt time to go into the black.\\nGiven the context of the day Everton were always in danger of being totally overshadowed, especially as they have little left to play for this season.\\nBut while the Toffees may not have needed Saturday's points, their under-pressure manager Roberto Martinez was in dire need of a proud and professional performance from his side.\\nHowever, they were far too accommodating of their opponents in the first half, essentially extending their pre-match guard of honour to allow City a match-winning hold on the game before the break.\\nMedia playback is not supported on this device\\nThey rallied slightly early in the second half, with Oumar Niasse and Romelu Lukaku drawing good saves from Kaspar Schmeichel.\\nBut when Mirallas scored a superb solo goal, which saw him run from the halfway line before beating Schmeichel in the 87th minute, many of the visiting side already seemed to be eyeing a swift exit to allow the Leicester party to get under way.\\nLeicester end their season with a trip to the team they have just deposed as Premier League champions, Chelsea.\\nEverton have two Premier League games remaining - away at Sunderland on Wednesday before a final-day home game against Norwich next Sunday.\\nMatch ends, Leicester City 3, Everton 1.\\nSecond Half ends, Leicester City 3, Everton 1.\\nCorner,  Leicester City. Conceded by Joel Robles.\\nAttempt saved. Demarai Gray (Leicester City) right footed shot from the right side of the box is saved in the bottom right corner. Assisted by N'Golo Kanté.\\nAttempt missed. Leonardo Ulloa (Leicester City) header from the centre of the box is high and wide to the right. Assisted by Demarai Gray with a cross following a corner.\\nCorner,  Leicester City. Conceded by James McCarthy.\\nSubstitution, Leicester City. Demarai Gray replaces Riyad Mahrez.\\nAttempt blocked. Christian Fuchs (Leicester City) right footed shot from the left side of the box is blocked. Assisted by Riyad Mahrez with a cross.\\nAttempt blocked. Andy King (Leicester City) left footed shot from the centre of the box is blocked.\\nCorner,  Leicester City. Conceded by John Stones.\\nGoal!  Leicester City 3, Everton 1. Kevin Mirallas (Everton) right footed shot from the centre of the box to the bottom right corner. Assisted by Darron Gibson.\\nAttempt missed. Andy King (Leicester City) header from the left side of the six yard box is close, but misses to the left. Assisted by Riyad Mahrez with a cross following a corner.\\nCorner,  Leicester City. Conceded by Joel Robles.\\nAttempt missed. Leonardo Ulloa (Leicester City) header from the centre of the box is just a bit too high. Assisted by Christian Fuchs with a cross.\\nAttempt blocked. Riyad Mahrez (Leicester City) left footed shot from outside the box is blocked. Assisted by Andy King.\\nOffside, Leicester City. Kasper Schmeichel tries a through ball, but Jamie Vardy is caught offside.\\nAttempt missed. Andy King (Leicester City) header from very close range misses to the right. Assisted by Leonardo Ulloa following a corner.\\nAttempt missed. Leonardo Ulloa (Leicester City) header from the centre of the box is close, but misses to the left. Assisted by Christian Fuchs with a cross following a corner.\\nCorner,  Leicester City. Conceded by John Stones.\\nFoul by Kevin Mirallas (Everton).\\nChristian Fuchs (Leicester City) wins a free kick in the defensive half.\\nCorner,  Everton. Conceded by Christian Fuchs.\\nSubstitution, Everton. Leon Osman replaces Ross Barkley.\\nAttempt missed. Leonardo Ulloa (Leicester City) header from the centre of the box is close, but misses to the right. Assisted by Riyad Mahrez with a cross.\\nAttempt blocked. N'Golo Kanté (Leicester City) right footed shot from outside the box is blocked.\\nAttempt blocked. Andy King (Leicester City) right footed shot from the left side of the box is blocked. Assisted by Leonardo Ulloa.\\nCorner,  Leicester City. Conceded by Matthew Pennington.\\nAttempt blocked. Jamie Vardy (Leicester City) left footed shot from the right side of the box is blocked.\\nAttempt missed. Leonardo Ulloa (Leicester City) header from the right side of the six yard box is just a bit too high. Assisted by Riyad Mahrez with a cross following a corner.\\nCorner,  Leicester City. Conceded by Matthew Pennington.\\nAttempt blocked. Jamie Vardy (Leicester City) right footed shot from outside the box is blocked. Assisted by Andy King.\\nAttempt saved. Bryan Oviedo (Everton) left footed shot from outside the box is saved in the bottom left corner. Assisted by Kevin Mirallas.\\nPenalty missed! Bad penalty by Jamie Vardy (Leicester City) right footed shot is too high. Jamie Vardy should be disappointed.\\nDarron Gibson (Everton) is shown the yellow card for a bad foul.\\nPenalty conceded by Darron Gibson (Everton) after a foul in the penalty area.\\nPenalty Leicester City. Jeffrey Schlupp draws a foul in the penalty area.\\nAttempt blocked. Wes Morgan (Leicester City) header from the centre of the box is blocked. Assisted by Christian Fuchs with a cross.\\nCorner,  Leicester City. Conceded by Bryan Oviedo.\\nCorner,  Leicester City. Conceded by Joel Robles.\\nAttempt saved. Jamie Vardy (Leicester City) left footed shot from the left side of the box is saved in the bottom right corner. Assisted by Riyad Mahrez.</td>\n",
       "      <td>Champions Leicester comfortably beat Everton before being presented with the Premier League trophy during a day of celebrations at the King Power Stadium.</td>\n",
       "      <td>36176623</td>\n",
       "    </tr>\n",
       "  </tbody>\n",
       "</table>"
      ],
      "text/plain": [
       "<IPython.core.display.HTML object>"
      ]
     },
     "metadata": {},
     "output_type": "display_data"
    }
   ],
   "source": [
    "show_random_elements(raw_datasets[\"train\"])"
   ]
  },
  {
   "attachments": {},
   "cell_type": "markdown",
   "metadata": {
    "id": "lnjDIuQ3IrI-"
   },
   "source": [
    "The metric is an instance of [`datasets.Metric`](https://huggingface.co/docs/datasets/package_reference/main_classes.html#datasets.Metric):"
   ]
  },
  {
   "cell_type": "code",
   "execution_count": 13,
   "metadata": {
    "id": "5o4rUteaIrI_",
    "outputId": "18038ef5-554c-45c5-e00a-133b02ec10f1"
   },
   "outputs": [
    {
     "data": {
      "text/plain": [
       "EvaluationModule(name: \"rouge\", module_type: \"metric\", features: [{'predictions': Value(dtype='string', id='sequence'), 'references': Sequence(feature=Value(dtype='string', id='sequence'), length=-1, id=None)}, {'predictions': Value(dtype='string', id='sequence'), 'references': Value(dtype='string', id='sequence')}], usage: \"\"\"\n",
       "Calculates average rouge scores for a list of hypotheses and references\n",
       "Args:\n",
       "    predictions: list of predictions to score. Each prediction\n",
       "        should be a string with tokens separated by spaces.\n",
       "    references: list of reference for each prediction. Each\n",
       "        reference should be a string with tokens separated by spaces.\n",
       "    rouge_types: A list of rouge types to calculate.\n",
       "        Valid names:\n",
       "        `\"rouge{n}\"` (e.g. `\"rouge1\"`, `\"rouge2\"`) where: {n} is the n-gram based scoring,\n",
       "        `\"rougeL\"`: Longest common subsequence based scoring.\n",
       "        `\"rougeLsum\"`: rougeLsum splits text using `\"\n",
       "\"`.\n",
       "        See details in https://github.com/huggingface/datasets/issues/617\n",
       "    use_stemmer: Bool indicating whether Porter stemmer should be used to strip word suffixes.\n",
       "    use_aggregator: Return aggregates if this is set to True\n",
       "Returns:\n",
       "    rouge1: rouge_1 (f1),\n",
       "    rouge2: rouge_2 (f1),\n",
       "    rougeL: rouge_l (f1),\n",
       "    rougeLsum: rouge_lsum (f1)\n",
       "Examples:\n",
       "\n",
       "    >>> rouge = evaluate.load('rouge')\n",
       "    >>> predictions = [\"hello there\", \"general kenobi\"]\n",
       "    >>> references = [\"hello there\", \"general kenobi\"]\n",
       "    >>> results = rouge.compute(predictions=predictions, references=references)\n",
       "    >>> print(results)\n",
       "    {'rouge1': 1.0, 'rouge2': 1.0, 'rougeL': 1.0, 'rougeLsum': 1.0}\n",
       "\"\"\", stored examples: 0)"
      ]
     },
     "execution_count": 13,
     "metadata": {},
     "output_type": "execute_result"
    }
   ],
   "source": [
    "metric"
   ]
  },
  {
   "attachments": {},
   "cell_type": "markdown",
   "metadata": {
    "id": "jAWdqcUBIrJC"
   },
   "source": [
    "You can call its `compute` method with your predictions and labels, which need to be list of decoded strings:"
   ]
  },
  {
   "cell_type": "code",
   "execution_count": 18,
   "metadata": {
    "id": "6XN1Rq0aIrJC",
    "outputId": "a4405435-a8a9-41ff-9f79-a13077b587c7"
   },
   "outputs": [
    {
     "data": {
      "text/plain": [
       "{'rouge1': 1.0, 'rouge2': 1.0, 'rougeL': 1.0, 'rougeLsum': 1.0}"
      ]
     },
     "execution_count": 18,
     "metadata": {},
     "output_type": "execute_result"
    }
   ],
   "source": [
    "fake_preds = [\"hello there\", \"general kenobi\"]\n",
    "fake_labels = [\"hello there\", \"general kenobi\"]\n",
    "metric.compute(predictions=fake_preds, references=fake_labels)"
   ]
  },
  {
   "attachments": {},
   "cell_type": "markdown",
   "metadata": {
    "id": "n9qywopnIrJH"
   },
   "source": [
    "## Preprocessing the data"
   ]
  },
  {
   "attachments": {},
   "cell_type": "markdown",
   "metadata": {
    "id": "YVx71GdAIrJH"
   },
   "source": [
    "Before we can feed those texts to our model, we need to preprocess them. This is done by a 🤗 Transformers `Tokenizer` which will (as the name indicates) tokenize the inputs (including converting the tokens to their corresponding IDs in the pretrained vocabulary) and put it in a format the model expects, as well as generate the other inputs that the model requires.\n",
    "\n",
    "To do all of this, we instantiate our tokenizer with the `AutoTokenizer.from_pretrained` method, which will ensure:\n",
    "\n",
    "- we get a tokenizer that corresponds to the model architecture we want to use,\n",
    "- we download the vocabulary used when pretraining this specific checkpoint.\n",
    "\n",
    "That vocabulary will be cached, so it's not downloaded again the next time we run the cell."
   ]
  },
  {
   "cell_type": "code",
   "execution_count": 19,
   "metadata": {
    "id": "eXNLu_-nIrJI"
   },
   "outputs": [],
   "source": [
    "from transformers import AutoTokenizer\n",
    "    \n",
    "tokenizer = AutoTokenizer.from_pretrained(model_checkpoint)"
   ]
  },
  {
   "attachments": {},
   "cell_type": "markdown",
   "metadata": {
    "id": "Vl6IidfdIrJK"
   },
   "source": [
    "By default, the call above will use one of the fast tokenizers (backed by Rust) from the 🤗 Tokenizers library."
   ]
  },
  {
   "attachments": {},
   "cell_type": "markdown",
   "metadata": {
    "id": "rowT4iCLIrJK"
   },
   "source": [
    "You can directly call this tokenizer on one sentence or a pair of sentences:"
   ]
  },
  {
   "cell_type": "code",
   "execution_count": 20,
   "metadata": {
    "id": "a5hBlsrHIrJL",
    "outputId": "acdaa98a-a8cd-4a20-89b8-cc26437bbe90"
   },
   "outputs": [
    {
     "data": {
      "text/plain": [
       "{'input_ids': [8774, 6, 48, 80, 7142, 55, 1], 'attention_mask': [1, 1, 1, 1, 1, 1, 1]}"
      ]
     },
     "execution_count": 20,
     "metadata": {},
     "output_type": "execute_result"
    }
   ],
   "source": [
    "tokenizer(\"Hello, this one sentence!\")"
   ]
  },
  {
   "attachments": {},
   "cell_type": "markdown",
   "metadata": {
    "id": "qo_0B1M2IrJM"
   },
   "source": [
    "Depending on the model you selected, you will see different keys in the dictionary returned by the cell above. They don't matter much for what we're doing here (just know they are required by the model we will instantiate later), you can learn more about them in [this tutorial](https://huggingface.co/transformers/preprocessing.html) if you're interested.\n",
    "\n",
    "Instead of one sentence, we can pass along a list of sentences:"
   ]
  },
  {
   "cell_type": "code",
   "execution_count": 5,
   "metadata": {},
   "outputs": [
    {
     "data": {
      "text/plain": [
       "{'input_ids': [[8774, 6, 48, 80, 7142, 55, 1], [100, 19, 430, 7142, 5, 1]], 'attention_mask': [[1, 1, 1, 1, 1, 1, 1], [1, 1, 1, 1, 1, 1]]}"
      ]
     },
     "execution_count": 5,
     "metadata": {},
     "output_type": "execute_result"
    }
   ],
   "source": [
    "tokenizer([\"Hello, this one sentence!\", \"This is another sentence.\"])"
   ]
  },
  {
   "attachments": {},
   "cell_type": "markdown",
   "metadata": {},
   "source": [
    "To prepare the targets for our model, we need to tokenize them using the `text_target` parameter. This will make sure the tokenizer uses the special tokens corresponding to the targets:"
   ]
  },
  {
   "cell_type": "code",
   "execution_count": 6,
   "metadata": {},
   "outputs": [
    {
     "name": "stdout",
     "output_type": "stream",
     "text": [
      "{'input_ids': [[8774, 6, 48, 80, 7142, 55, 1], [100, 19, 430, 7142, 5, 1]], 'attention_mask': [[1, 1, 1, 1, 1, 1, 1], [1, 1, 1, 1, 1, 1]]}\n"
     ]
    }
   ],
   "source": [
    "print(tokenizer(text_target=[\"Hello, this one sentence!\", \"This is another sentence.\"]))"
   ]
  },
  {
   "attachments": {},
   "cell_type": "markdown",
   "metadata": {
    "id": "2C0hcmp9IrJQ"
   },
   "source": [
    "If you are using one of the five T5 checkpoints we have to prefix the inputs with \"summarize:\" (the model can also translate and it needs the prefix to know which task it has to perform)."
   ]
  },
  {
   "cell_type": "code",
   "execution_count": null,
   "metadata": {},
   "outputs": [],
   "source": [
    "if model_checkpoint in [\"t5-small\", \"t5-base\", \"t5-large\", \"t5-3b\", \"t5-11b\"]:\n",
    "    prefix = \"summarize: \"\n",
    "else:\n",
    "    prefix = \"\""
   ]
  },
  {
   "attachments": {},
   "cell_type": "markdown",
   "metadata": {
    "id": "2C0hcmp9IrJQ"
   },
   "source": [
    "We can then write the function that will preprocess our samples. We just feed them to the `tokenizer` with the argument `truncation=True`. This will ensure that an input longer that what the model selected can handle will be truncated to the maximum length accepted by the model. The padding will be dealt with later on (in a data collator) so we pad examples to the longest length in the batch and not the whole dataset."
   ]
  },
  {
   "cell_type": "code",
   "execution_count": 25,
   "metadata": {
    "id": "vc0BSBLIIrJQ"
   },
   "outputs": [],
   "source": [
    "max_input_length = 1024\n",
    "max_target_length = 128\n",
    "\n",
    "def preprocess_function(examples):\n",
    "    inputs = [prefix + doc for doc in examples[\"document\"]]\n",
    "    model_inputs = tokenizer(inputs, max_length=max_input_length, truncation=True)\n",
    "\n",
    "    # Setup the tokenizer for targets\n",
    "    labels = tokenizer(text_target=examples[\"summary\"], max_length=max_target_length, truncation=True)\n",
    "\n",
    "    model_inputs[\"labels\"] = labels[\"input_ids\"]\n",
    "    return model_inputs"
   ]
  },
  {
   "attachments": {},
   "cell_type": "markdown",
   "metadata": {
    "id": "0lm8ozrJIrJR"
   },
   "source": [
    "This function works with one or several examples. In the case of several examples, the tokenizer will return a list of lists for each key:"
   ]
  },
  {
   "cell_type": "code",
   "execution_count": 26,
   "metadata": {
    "id": "-b70jh26IrJS",
    "outputId": "acd3a42d-985b-44ee-9daa-af5d944ce1d9"
   },
   "outputs": [
    {
     "data": {
      "text/plain": [
       "{'input_ids': [[21603, 10, 37, 423, 583, 13, 1783, 16, 20126, 16496, 6, 80, 13, 8, 844, 6025, 4161, 6, 19, 341, 271, 14841, 5, 7057, 161, 19, 4912, 16, 1626, 5981, 11, 186, 7540, 16, 1276, 15, 2296, 7, 5718, 2367, 14621, 4161, 57, 4125, 387, 5, 15059, 7, 30, 8, 4653, 4939, 711, 747, 522, 17879, 788, 12, 1783, 44, 8, 15763, 6029, 1813, 9, 7472, 5, 1404, 1623, 11, 5699, 277, 130, 4161, 57, 18368, 16, 20126, 16496, 227, 8, 2473, 5895, 15, 147, 89, 22411, 139, 8, 1511, 5, 1485, 3271, 3, 21926, 9, 472, 19623, 5251, 8, 616, 12, 15614, 8, 1783, 5, 37, 13818, 10564, 15, 26, 3, 9, 3, 19513, 1481, 6, 18368, 186, 1328, 2605, 30, 7488, 1887, 3, 18, 8, 711, 2309, 9517, 89, 355, 5, 3966, 1954, 9233, 15, 6, 113, 293, 7, 8, 16548, 13363, 106, 14022, 84, 47, 14621, 4161, 6, 243, 255, 228, 59, 7828, 8, 1249, 18, 545, 11298, 1773, 728, 8, 8347, 1560, 5, 611, 6, 255, 243, 72, 1709, 1528, 161, 228, 43, 118, 4006, 91, 12, 766, 8, 3, 19513, 1481, 410, 59, 5124, 5, 96, 196, 17, 19, 1256, 68, 27, 103, 317, 132, 19, 78, 231, 23546, 21, 970, 51, 89, 2593, 11, 8, 2504, 189, 3, 18, 11, 27, 3536, 3653, 24, 3, 18, 68, 34, 19, 966, 114, 62, 31, 60, 23708, 42, 11821, 976, 255, 243, 5, 96, 11880, 164, 59, 36, 1176, 68, 34, 19, 2361, 82, 3503, 147, 8, 336, 360, 477, 5, 96, 17891, 130, 25, 59, 1065, 12, 199, 178, 3, 9, 720, 72, 116, 8, 6337, 11, 8, 6196, 5685, 7, 141, 2767, 91, 4609, 7940, 6, 3, 9, 8347, 5685, 3048, 16, 286, 640, 8, 17600, 7, 250, 13, 8, 3917, 3412, 5, 1276, 15, 2296, 7, 47, 14621, 1560, 57, 982, 6, 13233, 53, 3088, 12, 4277, 72, 13613, 7, 16, 8, 616, 5, 12580, 17600, 7, 2063, 65, 474, 3, 9, 570, 30, 165, 475, 13, 8, 7540, 6025, 4161, 11, 3863, 43, 118, 3, 19492, 59, 12, 9751, 12493, 3957, 5, 37, 16117, 3450, 31, 7, 21108, 12580, 2488, 5104, 11768, 1306, 47, 16, 1626, 5981, 30, 2089, 12, 217, 8, 1419, 166, 609, 5, 216, 243, 34, 47, 359, 12, 129, 8, 8347, 1711, 515, 269, 68, 3, 9485, 3088, 12, 1634, 95, 8, 433, 5, 96, 196, 47, 882, 1026, 3, 9, 1549, 57, 8, 866, 13, 1783, 24, 65, 118, 612, 976, 3, 88, 243, 5, 96, 14116, 34, 19, 842, 18, 18087, 21, 151, 113, 43, 118, 5241, 91, 13, 70, 2503, 11, 8, 1113, 30, 1623, 535, 216, 243, 34, 47, 359, 24, 96, 603, 5700, 342, 2245, 121, 130, 1026, 12, 1822, 8, 844, 167, 9930, 11, 3, 9, 964, 97, 3869, 474, 16, 286, 21, 8347, 9793, 1390, 5, 2114, 25, 118, 4161, 57, 18368, 16, 970, 51, 89, 2593, 11, 10987, 32, 1343, 42, 8, 17600, 7, 58, 8779, 178, 81, 39, 351, 13, 8, 1419, 11, 149, 34, 47, 10298, 5, 8601, 178, 30, 142, 40, 157, 12546, 5, 15808, 1741, 115, 115, 75, 5, 509, 5, 1598, 42, 146, 51, 89, 2593, 1741, 115, 115, 75, 5, 509, 5, 1598, 5, 1], [21603, 10, 71, 1472, 6196, 877, 326, 44, 8, 9108, 86, 29, 16, 6000, 1887, 44, 81, 11484, 10, 1755, 272, 4209, 30, 1856, 11, 2554, 130, 1380, 12, 1175, 8, 1595, 5, 282, 79, 3, 9094, 1067, 79, 1509, 8, 192, 14264, 6, 3, 16669, 596, 18, 969, 18, 1583, 16, 8, 443, 2447, 6, 3, 35, 6106, 19565, 57, 12314, 7, 5, 555, 13, 8, 1552, 1637, 19, 45, 3434, 6, 8, 119, 45, 1473, 11, 14441, 5, 94, 47, 70, 166, 706, 16, 5961, 5316, 5, 37, 2535, 13, 80, 13, 8, 14264, 243, 186, 13, 8, 9234, 141, 646, 525, 12770, 7, 30, 1476, 11, 175, 141, 118, 10932, 5, 2867, 1637, 43, 13666, 3709, 11210, 11, 56, 1731, 70, 1552, 13, 8, 3457, 4939, 865, 145, 79, 141, 4355, 5, 5076, 43, 3958, 15, 26, 21, 251, 81, 8, 3211, 5, 86, 7, 102, 1955, 24723, 243, 10, 96, 196, 17, 3475, 38, 713, 8, 1472, 708, 365, 80, 13, 8, 14264, 274, 16436, 12, 8, 511, 5, 96, 27674, 8, 2883, 1137, 19, 341, 365, 4962, 6, 34, 19, 816, 24, 8, 1472, 47, 708, 24067, 535, 1]], 'attention_mask': [[1, 1, 1, 1, 1, 1, 1, 1, 1, 1, 1, 1, 1, 1, 1, 1, 1, 1, 1, 1, 1, 1, 1, 1, 1, 1, 1, 1, 1, 1, 1, 1, 1, 1, 1, 1, 1, 1, 1, 1, 1, 1, 1, 1, 1, 1, 1, 1, 1, 1, 1, 1, 1, 1, 1, 1, 1, 1, 1, 1, 1, 1, 1, 1, 1, 1, 1, 1, 1, 1, 1, 1, 1, 1, 1, 1, 1, 1, 1, 1, 1, 1, 1, 1, 1, 1, 1, 1, 1, 1, 1, 1, 1, 1, 1, 1, 1, 1, 1, 1, 1, 1, 1, 1, 1, 1, 1, 1, 1, 1, 1, 1, 1, 1, 1, 1, 1, 1, 1, 1, 1, 1, 1, 1, 1, 1, 1, 1, 1, 1, 1, 1, 1, 1, 1, 1, 1, 1, 1, 1, 1, 1, 1, 1, 1, 1, 1, 1, 1, 1, 1, 1, 1, 1, 1, 1, 1, 1, 1, 1, 1, 1, 1, 1, 1, 1, 1, 1, 1, 1, 1, 1, 1, 1, 1, 1, 1, 1, 1, 1, 1, 1, 1, 1, 1, 1, 1, 1, 1, 1, 1, 1, 1, 1, 1, 1, 1, 1, 1, 1, 1, 1, 1, 1, 1, 1, 1, 1, 1, 1, 1, 1, 1, 1, 1, 1, 1, 1, 1, 1, 1, 1, 1, 1, 1, 1, 1, 1, 1, 1, 1, 1, 1, 1, 1, 1, 1, 1, 1, 1, 1, 1, 1, 1, 1, 1, 1, 1, 1, 1, 1, 1, 1, 1, 1, 1, 1, 1, 1, 1, 1, 1, 1, 1, 1, 1, 1, 1, 1, 1, 1, 1, 1, 1, 1, 1, 1, 1, 1, 1, 1, 1, 1, 1, 1, 1, 1, 1, 1, 1, 1, 1, 1, 1, 1, 1, 1, 1, 1, 1, 1, 1, 1, 1, 1, 1, 1, 1, 1, 1, 1, 1, 1, 1, 1, 1, 1, 1, 1, 1, 1, 1, 1, 1, 1, 1, 1, 1, 1, 1, 1, 1, 1, 1, 1, 1, 1, 1, 1, 1, 1, 1, 1, 1, 1, 1, 1, 1, 1, 1, 1, 1, 1, 1, 1, 1, 1, 1, 1, 1, 1, 1, 1, 1, 1, 1, 1, 1, 1, 1, 1, 1, 1, 1, 1, 1, 1, 1, 1, 1, 1, 1, 1, 1, 1, 1, 1, 1, 1, 1, 1, 1, 1, 1, 1, 1, 1, 1, 1, 1, 1, 1, 1, 1, 1, 1, 1, 1, 1, 1, 1, 1, 1, 1, 1, 1, 1, 1, 1, 1, 1, 1, 1, 1, 1, 1, 1, 1, 1, 1, 1, 1, 1, 1, 1, 1, 1, 1, 1, 1, 1, 1, 1, 1, 1, 1, 1, 1, 1, 1, 1, 1, 1, 1, 1, 1, 1, 1, 1, 1, 1, 1, 1, 1, 1, 1, 1, 1, 1, 1, 1, 1, 1, 1, 1, 1, 1, 1, 1, 1, 1, 1, 1, 1, 1, 1, 1, 1, 1, 1, 1, 1, 1, 1, 1, 1, 1, 1, 1, 1, 1, 1, 1, 1, 1, 1, 1, 1, 1, 1, 1, 1, 1, 1, 1, 1, 1, 1, 1, 1, 1, 1, 1, 1, 1, 1, 1, 1, 1, 1, 1, 1, 1, 1, 1, 1, 1, 1, 1, 1, 1], [1, 1, 1, 1, 1, 1, 1, 1, 1, 1, 1, 1, 1, 1, 1, 1, 1, 1, 1, 1, 1, 1, 1, 1, 1, 1, 1, 1, 1, 1, 1, 1, 1, 1, 1, 1, 1, 1, 1, 1, 1, 1, 1, 1, 1, 1, 1, 1, 1, 1, 1, 1, 1, 1, 1, 1, 1, 1, 1, 1, 1, 1, 1, 1, 1, 1, 1, 1, 1, 1, 1, 1, 1, 1, 1, 1, 1, 1, 1, 1, 1, 1, 1, 1, 1, 1, 1, 1, 1, 1, 1, 1, 1, 1, 1, 1, 1, 1, 1, 1, 1, 1, 1, 1, 1, 1, 1, 1, 1, 1, 1, 1, 1, 1, 1, 1, 1, 1, 1, 1, 1, 1, 1, 1, 1, 1, 1, 1, 1, 1, 1, 1, 1, 1, 1, 1, 1, 1, 1, 1, 1, 1, 1, 1, 1, 1, 1, 1, 1, 1, 1, 1, 1, 1, 1, 1, 1, 1, 1, 1, 1, 1, 1, 1, 1, 1, 1, 1, 1, 1, 1, 1, 1, 1, 1, 1, 1, 1, 1, 1, 1, 1, 1, 1, 1, 1, 1, 1, 1, 1, 1, 1, 1, 1]], 'labels': [[7433, 18, 413, 2673, 33, 6168, 640, 8, 12580, 17600, 7, 11, 970, 51, 89, 2593, 11, 10987, 32, 1343, 227, 18368, 2953, 57, 16133, 4937, 5, 1], [2759, 8548, 14264, 43, 118, 10932, 57, 1472, 16, 3, 9, 18024, 1584, 739, 3211, 16, 27874, 690, 2050, 5, 1]]}"
      ]
     },
     "execution_count": 26,
     "metadata": {},
     "output_type": "execute_result"
    }
   ],
   "source": [
    "preprocess_function(raw_datasets['train'][:2])"
   ]
  },
  {
   "attachments": {},
   "cell_type": "markdown",
   "metadata": {
    "id": "zS-6iXTkIrJT"
   },
   "source": [
    "To apply this function on all the pairs of sentences in our dataset, we just use the `map` method of our `dataset` object we created earlier. This will apply the function on all the elements of all the splits in `dataset`, so our training, validation and testing data will be preprocessed in one single command."
   ]
  },
  {
   "cell_type": "code",
   "execution_count": 27,
   "metadata": {
    "id": "DDtsaJeVIrJT",
    "outputId": "aa4734bf-4ef5-4437-9948-2c16363da719"
   },
   "outputs": [
    {
     "name": "stderr",
     "output_type": "stream",
     "text": [
      "WARNING:datasets.arrow_dataset:Loading cached processed dataset at /home/sudolife/.cache/huggingface/datasets/xsum/default/1.2.0/082863bf4754ee058a5b6f6525d0cb2b18eadb62c7b370b095d1364050a52b71/cache-c29884c8f95fd0b3.arrow\n",
      "WARNING:datasets.arrow_dataset:Loading cached processed dataset at /home/sudolife/.cache/huggingface/datasets/xsum/default/1.2.0/082863bf4754ee058a5b6f6525d0cb2b18eadb62c7b370b095d1364050a52b71/cache-c7c633359ea6092f.arrow\n",
      "WARNING:datasets.arrow_dataset:Loading cached processed dataset at /home/sudolife/.cache/huggingface/datasets/xsum/default/1.2.0/082863bf4754ee058a5b6f6525d0cb2b18eadb62c7b370b095d1364050a52b71/cache-e1e5d997fb514ab9.arrow\n"
     ]
    }
   ],
   "source": [
    "tokenized_datasets = raw_datasets.map(preprocess_function, batched=True)"
   ]
  },
  {
   "attachments": {},
   "cell_type": "markdown",
   "metadata": {
    "id": "voWiw8C7IrJV"
   },
   "source": [
    "Even better, the results are automatically cached by the 🤗 Datasets library to avoid spending time on this step the next time you run your notebook. The 🤗 Datasets library is normally smart enough to detect when the function you pass to map has changed (and thus requires to not use the cache data). For instance, it will properly detect if you change the task in the first cell and rerun the notebook. 🤗 Datasets warns you when it uses cached files, you can pass `load_from_cache_file=False` in the call to `map` to not use the cached files and force the preprocessing to be applied again.\n",
    "\n",
    "Note that we passed `batched=True` to encode the texts by batches together. This is to leverage the full benefit of the fast tokenizer we loaded earlier, which will use multi-threading to treat the texts in a batch concurrently."
   ]
  },
  {
   "attachments": {},
   "cell_type": "markdown",
   "metadata": {
    "id": "545PP3o8IrJV"
   },
   "source": [
    "## Fine-tuning the model"
   ]
  },
  {
   "attachments": {},
   "cell_type": "markdown",
   "metadata": {
    "id": "FBiW8UpKIrJW"
   },
   "source": [
    "Now that our data is ready, we can download the pretrained model and fine-tune it. Since our task is of the sequence-to-sequence kind, we use the `AutoModelForSeq2SeqLM` class. Like with the tokenizer, the `from_pretrained` method will download and cache the model for us."
   ]
  },
  {
   "cell_type": "code",
   "execution_count": 28,
   "metadata": {
    "id": "TlqNaB8jIrJW",
    "outputId": "84916cf3-6e6c-47f3-d081-032ec30a4132"
   },
   "outputs": [],
   "source": [
    "from transformers import AutoModelForSeq2SeqLM, DataCollatorForSeq2Seq, Seq2SeqTrainingArguments, Seq2SeqTrainer\n",
    "\n",
    "model = AutoModelForSeq2SeqLM.from_pretrained(model_checkpoint)"
   ]
  },
  {
   "cell_type": "code",
   "execution_count": null,
   "metadata": {},
   "outputs": [],
   "source": []
  },
  {
   "attachments": {},
   "cell_type": "markdown",
   "metadata": {
    "id": "CczA5lJlIrJX"
   },
   "source": [
    "Note that  we don't get a warning like in our classification example. This means we used all the weights of the pretrained model and there is no randomly initialized head in this case."
   ]
  },
  {
   "attachments": {},
   "cell_type": "markdown",
   "metadata": {
    "id": "_N8urzhyIrJY"
   },
   "source": [
    "To instantiate a `Seq2SeqTrainer`, we will need to define three more things. The most important is the [`Seq2SeqTrainingArguments`](https://huggingface.co/transformers/main_classes/trainer.html#transformers.Seq2SeqTrainingArguments), which is a class that contains all the attributes to customize the training. It requires one folder name, which will be used to save the checkpoints of the model, and all other arguments are optional:"
   ]
  },
  {
   "cell_type": "code",
   "execution_count": 30,
   "metadata": {},
   "outputs": [],
   "source": [
    "batch_size = 16\n",
    "model_name = model_checkpoint.split(\"/\")[-1]\n",
    "args = Seq2SeqTrainingArguments(\n",
    "    f\"{model_name}-finetuned-xsum\",\n",
    "    evaluation_strategy = \"epoch\",\n",
    "    learning_rate=2e-5,\n",
    "    per_device_train_batch_size=batch_size,\n",
    "    per_device_eval_batch_size=batch_size,\n",
    "    weight_decay=0.01,\n",
    "    save_total_limit=3,\n",
    "    num_train_epochs=1,\n",
    "    predict_with_generate=True,\n",
    "    fp16=True,\n",
    "    push_to_hub=True,\n",
    ")"
   ]
  },
  {
   "attachments": {},
   "cell_type": "markdown",
   "metadata": {
    "id": "km3pGVdTIrJc"
   },
   "source": [
    "Here we set the evaluation to be done at the end of each epoch, tweak the learning rate, use the `batch_size` defined at the top of the cell and customize the weight decay. Since the `Seq2SeqTrainer` will save the model regularly and our dataset is quite large, we tell it to make three saves maximum. Lastly, we use the `predict_with_generate` option (to properly generate summaries) and activate mixed precision training (to go a bit faster).\n",
    "\n",
    "The last argument to setup everything so we can push the model to the [Hub](https://huggingface.co/models) regularly during training. Remove it if you didn't follow the installation steps at the top of the notebook. If you want to save your model locally in a name that is different than the name of the repository it will be pushed, or if you want to push your model under an organization and not your name space, use the `hub_model_id` argument to set the repo name (it needs to be the full name, including your namespace: for instance `\"sgugger/t5-finetuned-xsum\"` or `\"huggingface/t5-finetuned-xsum\"`).\n",
    "\n",
    "Then, we need a special kind of data collator, which will not only pad the inputs to the maximum length in the batch, but also the labels:"
   ]
  },
  {
   "cell_type": "code",
   "execution_count": 31,
   "metadata": {},
   "outputs": [],
   "source": [
    "data_collator = DataCollatorForSeq2Seq(tokenizer, model=model)"
   ]
  },
  {
   "attachments": {},
   "cell_type": "markdown",
   "metadata": {
    "id": "7sZOdRlRIrJd"
   },
   "source": [
    "The last thing to define for our `Seq2SeqTrainer` is how to compute the metrics from the predictions. We need to define a function for this, which will just use the `metric` we loaded earlier, and we have to do a bit of pre-processing to decode the predictions into texts:"
   ]
  },
  {
   "cell_type": "code",
   "execution_count": 33,
   "metadata": {
    "id": "UmvbnJ9JIrJd"
   },
   "outputs": [],
   "source": [
    "import nltk\n",
    "import numpy as np\n",
    "\n",
    "def compute_metrics(eval_pred):\n",
    "    predictions, labels = eval_pred\n",
    "    decoded_preds = tokenizer.batch_decode(predictions, skip_special_tokens=True)\n",
    "    # Replace -100 in the labels as we can't decode them.\n",
    "    labels = np.where(labels != -100, labels, tokenizer.pad_token_id)\n",
    "    decoded_labels = tokenizer.batch_decode(labels, skip_special_tokens=True)\n",
    "    \n",
    "    # Rouge expects a newline after each sentence\n",
    "    decoded_preds = [\"\\n\".join(nltk.sent_tokenize(pred.strip())) for pred in decoded_preds]\n",
    "    decoded_labels = [\"\\n\".join(nltk.sent_tokenize(label.strip())) for label in decoded_labels]\n",
    "    \n",
    "    # Note that other metrics may not have a `use_aggregator` parameter\n",
    "    # and thus will return a list, computing a metric for each sentence.\n",
    "    result = metric.compute(predictions=decoded_preds, references=decoded_labels, use_stemmer=True, use_aggregator=True)\n",
    "    # Extract a few results\n",
    "    result = {key: value * 100 for key, value in result.items()}\n",
    "    \n",
    "    # Add mean generated length\n",
    "    prediction_lens = [np.count_nonzero(pred != tokenizer.pad_token_id) for pred in predictions]\n",
    "    result[\"gen_len\"] = np.mean(prediction_lens)\n",
    "    \n",
    "    return {k: round(v, 4) for k, v in result.items()}"
   ]
  },
  {
   "attachments": {},
   "cell_type": "markdown",
   "metadata": {
    "id": "rXuFTAzDIrJe"
   },
   "source": [
    "Then we just need to pass all of this along with our datasets to the `Seq2SeqTrainer`:"
   ]
  },
  {
   "cell_type": "code",
   "execution_count": null,
   "metadata": {
    "id": "imY1oC3SIrJf"
   },
   "outputs": [],
   "source": [
    "trainer = Seq2SeqTrainer(\n",
    "    model,\n",
    "    args,\n",
    "    train_dataset=tokenized_datasets[\"train\"],\n",
    "    eval_dataset=tokenized_datasets[\"validation\"],\n",
    "    data_collator=data_collator,\n",
    "    tokenizer=tokenizer,\n",
    "    compute_metrics=compute_metrics\n",
    ")"
   ]
  },
  {
   "attachments": {},
   "cell_type": "markdown",
   "metadata": {
    "id": "CdzABDVcIrJg"
   },
   "source": [
    "We can now finetune our model by just calling the `train` method:"
   ]
  },
  {
   "cell_type": "code",
   "execution_count": null,
   "metadata": {
    "id": "uNx5pyRlIrJh",
    "outputId": "077e661e-d36c-469b-89b8-7ff7f73541ec"
   },
   "outputs": [
    {
     "data": {
      "text/html": [
       "\n",
       "    <div>\n",
       "        <style>\n",
       "            /* Turns off some styling */\n",
       "            progress {\n",
       "                /* gets rid of default border in Firefox and Opera. */\n",
       "                border: none;\n",
       "                /* Needs to be in here for Safari polyfill so background images work as expected. */\n",
       "                background-size: auto;\n",
       "            }\n",
       "        </style>\n",
       "      \n",
       "      <progress value='12753' max='12753' style='width:300px; height:20px; vertical-align: middle;'></progress>\n",
       "      [12753/12753 1:21:48, Epoch 1/1]\n",
       "    </div>\n",
       "    <table border=\"1\" class=\"dataframe\">\n",
       "  <thead>\n",
       "    <tr style=\"text-align: left;\">\n",
       "      <th>Epoch</th>\n",
       "      <th>Training Loss</th>\n",
       "      <th>Validation Loss</th>\n",
       "      <th>Rouge1</th>\n",
       "      <th>Rouge2</th>\n",
       "      <th>Rougel</th>\n",
       "      <th>Rougelsum</th>\n",
       "      <th>Gen Len</th>\n",
       "      <th>Runtime</th>\n",
       "      <th>Samples Per Second</th>\n",
       "    </tr>\n",
       "  </thead>\n",
       "  <tbody>\n",
       "    <tr>\n",
       "      <td>1</td>\n",
       "      <td>2.721100</td>\n",
       "      <td>2.479327</td>\n",
       "      <td>28.300900</td>\n",
       "      <td>7.721100</td>\n",
       "      <td>22.243000</td>\n",
       "      <td>22.249600</td>\n",
       "      <td>18.822500</td>\n",
       "      <td>326.333800</td>\n",
       "      <td>34.725000</td>\n",
       "    </tr>\n",
       "  </tbody>\n",
       "</table><p>"
      ],
      "text/plain": [
       "<IPython.core.display.HTML object>"
      ]
     },
     "metadata": {},
     "output_type": "display_data"
    },
    {
     "data": {
      "text/plain": [
       "TrainOutput(global_step=12753, training_loss=2.7692033505520146, metrics={'train_runtime': 4909.3835, 'train_samples_per_second': 2.598, 'total_flos': 7.774481450954342e+16, 'epoch': 1.0, 'init_mem_cpu_alloc_delta': 335248, 'init_mem_gpu_alloc_delta': 242026496, 'init_mem_cpu_peaked_delta': 18306, 'init_mem_gpu_peaked_delta': 0, 'train_mem_cpu_alloc_delta': 2637782, 'train_mem_gpu_alloc_delta': 728138240, 'train_mem_cpu_peaked_delta': 138226182, 'train_mem_gpu_peaked_delta': 14677017088})"
      ]
     },
     "execution_count": null,
     "metadata": {},
     "output_type": "execute_result"
    }
   ],
   "source": [
    "trainer.train()"
   ]
  },
  {
   "attachments": {},
   "cell_type": "markdown",
   "metadata": {},
   "source": [
    "You can now upload the result of the training to the Hub, just execute this instruction:"
   ]
  },
  {
   "cell_type": "code",
   "execution_count": null,
   "metadata": {},
   "outputs": [],
   "source": [
    "trainer.push_to_hub()"
   ]
  },
  {
   "attachments": {},
   "cell_type": "markdown",
   "metadata": {},
   "source": [
    "You can now share this model with all your friends, family, favorite pets: they can all load it with the identifier `\"your-username/the-name-you-picked\"` so for instance:\n",
    "\n",
    "```python\n",
    "from transformers import AutoModelForSeq2SeqLM\n",
    "\n",
    "model = AutoModelForSeq2SeqLM.from_pretrained(\"sgugger/my-awesome-model\")\n",
    "```"
   ]
  },
  {
   "cell_type": "code",
   "execution_count": 2,
   "metadata": {},
   "outputs": [
    {
     "name": "stderr",
     "output_type": "stream",
     "text": [
      "Your max_length is set to 200, but your input_length is only 68. Since this is a summarization task, where outputs shorter than the input are typically wanted, you might consider decreasing max_length manually, e.g. summarizer('...', max_length=34)\n"
     ]
    },
    {
     "name": "stdout",
     "output_type": "stream",
     "text": [
      "0:Purdue President Mung Chiang’s end-of-year wrap-up on university successes\n",
      "1:CHL program focuses on taking control of Type 2 diabetes, prediabetes; register by Jan. 10\n"
     ]
    },
    {
     "name": "stderr",
     "output_type": "stream",
     "text": [
      "Your max_length is set to 200, but your input_length is only 191. Since this is a summarization task, where outputs shorter than the input are typically wanted, you might consider decreasing max_length manually, e.g. summarizer('...', max_length=95)\n"
     ]
    },
    {
     "name": "stdout",
     "output_type": "stream",
     "text": [
      "2:Stay safe and injury-free this winter: Top tips for preventing falls and walking safely\n",
      "3:Employees can now connect with their Purdue Retirement Program on Fidelity NetBenefits\n",
      "4:Virtual HealthKick program focuses on physical activity, nutrition, more; register by Jan. 3\n"
     ]
    },
    {
     "name": "stderr",
     "output_type": "stream",
     "text": [
      "Your max_length is set to 200, but your input_length is only 65. Since this is a summarization task, where outputs shorter than the input are typically wanted, you might consider decreasing max_length manually, e.g. summarizer('...', max_length=32)\n"
     ]
    },
    {
     "name": "stdout",
     "output_type": "stream",
     "text": [
      "5:Purdue reputation in space brings better understanding of the stars, planets and everything in between\n",
      "6:ADP W-2 location change in SuccessFactors\n",
      "7:Purdue receives $25 million grant from Lilly Endowment\n",
      "8:Purdue University’s top media stories of 2023\n",
      "9:Racing executives cite critical workforce need during visit to Purdue University in Indianapolis\n"
     ]
    },
    {
     "name": "stderr",
     "output_type": "stream",
     "text": [
      "Your max_length is set to 200, but your input_length is only 197. Since this is a summarization task, where outputs shorter than the input are typically wanted, you might consider decreasing max_length manually, e.g. summarizer('...', max_length=98)\n"
     ]
    },
    {
     "name": "stdout",
     "output_type": "stream",
     "text": [
      "10:Appointments, honors and activities\n",
      "11:One Hour with HR sessions continue with Communication and Coaching\n",
      "12:Medical ID cards to arrive in early January for those who elected new health plans, changed coverages, etc.\n",
      "13:Purdue United Way hosts victory celebration for successful 2023 campaign\n",
      "14:Parking reminders for upcoming home basketball games\n",
      "15:Office of Future Engineers’ Lindsay Elias receives 2023 Martin Award\n",
      "16:This week’s ‘Thumbs Up’ recipients\n"
     ]
    },
    {
     "name": "stderr",
     "output_type": "stream",
     "text": [
      "Your max_length is set to 200, but your input_length is only 170. Since this is a summarization task, where outputs shorter than the input are typically wanted, you might consider decreasing max_length manually, e.g. summarizer('...', max_length=85)\n"
     ]
    },
    {
     "name": "stdout",
     "output_type": "stream",
     "text": [
      "17:2024 Annual Distinguished Purdue Alumni Scholars call for nominations\n",
      "18:Most parking garage top levels to be closed Dec. 18-Jan. 7\n",
      "19:New Multidisciplinary and Professional Studies course leverages AI, other digital tools to advance people’s writing skills\n",
      "20:Ken Foster announced as the 2023 Hovde Award recipient\n",
      "21:How sustainable tape can solve sticky recycling issues — new video posted to AP Newsroom\n",
      "22:Momentous small steps to giant leaps: Purdue celebrates 3,500 winter 2023 graduates\n",
      "23:Plant metabolism proves more complicated than previously understood\n",
      "24:Campus building access and operational adjustments through Jan. 1\n",
      "25:Provost event honors Purdue faculty for their many years of service\n",
      "26:Winter break vehicle storage available for faculty, staff\n",
      "27:Fueling advanced manufacturing growth across Indiana’s Hard-Tech Corridor: Reimagine IN-MaC through Purdue in West Lafayette and Indianapolis\n",
      "28:Graduating Purdue senior channels entrepreneurial mindset to propel growth, success in her hometown\n",
      "29:Purdue Global military-affiliated students, staff share success stories on ‘Military Makeover: Operation Career’\n",
      "30:Purdue University Online seeks nominations for 2024 Awards for Excellence in Online Education\n"
     ]
    },
    {
     "name": "stderr",
     "output_type": "stream",
     "text": [
      "Your max_length is set to 200, but your input_length is only 128. Since this is a summarization task, where outputs shorter than the input are typically wanted, you might consider decreasing max_length manually, e.g. summarizer('...', max_length=64)\n"
     ]
    },
    {
     "name": "stdout",
     "output_type": "stream",
     "text": [
      "31:Today’s top 5 from Purdue University\n",
      "32:Purdue invites high school students to virtual Women in Engineering presentation\n",
      "33:Staff Excellence: Purdue University Police Department\n",
      "34:Preeti Sivasankar: ‘Can You Protect Your Voice? Physiological Investigations From Rats to Humans’\n",
      "35:Advanced practice registered nurses adapt to expanded telehealth use during and after pandemic\n"
     ]
    },
    {
     "name": "stderr",
     "output_type": "stream",
     "text": [
      "Your max_length is set to 200, but your input_length is only 139. Since this is a summarization task, where outputs shorter than the input are typically wanted, you might consider decreasing max_length manually, e.g. summarizer('...', max_length=69)\n"
     ]
    },
    {
     "name": "stdout",
     "output_type": "stream",
     "text": [
      "36:Purdue Global honors faculty, staff with Distinction Awards\n",
      "37:Are electric VTOL aircraft the future of urban mobility? It all depends on the batteries\n",
      "38:USDA determines Insignum AgTech corn plants can be sold and grown without restriction\n",
      "39:National policy aimed at reducing U.S. greenhouse gases also would improve water quality\n"
     ]
    },
    {
     "name": "stderr",
     "output_type": "stream",
     "text": [
      "Your max_length is set to 200, but your input_length is only 109. Since this is a summarization task, where outputs shorter than the input are typically wanted, you might consider decreasing max_length manually, e.g. summarizer('...', max_length=54)\n"
     ]
    },
    {
     "name": "stdout",
     "output_type": "stream",
     "text": [
      "40:National Academy of Inventors names three Purdue faculty as 2023 fellows\n",
      "41:Save the date for Health Equity Summit on Feb. 29\n"
     ]
    },
    {
     "name": "stderr",
     "output_type": "stream",
     "text": [
      "Your max_length is set to 200, but your input_length is only 147. Since this is a summarization task, where outputs shorter than the input are typically wanted, you might consider decreasing max_length manually, e.g. summarizer('...', max_length=73)\n"
     ]
    },
    {
     "name": "stdout",
     "output_type": "stream",
     "text": [
      "42:Daniels’ Purdue legacy honored at bust unveiling ceremony\n",
      "43:President Chiang to hold virtual Faculty and Staff Year-End Town Hall\n",
      "44:Westwood Lecture Series spring lineup released\n",
      "45:Star of wonder: Dazzling new image of supernova Cassiopeia A released by First Lady Jill Biden and Purdue astronomer\n"
     ]
    },
    {
     "name": "stderr",
     "output_type": "stream",
     "text": [
      "Your max_length is set to 200, but your input_length is only 53. Since this is a summarization task, where outputs shorter than the input are typically wanted, you might consider decreasing max_length manually, e.g. summarizer('...', max_length=26)\n"
     ]
    },
    {
     "name": "stdout",
     "output_type": "stream",
     "text": [
      "46:This week’s ‘Thumbs Up’ recipients\n",
      "47:Purdue Today announces semester break schedule\n",
      "48:Employees should update address information ahead of tax form distribution\n",
      "49:Purdue Global Law School launches AI course\n",
      "50:European technology leader imec opens innovation hub at Purdue\n",
      "51:Purdue trustees approve plans for Mitchell E. Daniels, Jr. School of Business building, endorse 13th consecutive tuition freeze, ratify appointment of next chancellor of Purdue University Northwest\n"
     ]
    },
    {
     "name": "stderr",
     "output_type": "stream",
     "text": [
      "Your max_length is set to 200, but your input_length is only 74. Since this is a summarization task, where outputs shorter than the input are typically wanted, you might consider decreasing max_length manually, e.g. summarizer('...', max_length=37)\n"
     ]
    },
    {
     "name": "stdout",
     "output_type": "stream",
     "text": [
      "52:University raises stipend minimum again for PhD students\n"
     ]
    },
    {
     "name": "stderr",
     "output_type": "stream",
     "text": [
      "Your max_length is set to 200, but your input_length is only 74. Since this is a summarization task, where outputs shorter than the input are typically wanted, you might consider decreasing max_length manually, e.g. summarizer('...', max_length=37)\n"
     ]
    },
    {
     "name": "stdout",
     "output_type": "stream",
     "text": [
      "53:Board of Trustees meeting set for Friday; special issue of Purdue Today to follow\n"
     ]
    },
    {
     "name": "stderr",
     "output_type": "stream",
     "text": [
      "Your max_length is set to 200, but your input_length is only 148. Since this is a summarization task, where outputs shorter than the input are typically wanted, you might consider decreasing max_length manually, e.g. summarizer('...', max_length=74)\n"
     ]
    },
    {
     "name": "stdout",
     "output_type": "stream",
     "text": [
      "54:Board of Trustees meeting set for Friday; special issue of Purdue Today to follow\n",
      "55:Travel ADA accommodation process change to take effect Jan. 1\n",
      "56:Purdue trustees approve Daniels School building construction\n",
      "57:Purdue University names Chris Holford as next chancellor of Purdue University Northwest\n",
      "58:Purdue trustees ratify faculty, staff positions; award posthumous degree; approve new degree programs, resolutions of appreciation and namings\n",
      "59:Purdue trustees endorse 13th consecutive tuition freeze; approve updated housing, dining plans\n",
      "60:Mercy Medical Center Cedar Rapids joins educational alliance with Purdue Global\n",
      "61:Commercial air service returns to Purdue University Airport\n",
      "62:Provost announces leadership appointments, updates on searches\n",
      "63:Today’s top 5 from Purdue University\n",
      "64:Staff Excellence: Payroll and Tax Services\n",
      "65:New faculty activity reporting system, Elements, launching in January\n",
      "66:Research team explores genomic options to enhance honeybee resilience\n",
      "67:Reimagining higher education with empathy, equity and belonging are key components for success, says Purdue Global chief diversity officer\n",
      "68:Healthy Boiler workshop to address grief, stress during holidays — additional resources available\n",
      "69:Purdue drafts guidance on AI use in teaching and learning\n",
      "70:WGHI ‘Leading the Way’ interview: Wellesley College President Paula Johnson\n",
      "71:Purdue University Police Department welcomes two new officers with official swearing-in ceremony\n",
      "72:Purdue’s new institute for advanced system integration and packaging honors Boilermaker and innovative visionary in semiconductors\n",
      "73:Purdue University wins patent infringement lawsuit against STMicroelectronics\n",
      "74:Purdue to recognize faculty and staff with complimentary tickets to Dec. 20 women’s basketball game\n",
      "75:Purdue community invited to join ‘Host-A-Boiler’ during winter recess\n",
      "76:Discovery points to new approach to treating liver cancer\n",
      "77:This week’s ‘Thumbs Up’ recipients\n",
      "78:Purdue Global signs educational partnership with Epic Flight Academy, celebrates student scholarship recipients\n",
      "79:Purdue Global advances in Military Times’ 2023 Best for Vets rankings\n",
      "80:‘Body internet’ may eliminate the need for smartphones by changing how we use technology\n",
      "81:Showalter Trust adds three faculty honorees, funds 12 early career faculty\n",
      "82:Leadership personnel updates announced\n"
     ]
    },
    {
     "name": "stderr",
     "output_type": "stream",
     "text": [
      "Your max_length is set to 200, but your input_length is only 139. Since this is a summarization task, where outputs shorter than the input are typically wanted, you might consider decreasing max_length manually, e.g. summarizer('...', max_length=69)\n"
     ]
    },
    {
     "name": "stdout",
     "output_type": "stream",
     "text": [
      "83:Purdue University Police Department earns reaccreditation for upholding best practices, professional standards\n",
      "84:Nominations sought for Purdue Dreamer Award\n",
      "85:Reminder: 2023 winter recess\n",
      "86:In Print: ‘Sparse Graphical Modeling for High Dimensional Data’\n",
      "87:University announces additional details on employee recognition plan\n",
      "88:Today’s top 5 from Purdue University\n",
      "89:Appointments, honors and activities\n",
      "90:Follow Purdue police on X/Twitter for valuable updates, resources\n",
      "91:Purdue establishes an international footprint in chip technology and workforce innovation\n",
      "92:Registration open for Dec. 13 Westwood Lecture on voice disorders and voice health\n",
      "93:Researchers look to the human eye to boost computer vision efficiency\n",
      "94:Purdue Journal of Service-Learning and International Engagement now accepting student-authored submissions\n",
      "95:Purdue University to offer Google Career Certificates for learning in-demand tech skills\n",
      "96:Purdue IoT software platform uses gaming to motivate energy-efficient behaviors in residential communities\n",
      "97:Purdue increases funding, expands programs devoted to campus mental health and wellness services for students, staff, faculty\n",
      "98:Purdue laser innovations unleash precision, potential in laser-material interactions\n",
      "99:Gen. David Thompson, vice chief of the U.S. Space Force and Purdue alum, to give winter commencement address\n",
      "100:Purdue Polytechnic to dedicate nation’s largest smart manufacturing ecosystem for engineering technology\n",
      "101:Combined microbiome datasets yield accurate prediction of animal ages\n",
      "102:Thumbs Up\n",
      "103:Study: Hair care product chemicals can linger in the air in surprising amounts\n",
      "104:Employee feedback requested via survey on open enrollment, wellness offerings; respond by Dec. 15\n",
      "105:Purdue United Way surpasses campaign goal, applauds Boilermakers’ efforts\n",
      "106:Upcoming Healthy Boiler workshop focuses on ‘Art of Kindness’\n",
      "107:Action Council on Student Housing and Wellbeing invites suggestions on transportation and pedestrian safety\n",
      "108:‘How to Get Your Book Published’ event to highlight tips, tricks and best practices\n",
      "109:Thumbs Up\n",
      "110:Purdue Global faculty member summits Mount Kilimanjaro, inspiring others to complete their own journeys\n",
      "111:MaPSAC awards professional development grants to 19 employees\n"
     ]
    },
    {
     "name": "stderr",
     "output_type": "stream",
     "text": [
      "Your max_length is set to 200, but your input_length is only 75. Since this is a summarization task, where outputs shorter than the input are typically wanted, you might consider decreasing max_length manually, e.g. summarizer('...', max_length=37)\n"
     ]
    },
    {
     "name": "stdout",
     "output_type": "stream",
     "text": [
      "112:Women in Engineering Program to host free Introduce a Girl to Engineering Day\n",
      "113:University Senate meeting set for Monday\n",
      "114:Graduate students in Daniels Business School’s business analytics program learn data-driven decision-making\n",
      "115:Purdue students’ international education opportunities abound abroad\n",
      "116:Purdue part of new international video project exploring climate change as a health crisis\n",
      "117:Arizona company acquires patented, soy-based concrete protectant developed in Indiana\n",
      "118:Edward Delp: ‘Deepfakes and Other Types of Generated and Manipulated Media: It Is Real and Coming for Our Society!’\n",
      "119:Today’s top 5 from Purdue University\n",
      "120:Purdue reminds agricultural employers of their responsibilities when hiring youth workers\n",
      "121:The mind’s eye of a neural network system\n",
      "122:Fulbright Program opens doors internationally for Purdue scholars, students\n",
      "123:New faculty reporting tool, Elements, implementation update\n",
      "124:Manning Regional Healthcare Center joins educational alliance with Purdue Global\n",
      "125:Staff Excellence: Human Resources — Benefits\n"
     ]
    },
    {
     "name": "stderr",
     "output_type": "stream",
     "text": [
      "Your max_length is set to 200, but your input_length is only 78. Since this is a summarization task, where outputs shorter than the input are typically wanted, you might consider decreasing max_length manually, e.g. summarizer('...', max_length=39)\n"
     ]
    },
    {
     "name": "stdout",
     "output_type": "stream",
     "text": [
      "126:2023 Outstanding Leadership in Globalization Award winners announced; nominations sought for 2024\n",
      "127:Purdue WL community: Adverse winter weather procedures\n",
      "128:’Tis the season for holiday budgeting stress, anxiety, more; resources available to help\n",
      "129:AI knows the score — and it could help instrumentalists make beautiful music\n",
      "130:Distinguished and Named Professorship Ceremony honors faculty, administrators\n",
      "131:Purdue-led national summit issues call to action for resilient U.S. supply chains\n",
      "132:Report ranks Purdue among top 10 universities for international student enrollment\n"
     ]
    },
    {
     "name": "stderr",
     "output_type": "stream",
     "text": [
      "Your max_length is set to 200, but your input_length is only 48. Since this is a summarization task, where outputs shorter than the input are typically wanted, you might consider decreasing max_length manually, e.g. summarizer('...', max_length=24)\n"
     ]
    },
    {
     "name": "stdout",
     "output_type": "stream",
     "text": [
      "133:Purdue Memorial Union to celebrate holiday season\n",
      "134:Purdue Today schedule for Thanksgiving break\n",
      "135:Purdue students win monetary prizes for innovative solutions to global problems during Moonshot Pitch Challenge\n",
      "136:Purdue Global law degree allows insurance executive to take next career steps\n",
      "137:Purdue pharmaceutical compound sounds the alarm on cancer cells and unleashes T cells\n",
      "138:International Education Week to feature International Research Speakers Series\n",
      "139:Red Arrow Flight Academy partners with Purdue Global to address projected demand for aviation professionals\n",
      "140:Thumbs Up\n",
      "141:Groundbreaking launches a giant leap in nursing and pharmacy education\n",
      "142:Purdue helps put Indiana on the map in national security\n",
      "143:New seed administrator appointed to Indiana State Chemist office\n",
      "144:Inaugural Entrepreneurial Alumni Reunion at Purdue University kicks off\n"
     ]
    },
    {
     "name": "stderr",
     "output_type": "stream",
     "text": [
      "Your max_length is set to 200, but your input_length is only 177. Since this is a summarization task, where outputs shorter than the input are typically wanted, you might consider decreasing max_length manually, e.g. summarizer('...', max_length=88)\n"
     ]
    },
    {
     "name": "stdout",
     "output_type": "stream",
     "text": [
      "145:Head of psychological sciences named associate vice provost for Indianapolis\n",
      "146:Purdue to hold events as part of International Education Week on Nov. 13-17\n",
      "147:Veterans Day: Purdue Global faculty, student reflect on their military service\n",
      "148:She’s on it: Josefine Eskildsen is rapidly rising up the racing ranks\n",
      "149:Purdue Global unveils new simulation center and growing partnership with CHI Health\n",
      "150:Chipshub: An online platform for everything semiconductors\n"
     ]
    },
    {
     "name": "stderr",
     "output_type": "stream",
     "text": [
      "Your max_length is set to 200, but your input_length is only 146. Since this is a summarization task, where outputs shorter than the input are typically wanted, you might consider decreasing max_length manually, e.g. summarizer('...', max_length=73)\n"
     ]
    },
    {
     "name": "stdout",
     "output_type": "stream",
     "text": [
      "151:Today’s top 5 from Purdue University\n"
     ]
    },
    {
     "name": "stderr",
     "output_type": "stream",
     "text": [
      "Your max_length is set to 200, but your input_length is only 133. Since this is a summarization task, where outputs shorter than the input are typically wanted, you might consider decreasing max_length manually, e.g. summarizer('...', max_length=66)\n"
     ]
    },
    {
     "name": "stdout",
     "output_type": "stream",
     "text": [
      "152:Nominations sought for Purdue University Dreamer Award\n",
      "153:Semiconductor Week 2023 brings top industry officials to campus\n",
      "154:Concord Law School officially renamed Purdue Global Law School\n",
      "155:Judges sought for Fall Undergraduate Research Expo; presentation schedule available\n",
      "156:Judges sought for Fall Undergraduate Research Expo; presentation schedule available\n",
      "157:Butler Center accepting applications for new faculty mentoring program\n",
      "158:Applications sought for Mortar Board’s Class of 2025\n",
      "159:In Print: ‘Intermittent Convex Integration for the 3D Euler Equations’\n",
      "160:Purdue United Way campaign still needs pledges to reach goal\n",
      "161:Purdue sensors measure uric acid levels better than other noninvasive methods\n",
      "162:Purdue Global honors 22 students with First-Generation College Student Scholarships\n"
     ]
    },
    {
     "name": "stderr",
     "output_type": "stream",
     "text": [
      "Your max_length is set to 200, but your input_length is only 166. Since this is a summarization task, where outputs shorter than the input are typically wanted, you might consider decreasing max_length manually, e.g. summarizer('...', max_length=83)\n"
     ]
    },
    {
     "name": "stdout",
     "output_type": "stream",
     "text": [
      "163:Deadline approaching: Nominations for Purdue’s Distinguished Research Awards\n",
      "164:CILMAR accepting applications for seed grant program\n",
      "165:Provost launches advisory committee; first meeting convenes today\n",
      "166:Provost launches advisory committee; first meeting convenes today\n",
      "167:Former World Bank president to join Purdue University and its Daniels School of Business\n",
      "168:Today is the last day to enroll for 2024 benefits; deadline is 6 p.m. ET\n",
      "169:Purdue marketing leaders to share insights on Purdue Global’s brand building at Ad Age’s ‘Business of Brands’ event in New York City\n",
      "170:Purdue and leading companies chart a taxonomy of 6G technologies\n",
      "171:Save time, stay on message: Use Purdue-branded communication resources\n",
      "172:Community invited to join ‘Host-a-Boiler’ during Thanksgiving break\n",
      "173:Open enrollment for 2024 benefits ends tomorrow (Nov. 7) at 6 p.m. ET\n",
      "174:Thumbs Up\n",
      "175:Experiment shows biological interactions of microplastics in watery environment\n",
      "176:Daylight saving time ends Sunday\n",
      "177:PhD student focuses education research on misinformation, media literacy and AI, drawing from experiences as schoolteacher, journalist\n",
      "178:Purdue honors researchers with Seed for Success Acorn Awards\n",
      "179:Purdue Global first-generation students create educational definitions dictionary to help navigate school\n",
      "180:Registration available for Nov. 16 Westwood Lecture on ‘Deepfakes and Other Types of Generated and Manipulated Media’\n",
      "181:Life and Health Sciences Summit opens new opportunities for Purdue researchers\n",
      "182:Upcoming Healthy Boiler workshop focuses on staying active indoors\n",
      "183:Braden chosen as next vice president and CMO at Texas A&M\n",
      "184:Office of Service-Learning invites applications for the semester-long spring 2024 Service-Learning Fellows Program\n",
      "185:Today’s top 5 from Purdue University\n",
      "186:Purdue GIS Day Conference set for Nov. 9\n",
      "187:PUPD, PUFD to offer active threat and Stop the Bleed trainings in November\n"
     ]
    },
    {
     "name": "stderr",
     "output_type": "stream",
     "text": [
      "Your max_length is set to 200, but your input_length is only 95. Since this is a summarization task, where outputs shorter than the input are typically wanted, you might consider decreasing max_length manually, e.g. summarizer('...', max_length=47)\n"
     ]
    },
    {
     "name": "stdout",
     "output_type": "stream",
     "text": [
      "188:Policy updates for November\n",
      "189:Institute for Physical Artificial Intelligence town hall held\n",
      "190:Indy leader Evan Hawkins named senior director for administrative operations for Purdue University in Indianapolis\n",
      "191:Science enabling heat and air conditioning for long-term space habitats is almost fully available\n"
     ]
    },
    {
     "name": "stderr",
     "output_type": "stream",
     "text": [
      "Your max_length is set to 200, but your input_length is only 196. Since this is a summarization task, where outputs shorter than the input are typically wanted, you might consider decreasing max_length manually, e.g. summarizer('...', max_length=98)\n"
     ]
    },
    {
     "name": "stdout",
     "output_type": "stream",
     "text": [
      "192:Open enrollment for 2024 benefits ends Tuesday; enroll by 6 p.m. ET Nov. 7\n",
      "193:One Hour with HR to focus on leaves, related leave processes in upcoming sessions\n"
     ]
    },
    {
     "name": "stderr",
     "output_type": "stream",
     "text": [
      "Your max_length is set to 200, but your input_length is only 103. Since this is a summarization task, where outputs shorter than the input are typically wanted, you might consider decreasing max_length manually, e.g. summarizer('...', max_length=51)\n"
     ]
    },
    {
     "name": "stdout",
     "output_type": "stream",
     "text": [
      "194:Mental health, diabetes can impact each other; resources available to help\n",
      "195:Indy leader Evan Hawkins named senior director for administrative operations for Purdue University in Indianapolis\n",
      "196:Purdue engineer works to improve formulation of RNA-based pharmaceuticals\n"
     ]
    },
    {
     "name": "stderr",
     "output_type": "stream",
     "text": [
      "Your max_length is set to 200, but your input_length is only 57. Since this is a summarization task, where outputs shorter than the input are typically wanted, you might consider decreasing max_length manually, e.g. summarizer('...', max_length=28)\n"
     ]
    },
    {
     "name": "stdout",
     "output_type": "stream",
     "text": [
      "197:CERIAS’ Shawn Huddy receives 2023 Community Spirit Award\n"
     ]
    },
    {
     "name": "stderr",
     "output_type": "stream",
     "text": [
      "Your max_length is set to 200, but your input_length is only 169. Since this is a summarization task, where outputs shorter than the input are typically wanted, you might consider decreasing max_length manually, e.g. summarizer('...', max_length=84)\n"
     ]
    },
    {
     "name": "stdout",
     "output_type": "stream",
     "text": [
      "198:Application deadline approaching: Lilly Scholars at Purdue program\n",
      "199:Purdue University College of Engineering to offer guaranteed internship to students in Indianapolis\n",
      "200:Purdue Global cuts ribbon on first military base extension\n",
      "201:Season of Sharing accepting gifts for local children, families through Dec. 8\n",
      "202:‘Purdue Pursuits’: Becoming an A.H. Ismail Center member\n",
      "203:Appointments, honors and activities\n",
      "204:Thumbs Up\n",
      "205:An astronaut and a communication advocate return to their alma mater as Presidential Ambassadors\n",
      "206:Dickey named inaugural associate dean of students at Purdue University in Indianapolis\n",
      "207:Purdue University Fire Department welcomes new firefighters with swearing-in ceremony\n"
     ]
    },
    {
     "name": "stderr",
     "output_type": "stream",
     "text": [
      "Your max_length is set to 200, but your input_length is only 60. Since this is a summarization task, where outputs shorter than the input are typically wanted, you might consider decreasing max_length manually, e.g. summarizer('...', max_length=30)\n"
     ]
    },
    {
     "name": "stdout",
     "output_type": "stream",
     "text": [
      "208:Open enrollment for 2024 benefits underway; enroll by 6 p.m. Nov. 7\n"
     ]
    },
    {
     "name": "stderr",
     "output_type": "stream",
     "text": [
      "Your max_length is set to 200, but your input_length is only 134. Since this is a summarization task, where outputs shorter than the input are typically wanted, you might consider decreasing max_length manually, e.g. summarizer('...', max_length=67)\n"
     ]
    },
    {
     "name": "stdout",
     "output_type": "stream",
     "text": [
      "209:Discounted football tickets available for faculty, staff for Nov. 11 game against Minnesota\n",
      "210:Concur site changes to improve screen accessibility\n",
      "211:Today’s top 5 from Purdue University\n",
      "212:MaPSAC’s Lovell Leadership Series to present Provost Patrick Wolfe\n",
      "213:Pioneering commercial astronaut and Purdue alumna Beth Moses to join President Chiang for Purdue Presidential Lecture Series\n",
      "214:Dry-surface foodborne pathogens under scrutiny at Purdue\n",
      "215:InnovatED graduate research magazine seeking submissions\n",
      "216:In Print: ‘An Introduction to Optimization: With Applications to Machine Learning, 5th Edition’\n",
      "217:Register now for Purdue annual safety meeting and fair on Nov. 8\n",
      "218:Ready, set, enroll: Open enrollment for 2024 benefits begins today\n",
      "219:Gebisa Ejeta awarded National Medal of Science\n",
      "220:Summit to forge a national coalition around building resiliency in U.S. manufacturing and operations\n",
      "221:Newly updated edition of Purdue Forage Field Guide provides essential information on forage management\n"
     ]
    },
    {
     "name": "stderr",
     "output_type": "stream",
     "text": [
      "Your max_length is set to 200, but your input_length is only 81. Since this is a summarization task, where outputs shorter than the input are typically wanted, you might consider decreasing max_length manually, e.g. summarizer('...', max_length=40)\n"
     ]
    },
    {
     "name": "stdout",
     "output_type": "stream",
     "text": [
      "222:Purdue to offer vote-ready IDs for Mobile First students eligible to vote in general election this fall\n"
     ]
    },
    {
     "name": "stderr",
     "output_type": "stream",
     "text": [
      "Your max_length is set to 200, but your input_length is only 134. Since this is a summarization task, where outputs shorter than the input are typically wanted, you might consider decreasing max_length manually, e.g. summarizer('...', max_length=67)\n"
     ]
    },
    {
     "name": "stdout",
     "output_type": "stream",
     "text": [
      "223:Research faculty, staff and university leaders participate in Life and Health Sciences Summit\n",
      "224:Deadline nears for Eudoxia Girard Martin Memorial Staff Recognition Award nominations\n",
      "225:Purdue strengths in biotech manufacturing part of new federally designated Regional Technology and Innovation Hub won by the state of Indiana\n",
      "226:Thumbs Up\n",
      "227:Keynote speaker to Purdue Global grads: Keep building your dreams\n",
      "228:Campus community invited to attend sustainability-related events during annual Green Week celebration\n",
      "229:Institute for Physical AI to host town hall Oct. 30\n",
      "230:Toastmasters at Purdue to host open house for faculty, staff, alumni\n",
      "231:Additional response on Oct. 20 to inquiries about some on-campus activities this week\n",
      "232:Discovery Park District at Purdue announces DUIRI projects for spring 2024; student applications now being accepted\n",
      "233:Campus community encouraged to learn about earthquake preparedness today\n",
      "234:Today’s top 5 from Purdue University\n",
      "235:Purdue to host Riley Children’s Health pediatric behavioral health documentary screening, panel at Loeb Playhouse\n",
      "236:Intentionality, strategy drive Purdue Global business dean for student growth\n",
      "237:New institute accelerates future of microelectronic system integration, advanced packaging\n",
      "238:Verbal de-escalation training available in November\n",
      "239:Songlin Fei: ‘A Digital Revolution in Forestry: AI and Lasers and Digital Twins, Oh My!’\n"
     ]
    },
    {
     "name": "stderr",
     "output_type": "stream",
     "text": [
      "Your max_length is set to 200, but your input_length is only 85. Since this is a summarization task, where outputs shorter than the input are typically wanted, you might consider decreasing max_length manually, e.g. summarizer('...', max_length=42)\n"
     ]
    },
    {
     "name": "stdout",
     "output_type": "stream",
     "text": [
      "240:New endowed scholarship to help international students facing substantial personal risks and educational barriers\n",
      "241:Purdue Day of Service scheduled for Oct. 27\n"
     ]
    },
    {
     "name": "stderr",
     "output_type": "stream",
     "text": [
      "Your max_length is set to 200, but your input_length is only 133. Since this is a summarization task, where outputs shorter than the input are typically wanted, you might consider decreasing max_length manually, e.g. summarizer('...', max_length=66)\n"
     ]
    },
    {
     "name": "stdout",
     "output_type": "stream",
     "text": [
      "242:Exclusive screening of documentary on Indiana’s youth mental health crisis available\n",
      "243:Preschool, pre-k, and before- and after-school care available on Purdue’s West Lafayette campus\n",
      "244:Inaugural Spring Family Weekend set for April 12-14, 2024\n",
      "245:Purdue Silicon Summit further accelerates momentum with announcements and brings national, global semiconductor leaders to campus\n",
      "246:Purdue Silicon Summit further accelerates momentum with announcements and brings national, global semiconductor leaders to campus\n",
      "247:Purdue team examines bio-impact of toxic chemical cocktails in the environment\n",
      "248:Purdue Global selected by Gardner Institute to join inaugural cohort of Transforming the Foundational Postsecondary Experience\n"
     ]
    },
    {
     "name": "stderr",
     "output_type": "stream",
     "text": [
      "Your max_length is set to 200, but your input_length is only 160. Since this is a summarization task, where outputs shorter than the input are typically wanted, you might consider decreasing max_length manually, e.g. summarizer('...', max_length=80)\n"
     ]
    },
    {
     "name": "stdout",
     "output_type": "stream",
     "text": [
      "249:Life and health sciences faculty summit to chart next major investment at Purdue\n",
      "250:No-cost vaccine clinic scheduled for Oct.19\n",
      "251:Strength of Purdue’s pharmacy graduate program felt in improved lives, purposed service, rewarding careers in health care\n",
      "252:Purdue United Way campaign climbs toward $700,000 goal\n",
      "253:Purdue, IU to collaborate on analysis of Indiana’s $500 million economic development efforts\n"
     ]
    },
    {
     "name": "stderr",
     "output_type": "stream",
     "text": [
      "Your max_length is set to 200, but your input_length is only 168. Since this is a summarization task, where outputs shorter than the input are typically wanted, you might consider decreasing max_length manually, e.g. summarizer('...', max_length=84)\n"
     ]
    },
    {
     "name": "stdout",
     "output_type": "stream",
     "text": [
      "254:Signatures of the Space Age: Spacecraft metals left in the wake of humanity’s path to the stars\n",
      "255:Purdue names new pediatric cancer research center for the late Tyler Trent\n"
     ]
    },
    {
     "name": "stderr",
     "output_type": "stream",
     "text": [
      "Your max_length is set to 200, but your input_length is only 63. Since this is a summarization task, where outputs shorter than the input are typically wanted, you might consider decreasing max_length manually, e.g. summarizer('...', max_length=31)\n"
     ]
    },
    {
     "name": "stdout",
     "output_type": "stream",
     "text": [
      "256:Registration open for Oct. 19 Ambassador Distinguished Lecture at Purdue and Krach Freedom Lecture with Nathaniel C. Fick, U.S. ambassador-at-large for cyberspace and digital policy\n",
      "257:University Senate meeting set for Monday\n",
      "258:Emerging collegiate scholar is making her comeback in cybersecurity with Purdue Global\n",
      "259:President Chiang keynotes regional luncheon to explore economic growth sectors in northwest Indiana\n",
      "260:Participants of the Purdue Ukraine Scholars Initiative to be featured in panel discussion\n",
      "261:Sustainability and energy topics bring together Purdue scientists and engineers from West Lafayette and Indianapolis\n"
     ]
    },
    {
     "name": "stderr",
     "output_type": "stream",
     "text": [
      "Your max_length is set to 200, but your input_length is only 190. Since this is a summarization task, where outputs shorter than the input are typically wanted, you might consider decreasing max_length manually, e.g. summarizer('...', max_length=95)\n"
     ]
    },
    {
     "name": "stdout",
     "output_type": "stream",
     "text": [
      "262:Purdue Conferences launches Event Design Lab, an engagement and event design center\n"
     ]
    },
    {
     "name": "stderr",
     "output_type": "stream",
     "text": [
      "Your max_length is set to 200, but your input_length is only 98. Since this is a summarization task, where outputs shorter than the input are typically wanted, you might consider decreasing max_length manually, e.g. summarizer('...', max_length=49)\n"
     ]
    },
    {
     "name": "stdout",
     "output_type": "stream",
     "text": [
      "263:Participants of the Purdue Ukraine Scholars Initiative to be featured in panel discussion\n",
      "264:Purdue Alumni Medical Network launches\n",
      "265:ZS Instruments receives $1M grant to develop advanced lithography tech for precision optical encoders\n",
      "266:Today’s top 5 from Purdue University\n",
      "267:2023 Special Boilermaker Award recipients announced\n",
      "268:Rx Savings Solutions offers Healthy Boiler workshop on smart, simple way to save on prescriptions\n",
      "269:Purdue researchers, IBM perform perturbation theory method on quantum computer\n",
      "270:SupportLinc to feature self-care essentials in October; resources, tools available\n",
      "271:Aerovy, an advanced air mobility software provider, completes $800,000 pre-seed funding round\n",
      "272:Purdue community and No. 6 graduate program attracts aerospace engineers across continents\n"
     ]
    },
    {
     "name": "stderr",
     "output_type": "stream",
     "text": [
      "Your max_length is set to 200, but your input_length is only 137. Since this is a summarization task, where outputs shorter than the input are typically wanted, you might consider decreasing max_length manually, e.g. summarizer('...', max_length=68)\n"
     ]
    },
    {
     "name": "stdout",
     "output_type": "stream",
     "text": [
      "273:Purdue survey delves into brand-name food and beverage preferences of consumers\n",
      "274:Purdue recognized by U.S. Department of Education for ongoing sustainability efforts\n",
      "275:Virtual presentation on Medicare, Social Security, health savings accounts available\n",
      "276:President Chiang continues 92-county Indiana tour with visit to northern part of state\n",
      "277:Purdue launches broadband team, effort to increase high-speed internet access, adoption and use throughout Indiana\n",
      "278:Purdue Applied Research Institute joins Abt Associates-led team in $49 million USAID climate initiative\n",
      "279:Predicting prostate cancer recurrence 15 months faster\n",
      "280:Purdue trustees approve land transfers to support student organizations, future campus development\n",
      "281:Purdue trustees approve contract extension for Bobinski as vice president and director of intercollegiate athletics\n",
      "282:Purdue trustees ratify faculty and staff positions, award posthumous degrees, approve department name changes and resolutions of appreciation\n",
      "283:Purdue trustees get Next Moves update; approve presidential performance metrics, naming of Dorothy Stratton Veteran and Military Success Center, among actions\n",
      "284:Trustees updated on Purdue’s Next Moves initiatives\n",
      "285:Trustees approve Chiang’s performance metrics for 2023-24\n",
      "286:Purdue trustees approve renaming Veterans Success Center to Dorothy Stratton Veteran and Military Success Center\n"
     ]
    },
    {
     "name": "stderr",
     "output_type": "stream",
     "text": [
      "Your max_length is set to 200, but your input_length is only 131. Since this is a summarization task, where outputs shorter than the input are typically wanted, you might consider decreasing max_length manually, e.g. summarizer('...', max_length=65)\n"
     ]
    },
    {
     "name": "stdout",
     "output_type": "stream",
     "text": [
      "287:DOE funds 3D printing of wind blade tooling to make U.S. clean energy sector more competitive\n",
      "288:Registration open for Purdue Global Village conference\n",
      "289:Ceremonial groundbreaking marks beginning of University Hall renovation\n"
     ]
    },
    {
     "name": "stderr",
     "output_type": "stream",
     "text": [
      "Your max_length is set to 200, but your input_length is only 74. Since this is a summarization task, where outputs shorter than the input are typically wanted, you might consider decreasing max_length manually, e.g. summarizer('...', max_length=37)\n"
     ]
    },
    {
     "name": "stdout",
     "output_type": "stream",
     "text": [
      "290:PhD student from China takes chance on America, finds ideal Purdue Polytechnic program and community\n",
      "291:Board of Trustees meeting set for Friday; special issue of Purdue Today to follow\n"
     ]
    },
    {
     "name": "stderr",
     "output_type": "stream",
     "text": [
      "Your max_length is set to 200, but your input_length is only 123. Since this is a summarization task, where outputs shorter than the input are typically wanted, you might consider decreasing max_length manually, e.g. summarizer('...', max_length=61)\n"
     ]
    },
    {
     "name": "stdout",
     "output_type": "stream",
     "text": [
      "292:New leadership appointments announced for Purdue University in Indianapolis; committee for tenure working group established\n",
      "293:New faculty, lecturers introduced with brief profiles\n",
      "294:National Depression Screening Day takes place Oct. 5 to raise awareness, promote resources\n",
      "295:Today’s top 5 from Purdue University\n",
      "296:Registration available for Oct. 18 Westwood Lecture on ‘A Digital Revolution in Forestry’\n",
      "297:CAPS, Purdue University Online partner to offer new well-being resource for students\n",
      "298:Bowman appointed interim dean of Purdue’s College of Health and Human Sciences\n",
      "299:Purdue Policy Research Institute accepting Diplomacy Lab project bids in collaboration with U.S. Department of State\n",
      "300:New interdisciplinary labs bolster U.S. manufacturing\n",
      "301:Purdue professor foresees AI as catalyst for transformation in manufacturing and workforce\n",
      "302:Purdue center addresses pressing challenge of securing semiconductor chips\n",
      "303:$1.1 million grant to fund research on molecular response of plants to environmental stress\n",
      "304:Fast Company names Purdue University a ‘Brand That Matters’ for third year in a row\n",
      "305:Purdue’s eXcellence in Manufacturing and Operations initiative focuses on resiliency in the industry\n",
      "306:Office of Diversity, Inclusion and Belonging to sponsor workshops on social bias\n",
      "307:Space needs better ‘parking spots’ to stay usable — an engineer is finding them\n",
      "308:Midwestern Regional Climate Center develops Soil Temperature Climatology Tool\n",
      "309:‘Purdue Pursuits’: Toastmasters at Purdue\n"
     ]
    },
    {
     "name": "stderr",
     "output_type": "stream",
     "text": [
      "Your max_length is set to 200, but your input_length is only 136. Since this is a summarization task, where outputs shorter than the input are typically wanted, you might consider decreasing max_length manually, e.g. summarizer('...', max_length=68)\n"
     ]
    },
    {
     "name": "stdout",
     "output_type": "stream",
     "text": [
      "310:Thumbs Up\n",
      "311:Nominations being accepted for Eudoxia Girard Martin Memorial Staff Recognition Award\n",
      "312:Purdue Fall Undergraduate Research Expo accepting research talk and poster abstract submissions\n",
      "313:Purdue Global’s new emergency management degree program prepares students to rebuild communities after disasters\n",
      "314:Purdue-Ireland relationship fosters research and study abroad opportunities in pharmaceutical manufacturing\n",
      "315:EPICS program to expand at Purdue University in Indianapolis, partner with more Indy organizations, businesses to demonstrate power of experiential learning\n",
      "316:Pedestrian safety message\n",
      "317:Purdue Global names new dean of School of Health Sciences\n",
      "318:Healthy Boiler Fair takes place Oct. 4 with vendors, door prizes\n",
      "319:Reminder: Campuswide PurdueALERT test scheduled for today\n",
      "320:Purdue’s inaugural Lilly Scholars train to become pharmaceutical manufacturing workforce talent of the future\n",
      "321:Healthy Boiler virtual workshop presented by SupportLinc to focus on healthy living\n",
      "322:Purdue researchers develop a new type of intelligent architected materials for industry applications\n",
      "323:Understanding the gravity of the situation: ALPHA scientists prove that antimatter falls at the same rate as matter\n",
      "324:Fall Road to Retirement conference continues through Friday with daily sessions\n",
      "325:Depression Awareness Month observed each October; mental health resources available year-round\n",
      "326:LeafSpec LLC, a Purdue-connected ag-tech startup, to compete for $3 million in prizes in November\n",
      "327:Call for applications for Butler Center’s new Speed Coaching Network program for faculty\n",
      "328:Purdue University jumps to No. 33 nationally and to world’s top 100 in 2024 Times Higher Education World University Rankings\n",
      "329:Purdue turf professor weighs differences between natural and artificial turf\n",
      "330:Modestly Mindful LLC to present Healthy Boiler workshop focused on self-compassion\n",
      "331:On-campus flu shot events start Oct. 19\n",
      "332:PUPD to offer free active threat training in October and November\n",
      "333:New Military Advisory Board to boost Purdue’s Online Learning 2.0 initiative\n",
      "334:Purdue professor directs lab for global legume systems research program\n",
      "335:Fall Road to Retirement conference begins Tuesday with special PERF retirement program session\n"
     ]
    },
    {
     "name": "stderr",
     "output_type": "stream",
     "text": [
      "Your max_length is set to 200, but your input_length is only 151. Since this is a summarization task, where outputs shorter than the input are typically wanted, you might consider decreasing max_length manually, e.g. summarizer('...', max_length=75)\n"
     ]
    },
    {
     "name": "stdout",
     "output_type": "stream",
     "text": [
      "336:Exploring AI together across Purdue\n",
      "337:Domestic shipments transition to eShipGlobal starting Oct. 2\n"
     ]
    },
    {
     "name": "stderr",
     "output_type": "stream",
     "text": [
      "Your max_length is set to 200, but your input_length is only 198. Since this is a summarization task, where outputs shorter than the input are typically wanted, you might consider decreasing max_length manually, e.g. summarizer('...', max_length=99)\n"
     ]
    },
    {
     "name": "stdout",
     "output_type": "stream",
     "text": [
      "338:Human Resources to continue performing registry checks for student hires past Oct. 1\n",
      "339:Homecoming weekend kicks off Friday\n",
      "340:Purdue’s semiconductor innovation ecosystem grows with CHIPS-funded, Indiana-led semiconductor hub and with upcoming summit\n",
      "341:Bringing home asteroids: Purdue scientist is among the first to examine asteroid pieces from NASA’s OSIRIS-REx mission\n",
      "342:Celebrated actor, author to be featured speaker as Purdue Global celebrates Hispanic Heritage Month\n",
      "343:Purdue’s online Dual Engineering + MBA and Management and Leadership master’s degree program proves to be a career booster\n",
      "344:Appointments, honors and activities\n"
     ]
    },
    {
     "name": "stderr",
     "output_type": "stream",
     "text": [
      "Your max_length is set to 200, but your input_length is only 163. Since this is a summarization task, where outputs shorter than the input are typically wanted, you might consider decreasing max_length manually, e.g. summarizer('...', max_length=81)\n"
     ]
    },
    {
     "name": "stdout",
     "output_type": "stream",
     "text": [
      "345:SECURE 2.0 retirement changes to impact Purdue retirement programs\n"
     ]
    },
    {
     "name": "stderr",
     "output_type": "stream",
     "text": [
      "Your max_length is set to 200, but your input_length is only 178. Since this is a summarization task, where outputs shorter than the input are typically wanted, you might consider decreasing max_length manually, e.g. summarizer('...', max_length=89)\n"
     ]
    },
    {
     "name": "stdout",
     "output_type": "stream",
     "text": [
      "346:Purdue launches rural education center to help address teacher shortage\n"
     ]
    },
    {
     "name": "stderr",
     "output_type": "stream",
     "text": [
      "Your max_length is set to 200, but your input_length is only 150. Since this is a summarization task, where outputs shorter than the input are typically wanted, you might consider decreasing max_length manually, e.g. summarizer('...', max_length=75)\n"
     ]
    },
    {
     "name": "stdout",
     "output_type": "stream",
     "text": [
      "347:$3M grant renews funding for Purdue program expanding access to the veterinary profession\n",
      "348:Office of Engagement seeking Jefferson Awards nominations\n"
     ]
    },
    {
     "name": "stderr",
     "output_type": "stream",
     "text": [
      "Your max_length is set to 200, but your input_length is only 158. Since this is a summarization task, where outputs shorter than the input are typically wanted, you might consider decreasing max_length manually, e.g. summarizer('...', max_length=79)\n"
     ]
    },
    {
     "name": "stdout",
     "output_type": "stream",
     "text": [
      "349:Purdue United Way campaign kicks off\n",
      "350:Applications sought for vice provost for enrollment management\n",
      "351:Deborah Knapp: ‘A New Era in Comparative Medical Research and Opportunities to Position Purdue as a World Leader’\n",
      "352:Purdue University to launch Trimble Technology Lab with focus on construction management technology\n",
      "353:Purdue center addresses pressing challenge of securing semiconductor chips\n",
      "354:Verbal de-escalation training available in October\n",
      "355:Purdue Global grad: ‘Dreams really do come true. This was my chance to make it happen’\n",
      "356:Treatment for mental health conditions, substance use disorders covered by health insurance policies same as physical illness\n",
      "357:Mars region offers NASA rover environment to search for evidence of ancient microbial life\n"
     ]
    },
    {
     "name": "stderr",
     "output_type": "stream",
     "text": [
      "Your max_length is set to 200, but your input_length is only 161. Since this is a summarization task, where outputs shorter than the input are typically wanted, you might consider decreasing max_length manually, e.g. summarizer('...', max_length=80)\n"
     ]
    },
    {
     "name": "stdout",
     "output_type": "stream",
     "text": [
      "358:Purdue developing field test to detect SARS-CoV-2 virus in dozens of host species\n",
      "359:Inkjet-printed tumors: Custom cancer drug testbeds in less than a day\n",
      "360:Planning a campus event? An emergency preparedness checklist is available for event planners\n",
      "361:Purdue Global to host FEMA official for ‘Equity in Emergency Management’ webinar\n"
     ]
    },
    {
     "name": "stderr",
     "output_type": "stream",
     "text": [
      "Your max_length is set to 200, but your input_length is only 139. Since this is a summarization task, where outputs shorter than the input are typically wanted, you might consider decreasing max_length manually, e.g. summarizer('...', max_length=69)\n"
     ]
    },
    {
     "name": "stdout",
     "output_type": "stream",
     "text": [
      "362:Purdue University named No. 6 Best Value among public universities in the U.S., No. 15 overall by SmartAsset\n",
      "363:Summer 2023 personnel activity reports open in SEEMLESS for faculty certification\n"
     ]
    },
    {
     "name": "stderr",
     "output_type": "stream",
     "text": [
      "Your max_length is set to 200, but your input_length is only 106. Since this is a summarization task, where outputs shorter than the input are typically wanted, you might consider decreasing max_length manually, e.g. summarizer('...', max_length=53)\n"
     ]
    },
    {
     "name": "stdout",
     "output_type": "stream",
     "text": [
      "364:Accreditation organization to visit Speech, Language, and Hearing Sciences; public input sought\n",
      "365:Purdue InterCultural Learning Community of Practice schedule of events for fall 2023\n",
      "366:Nominations sought for Purdue’s top research awards\n",
      "367:Purdue United Way campaign to kick off Wednesday\n"
     ]
    },
    {
     "name": "stderr",
     "output_type": "stream",
     "text": [
      "Your max_length is set to 200, but your input_length is only 179. Since this is a summarization task, where outputs shorter than the input are typically wanted, you might consider decreasing max_length manually, e.g. summarizer('...', max_length=89)\n"
     ]
    },
    {
     "name": "stdout",
     "output_type": "stream",
     "text": [
      "368:Purdue University undergraduate national ranking jumps 8 spots, with 13 undergraduate programs in top 10 in the US\n",
      "369:Policy updates for September\n",
      "370:Trask Innovation Fund to award researchers up to $50,000 to enhance Purdue intellectual property\n",
      "371:NSF awards $2M to Purdue’s College of Education, Downtown Boxing Gym for STEM-based research\n",
      "372:Purdue researcher awarded $1.3 million for malaria drug trials in Southeast Asia and Africa\n"
     ]
    },
    {
     "name": "stderr",
     "output_type": "stream",
     "text": [
      "Your max_length is set to 200, but your input_length is only 153. Since this is a summarization task, where outputs shorter than the input are typically wanted, you might consider decreasing max_length manually, e.g. summarizer('...', max_length=76)\n"
     ]
    },
    {
     "name": "stdout",
     "output_type": "stream",
     "text": [
      "373:Purdue welcomes its most selective incoming class\n",
      "374:No-cost vaccine clinic scheduled for Sept. 21\n",
      "375:New staff, outreach efforts expand accessibility of CAPS services\n",
      "376:Purdue president partners with students to create official university ice cream\n",
      "377:Allow extra processing time for driver authorization requests\n",
      "378:Center for Healthy Living to offer drive-thru, walk-in, on-campus flu shots this flu season\n",
      "379:2023 System-Wide Virtual Forum to focus on artificial intelligence in higher education\n",
      "380:Upcoming Boilermaker Half-marathon & 5K supports behavioral health; discounted fees available\n",
      "381:Cracking the science of collagen in bones\n",
      "382:Solving stickiness sustainably\n",
      "383:Purdue panels to address US semiconductor needs, ‘Next Big Things in Tech’ at Fast Company Innovation Festival\n",
      "384:Purdue Global to showcase ‘This Is My Comeback’ campaign during Adweek’s Brandweek in Miami\n",
      "385:Study improves accuracy of planted forest locations in East Asia\n",
      "386:Purdue Entomology to host second Cold Case Symposium\n",
      "387:Purdue recognized as national innovation leader: 4th among US universities in US patents received\n",
      "388:Purdue honors contributions of forestry and natural resources professionals and academics\n",
      "389:Virtual Road to Retirement event slated for Sept. 26-29 for all benefits-eligible employees\n",
      "390:Purdue research: Liquid biopsy method may reveal signs of Parkinson’s disease in urine samples\n",
      "391:Computer software engineering program offers excellence at scale, promise in keeping pace with technological, systems advancements\n",
      "392:Purdue Army ROTC to hold inaugural Tri-Service 9/11 Memorial Stadium Run\n",
      "393:Upcoming Healthy Boiler workshop to focus on ‘magical power of sleep’\n"
     ]
    },
    {
     "name": "stderr",
     "output_type": "stream",
     "text": [
      "Your max_length is set to 200, but your input_length is only 61. Since this is a summarization task, where outputs shorter than the input are typically wanted, you might consider decreasing max_length manually, e.g. summarizer('...', max_length=30)\n"
     ]
    },
    {
     "name": "stdout",
     "output_type": "stream",
     "text": [
      "394:The world’s smallest drum\n",
      "395:University Senate meeting set for Monday\n"
     ]
    },
    {
     "name": "stderr",
     "output_type": "stream",
     "text": [
      "Your max_length is set to 200, but your input_length is only 155. Since this is a summarization task, where outputs shorter than the input are typically wanted, you might consider decreasing max_length manually, e.g. summarizer('...', max_length=77)\n"
     ]
    },
    {
     "name": "stdout",
     "output_type": "stream",
     "text": [
      "396:Purdue Police, Fire departments to offer ‘Prepared at Purdue’ training\n",
      "397:Equal Access and Equal Opportunity Policies\n",
      "398:Important building block to brand success includes workforce buy-in\n",
      "399:Women in Engineering Program invites high school juniors and seniors to campus\n",
      "400:Proposals being accepted for spring 2024 Discovery Undergraduate Interdisciplinary Research Internship program\n",
      "401:Registration available for Westwood Lecture on Sept. 21\n",
      "402:New bio-based glues from Purdue form adhesive bonds that grow stronger in water\n",
      "403:Purdue efforts drive future workforce development for semiconductor industry\n",
      "404:Registration open for Worldview Workshops offered by CILMAR\n",
      "405:Campuswide PurdueALERT test scheduled for Sept. 28\n",
      "406:Purdue delegation embarks on USS Nimitz, gains insights into naval operations\n",
      "407:Purdue establishes permanent presence next to NSWC Crane for future of national defense and semiconductors\n",
      "408:Life and health sciences faculty summit to chart next major investment at Purdue\n",
      "409:Public safety, health and well-being for students, staff and faculty\n",
      "410:Purdue Police, Fire departments to offer Prepared at Purdue training\n",
      "411:Purdue’s audiology graduate program offers interdisciplinary approach to hearing, balance disorders\n",
      "412:First-in-class targeted microRNA therapy slows cancer tumor growth\n",
      "413:Defense Civilian Training Corps at Purdue creates path to service\n",
      "414:Save the date: Healthy Boiler Fair set for Oct. 4\n",
      "415:Purdue Entrepreneurial Alumni Reunion connects Boilermaker entrepreneurs and campus programs\n",
      "416:What to know for first home football game Sept. 2: Safety, parking, construction, travel, game day tickets\n"
     ]
    },
    {
     "name": "stderr",
     "output_type": "stream",
     "text": [
      "Your max_length is set to 200, but your input_length is only 180. Since this is a summarization task, where outputs shorter than the input are typically wanted, you might consider decreasing max_length manually, e.g. summarizer('...', max_length=90)\n"
     ]
    },
    {
     "name": "stdout",
     "output_type": "stream",
     "text": [
      "417:Purdue Global’s ‘This Is My Comeback’ campaign to make splash at Adweek’s Brandweek in Miami\n",
      "418:New faculty members welcomed, introduced with brief profiles\n"
     ]
    },
    {
     "name": "stderr",
     "output_type": "stream",
     "text": [
      "Your max_length is set to 200, but your input_length is only 154. Since this is a summarization task, where outputs shorter than the input are typically wanted, you might consider decreasing max_length manually, e.g. summarizer('...', max_length=77)\n"
     ]
    },
    {
     "name": "stdout",
     "output_type": "stream",
     "text": [
      "419:SuccessFactors mobile app, Talent Profile now available\n",
      "420:Submit Xerox print services orders by Sept. 15; new vendor available now\n",
      "421:September recognized as National Suicide Prevention Month; resources available to help\n",
      "422:IHT Group to manufacture, sell hog-cooling technology developed at Purdue\n",
      "423:6-week wellness program focuses on heart knowledge, hypertension; register by Sept. 5\n",
      "424:University wide Study Abroad Fair set for Thursday\n",
      "425:Second funding round delivers $19 million to Purdue-led microelectronics workforce development program\n",
      "426:Purdue streak camera innovation could capture actions that last femtoseconds or less\n",
      "427:Purdue Digital Forestry team advances to $10 million XPRIZE Rainforest competition finals\n",
      "428:A ‘mini-brain’ traces the link between concussion and Alzheimer’s disease\n",
      "429:Purdue police provide travel safety tips as new academic year gets underway on West Lafayette campus\n",
      "430:Purdue Global: Don’t fear generative AI tools in the classroom\n",
      "431:Work progresses on several capital projects as new academic year begins on West Lafayette campus\n",
      "432:WL faculty, exempt staff to receive email today on Reportable Outside Activities; action required by Sept. 15\n",
      "433:Purdue researchers identify role of quantum interference in energy transport\n",
      "434:U.S. News: Purdue’s Education online master’s degree programs rank among top 7% nationally\n",
      "435:Strength, value of Purdue-Colombia partnership felt in the career-changed lives of over 500 participants as program marks 10 years\n",
      "436:Immediately report campus facility issues\n"
     ]
    },
    {
     "name": "stderr",
     "output_type": "stream",
     "text": [
      "Your max_length is set to 200, but your input_length is only 165. Since this is a summarization task, where outputs shorter than the input are typically wanted, you might consider decreasing max_length manually, e.g. summarizer('...', max_length=82)\n"
     ]
    },
    {
     "name": "stdout",
     "output_type": "stream",
     "text": [
      "437:Purdue-Colombia undergrad research program expands; similar student engagement efforts planned for Mexico, Brazil, Ecuador, Peru\n",
      "438:Human Resources to offer new monthly training options\n",
      "439:Civil Engineering’s Crawford receives esteemed IEEE Mildred Dresselhaus Medal\n",
      "440:Research mentors, programs can recruit students in virtual Undergraduate Research Roundtable\n",
      "441:PhD student’s materials engineering research offers glimpse into challenges of electronic device miniaturization\n",
      "442:Nominations sought for Leadership in Action Award\n",
      "443:‘Monkey King: Journey to the West’ to be featured Big Read book\n",
      "444:Find out what’s happening on campus, in the community with the Purdue University Events Calendar\n",
      "445:Wellness Council of Indiana renews Purdue’s AchieveWELL 5 Star designation\n",
      "446:Purdue’s microwave technology could lead to more stable vaccine supply chain\n",
      "447:Nominations sought for Violet Haas Award\n",
      "448:Available space podcast: A look into NASA’s James Webb Space Telescope with astronomer and star expert Danny Milisavljevic\n",
      "449:National Grief Awareness Day recognized annually on Aug. 30\n",
      "450:Purdue experiments clarify critical molecular stages of mammalian development\n",
      "451:Verbal de-escalation training available in September\n",
      "452:Purdue research: Ice caps on Mars may reveal planet’s climate history\n"
     ]
    },
    {
     "name": "stderr",
     "output_type": "stream",
     "text": [
      "Your max_length is set to 200, but your input_length is only 177. Since this is a summarization task, where outputs shorter than the input are typically wanted, you might consider decreasing max_length manually, e.g. summarizer('...', max_length=88)\n"
     ]
    },
    {
     "name": "stdout",
     "output_type": "stream",
     "text": [
      "453:Nominations sought for research project grants for assistant and associate professors\n",
      "454:Purdue Food Co. offers Retail Dining Memberships to campus community\n",
      "455:Purdue University, U.S. Naval Test Pilot School to partner on joint graduate degree program\n",
      "456:Prestigious civil engineering programs continue global mission in building, advancing legacy of excellence, storied tradition\n",
      "457:Quantum Research Sciences selected as finalist for Rally IN-Prize pitch competition\n",
      "458:Healthy Boiler workshop focuses on tips, exercises to target major muscle groups\n",
      "459:Orientation programs welcome more than 8,000 students to campus\n",
      "460:Student loan repayments to restart soon\n",
      "461:MaPSAC accepting applications for professional development grants\n",
      "462:Next session of Healthy Boiler lifestyle program One to One Fit begins Sept. 6\n"
     ]
    },
    {
     "name": "stderr",
     "output_type": "stream",
     "text": [
      "Your max_length is set to 200, but your input_length is only 197. Since this is a summarization task, where outputs shorter than the input are typically wanted, you might consider decreasing max_length manually, e.g. summarizer('...', max_length=98)\n"
     ]
    },
    {
     "name": "stdout",
     "output_type": "stream",
     "text": [
      "463:Purdue announces new Dean of the College of Science and other leadership updates\n"
     ]
    },
    {
     "name": "stderr",
     "output_type": "stream",
     "text": [
      "Your max_length is set to 200, but your input_length is only 168. Since this is a summarization task, where outputs shorter than the input are typically wanted, you might consider decreasing max_length manually, e.g. summarizer('...', max_length=84)\n"
     ]
    },
    {
     "name": "stdout",
     "output_type": "stream",
     "text": [
      "464:Purdue Farmers Market continues through October\n",
      "465:Boiler Gold Rush kicks off with move-in, opening ceremonies\n"
     ]
    },
    {
     "name": "stderr",
     "output_type": "stream",
     "text": [
      "Your max_length is set to 200, but your input_length is only 149. Since this is a summarization task, where outputs shorter than the input are typically wanted, you might consider decreasing max_length manually, e.g. summarizer('...', max_length=74)\n"
     ]
    },
    {
     "name": "stdout",
     "output_type": "stream",
     "text": [
      "466:New effective date announced for student background check process change\n",
      "467:Free hearing screenings available through M.D. Steer Audiology Clinic\n",
      "468:Westwood Lecture Series fall lineup announced\n",
      "469:CBF Forensics launches VR crime scene training programs and THC quantification system\n",
      "470:Purdue Global to offer new Military Physician Assistant Preparation concentration\n"
     ]
    },
    {
     "name": "stderr",
     "output_type": "stream",
     "text": [
      "Your max_length is set to 200, but your input_length is only 66. Since this is a summarization task, where outputs shorter than the input are typically wanted, you might consider decreasing max_length manually, e.g. summarizer('...', max_length=33)\n"
     ]
    },
    {
     "name": "stdout",
     "output_type": "stream",
     "text": [
      "471:Q&A with Internet founders Vint Cerf and Robert Kahn ahead of upcoming Presidential Lecture Series\n",
      "472:Memo: Religious, ethnic and civic observances\n",
      "473:Staff & Student Bowling League to organize today\n",
      "474:Purdue all-hazards outdoor sirens test and evacuation drill scheduled for incoming students during Boiler Gold Rush\n"
     ]
    },
    {
     "name": "stderr",
     "output_type": "stream",
     "text": [
      "Your max_length is set to 200, but your input_length is only 159. Since this is a summarization task, where outputs shorter than the input are typically wanted, you might consider decreasing max_length manually, e.g. summarizer('...', max_length=79)\n"
     ]
    },
    {
     "name": "stdout",
     "output_type": "stream",
     "text": [
      "475:Exposing the hidden genetic diversity of an ecologically harmful microbe\n",
      "476:Nominations sought for Community Spirit Award\n",
      "477:PARI’s Global Development and Innovation begins $1.6M engineers program in Kenya\n",
      "478:Go ‘Beyond the Surface’ to build resiliency, self-care to benefit behavioral health\n",
      "479:Several Purdue firefighters promoted during advancement ceremony\n"
     ]
    },
    {
     "name": "stderr",
     "output_type": "stream",
     "text": [
      "Your max_length is set to 200, but your input_length is only 137. Since this is a summarization task, where outputs shorter than the input are typically wanted, you might consider decreasing max_length manually, e.g. summarizer('...', max_length=68)\n"
     ]
    },
    {
     "name": "stdout",
     "output_type": "stream",
     "text": [
      "480:Doctoral student plays key role in new genetic testing for helping dog breeders eliminate specific diseases\n"
     ]
    },
    {
     "name": "stderr",
     "output_type": "stream",
     "text": [
      "Your max_length is set to 200, but your input_length is only 190. Since this is a summarization task, where outputs shorter than the input are typically wanted, you might consider decreasing max_length manually, e.g. summarizer('...', max_length=95)\n"
     ]
    },
    {
     "name": "stdout",
     "output_type": "stream",
     "text": [
      "481:Greg Pence joins Purdue leadership, faculty to discuss innovation in energy research\n",
      "482:Departments must conduct sex, violent offender checks for student hires\n",
      "483:Purdue Mobile ID, Mobile First effort kicks into high gear this week with Boiler Gold Rush, Boiler Gold Rush International orientation\n",
      "484:Purdue University in Indianapolis joins Stewart-Haas Racing for Verizon 200 at the Brickyard NASCAR Cup Series race\n",
      "485:Indiana farmland prices continue to rise in 2023\n",
      "486:Arequipa Nexus Institute in Peru receives $4 million for phase 3 funding\n"
     ]
    },
    {
     "name": "stderr",
     "output_type": "stream",
     "text": [
      "Your max_length is set to 200, but your input_length is only 92. Since this is a summarization task, where outputs shorter than the input are typically wanted, you might consider decreasing max_length manually, e.g. summarizer('...', max_length=46)\n"
     ]
    },
    {
     "name": "stdout",
     "output_type": "stream",
     "text": [
      "487:Reminder: Reportable Outside Activities disclosure required for 2023-24\n"
     ]
    },
    {
     "name": "stderr",
     "output_type": "stream",
     "text": [
      "Your max_length is set to 200, but your input_length is only 181. Since this is a summarization task, where outputs shorter than the input are typically wanted, you might consider decreasing max_length manually, e.g. summarizer('...', max_length=90)\n"
     ]
    },
    {
     "name": "stdout",
     "output_type": "stream",
     "text": [
      "488:Amazon at the Purdue Memorial Union now closed; other campus location remains available\n",
      "489:Academic integrity to be focus of presentations for faculty, staff\n"
     ]
    },
    {
     "name": "stderr",
     "output_type": "stream",
     "text": [
      "Your max_length is set to 200, but your input_length is only 128. Since this is a summarization task, where outputs shorter than the input are typically wanted, you might consider decreasing max_length manually, e.g. summarizer('...', max_length=64)\n"
     ]
    },
    {
     "name": "stdout",
     "output_type": "stream",
     "text": [
      "490:Experiments identify important new role of chemical compounds in plant development\n"
     ]
    },
    {
     "name": "stderr",
     "output_type": "stream",
     "text": [
      "Your max_length is set to 200, but your input_length is only 104. Since this is a summarization task, where outputs shorter than the input are typically wanted, you might consider decreasing max_length manually, e.g. summarizer('...', max_length=52)\n"
     ]
    },
    {
     "name": "stdout",
     "output_type": "stream",
     "text": [
      "491:Atlas Family Marketplace to be dining host for BGR students, limited options available\n",
      "492:Materials Management and Distribution advises resuming normal shipping and receiving operations\n",
      "493:Purdue Global trustees approve renaming law school\n",
      "494:Purdue trustees ratify faculty and staff positions\n",
      "495:New university residence to the south of Hillenbrand Hall to further increase availability of on-campus housing\n",
      "496:Purdue trustees approve new residence hall, 2024 health plans among actions\n",
      "497:Purdue trustees approve new Nursing and Pharmacy Education Building, series of repair and rehabilitation projects\n",
      "498:No employee premium increase for 5th straight year as Purdue trustees approve 2024 health plans\n"
     ]
    },
    {
     "name": "stderr",
     "output_type": "stream",
     "text": [
      "Your max_length is set to 200, but your input_length is only 110. Since this is a summarization task, where outputs shorter than the input are typically wanted, you might consider decreasing max_length manually, e.g. summarizer('...', max_length=55)\n"
     ]
    },
    {
     "name": "stdout",
     "output_type": "stream",
     "text": [
      "499:Trustees approve new Purdue University Airport terminal as exploration of commercial air service continues\n"
     ]
    },
    {
     "name": "stderr",
     "output_type": "stream",
     "text": [
      "Your max_length is set to 200, but your input_length is only 143. Since this is a summarization task, where outputs shorter than the input are typically wanted, you might consider decreasing max_length manually, e.g. summarizer('...', max_length=71)\n"
     ]
    },
    {
     "name": "stdout",
     "output_type": "stream",
     "text": [
      "500:Reminder for instructors with sponsored class projects or capstone projects\n",
      "501:Ismail Center free trial period extended through Aug. 31\n",
      "502:Office of Engagement earns national top-10 recognition at Social Innovation Summit\n"
     ]
    },
    {
     "name": "stderr",
     "output_type": "stream",
     "text": [
      "Your max_length is set to 200, but your input_length is only 74. Since this is a summarization task, where outputs shorter than the input are typically wanted, you might consider decreasing max_length manually, e.g. summarizer('...', max_length=37)\n"
     ]
    },
    {
     "name": "stdout",
     "output_type": "stream",
     "text": [
      "503:Connection between cyberbullying, back-to-school important to recognize\n",
      "504:Board of Trustees meeting set for Friday; special issue of Purdue Today to follow\n",
      "505:Purdue animal sciences faculty members receive USDA grants for animal welfare research\n",
      "506:LIFT Academy, Purdue Global partner to increase education access for next generation of pilots\n",
      "507:Gourmet or imitation? New technique ferrets out food fraud\n",
      "508:Anu awarded $200,000 grant to mass manufacture its aeroponic seed pods that grow produce in controlled environments\n",
      "509:Decades of research have left knowledge gaps about cells that regulate the immune system: Purdue and NIH\n",
      "510:Purdue Global to offer educational opportunities with tuition incentives to Iowa’s Montgomery County Memorial Hospital + Clinics\n",
      "511:Purdue thermal imaging innovation allows AI to see through pitch darkness like broad daylight\n",
      "512:Southwest Airlines offers opportunity for Purdue employees to earn A-List status\n"
     ]
    },
    {
     "name": "stderr",
     "output_type": "stream",
     "text": [
      "Your max_length is set to 200, but your input_length is only 161. Since this is a summarization task, where outputs shorter than the input are typically wanted, you might consider decreasing max_length manually, e.g. summarizer('...', max_length=80)\n"
     ]
    },
    {
     "name": "stdout",
     "output_type": "stream",
     "text": [
      "513:Registration open for upcoming Conference for Assistant Professors\n",
      "514:Update to policy on docking pay\n",
      "515:Purdue ties its Fulbright Scholar Awards record, eight faculty honored\n",
      "516:Purdue research awards and philanthropic fundraising both new records in fiscal year 2023\n",
      "517:Purdue Global School of Nursing honors four students with DAISY Awards\n",
      "518:IUPUI faculty transition fact sheet\n",
      "519:Upcoming food demo to focus on fiber-forward food; register by Aug. 7\n",
      "520:Purdue University Police Department seeks public feedback during reaccreditation process\n",
      "521:Billions hear of Purdue’s record for the world’s whitest paint\n",
      "522:Purdue Extension State Fair exhibits to showcase mental health awareness, veterinary care and becoming a Master Gardener\n",
      "523:Pro bono work helps students gain experience, keep faculty on top of legal changes\n",
      "524:Purdue response to Inside Higher Ed regarding Indianapolis faculty\n",
      "525:SupportLinc offers virtual Healthy Boiler ‘Navigating Back-to-School’ workshop\n",
      "526:Indiana Mesonet holds meeting to educate and form advisory board\n",
      "527:Affordability, Purdue presence help keep Lafayette atop WSJ/Realtor.com housing index for 3rd consecutive quarter\n",
      "528:Growing clouds in a lab to study the science of far-away skies\n",
      "529:Purdue’s ‘talking concrete’ embedded into new I-465 and I-69 interchange in Indianapolis\n",
      "530:Bringing the latest in medical technologies to the youngest patients\n",
      "531:ISA hosting several sheep-related competitions at Indiana State Fair\n",
      "532:Longtime leader of Purdue’s international programs announces retirement, search launched for successor\n",
      "533:IBJ Media’s Indiana 250 honors Purdue executives, trustees and alumni among state’s most influential leaders\n",
      "534:Purdue green industry experts to offer real-world expertise to professionals; host workshops in English and Spanish\n"
     ]
    },
    {
     "name": "stderr",
     "output_type": "stream",
     "text": [
      "Your max_length is set to 200, but your input_length is only 122. Since this is a summarization task, where outputs shorter than the input are typically wanted, you might consider decreasing max_length manually, e.g. summarizer('...', max_length=61)\n"
     ]
    },
    {
     "name": "stdout",
     "output_type": "stream",
     "text": [
      "535:4 Purdue police officers promoted at pinning ceremony, Chief’s Awards given\n",
      "536:Purdue for Life Foundation thanks campus instructors for participation in sold-out Grandparents University\n"
     ]
    },
    {
     "name": "stderr",
     "output_type": "stream",
     "text": [
      "Your max_length is set to 200, but your input_length is only 165. Since this is a summarization task, where outputs shorter than the input are typically wanted, you might consider decreasing max_length manually, e.g. summarizer('...', max_length=82)\n"
     ]
    },
    {
     "name": "stdout",
     "output_type": "stream",
     "text": [
      "537:CHL program to focus on taking control of type 2 diabetes, prediabetes\n",
      "538:Materials Management and Distribution provides shipping guidance ahead of potential UPS service disruptions\n",
      "539:Summer Undergraduate Research Symposium starts July 27\n",
      "540:Reducing speed limits, increasing safety on Purdue’s West Lafayette campus\n",
      "541:Purdue Global expands opportunities through Community College of the Air Force program\n",
      "542:Roth in-plan conversion option now available within voluntary retirement plan\n",
      "543:Roth in-plan conversion option now available within voluntary retirement plan\n",
      "544:International Self-Care Day takes place July 24; self-care resources available to help\n",
      "545:Purdue Innovates Startup Foundry awards $200,000 in equity investment to Aerovy Mobility and Uniform Sierra Aerospace\n",
      "546:Reducing speed limits, increasing safety on Purdue’s West Lafayette campus\n",
      "547:Diesel engine research leading to better efficiency, emissions standards on the roads\n",
      "548:High-rise structure efficiency, completion time look different thanks to SpeedCore composite modules\n",
      "549:Purdue Global’s new aviation management degree program can take students to new heights\n",
      "550:Purdue Center for Regional Development to support NSF Engines initiative, evaluate regional impact\n"
     ]
    },
    {
     "name": "stderr",
     "output_type": "stream",
     "text": [
      "Your max_length is set to 200, but your input_length is only 159. Since this is a summarization task, where outputs shorter than the input are typically wanted, you might consider decreasing max_length manually, e.g. summarizer('...', max_length=79)\n"
     ]
    },
    {
     "name": "stdout",
     "output_type": "stream",
     "text": [
      "551:Express Air Coach no longer campus vendor; reservations to be transferred\n",
      "552:Employee participation requested in brand survey\n",
      "553:Digging deeper into the Grounds department’s planting process\n",
      "554:Purdue welcomes fifth cohort of Mandela Washington Fellows to campus for six-week leadership institute\n",
      "555:Purdue Animal Sciences selects Hattie Duncan as livestock judging coordinator\n",
      "556:Soybean industry to benefit from growing demand of cell-cultured meat\n",
      "557:Pilotsmith partners with Purdue Global to address projected demand for aviation professionals over next 20 years\n",
      "558:Emotional Freedom Technique: Research supports benefits of tapping for mental health\n",
      "559:Jim Bullard, president of St. Louis Federal Reserve Bank, appointed inaugural dean at Purdue’s Daniels School of Business\n",
      "560:‘Asthma Care for Adults’ lifestyle program begins Aug. 15; register by July 26\n",
      "561:Purdue researchers receive $118,000 to develop freeze-drying, meat validation and thermal imaging innovations\n",
      "562:Amplified Sciences receives $400,000 NCI grant to improve early detection of pancreatic cancer\n",
      "563:Preventing traffic accidents to the moon and back\n"
     ]
    },
    {
     "name": "stderr",
     "output_type": "stream",
     "text": [
      "Your max_length is set to 200, but your input_length is only 53. Since this is a summarization task, where outputs shorter than the input are typically wanted, you might consider decreasing max_length manually, e.g. summarizer('...', max_length=26)\n"
     ]
    },
    {
     "name": "stdout",
     "output_type": "stream",
     "text": [
      "564:‘This is a comeback that’s really mine’\n",
      "565:Employee compensation statements available in SuccessFactors\n",
      "566:Reminder: New salary tier for medical benefits in effect; no change on 2023 benefit premiums for current employees\n",
      "567:HSA Bank investment update: TD Ameritrade investors will move to Charles Schwab platform over Labor Day weekend\n"
     ]
    },
    {
     "name": "stderr",
     "output_type": "stream",
     "text": [
      "Your max_length is set to 200, but your input_length is only 94. Since this is a summarization task, where outputs shorter than the input are typically wanted, you might consider decreasing max_length manually, e.g. summarizer('...', max_length=47)\n"
     ]
    },
    {
     "name": "stdout",
     "output_type": "stream",
     "text": [
      "568:Purdue Global Village virtual conference accepting proposals\n",
      "569:Campus events professionals invited to join Purdue University Special Events Council\n",
      "570:Purdue University ascends to the top 10 of the Global University Visibility rankings\n",
      "571:Purdue Police, Fire departments to offer ‘Prepared at Purdue’ training\n",
      "572:Purdue researchers fabricate sensors with potential health-monitoring applications onto ready-made wearables\n",
      "573:Purdue Convocations announces its 121st season\n"
     ]
    },
    {
     "name": "stderr",
     "output_type": "stream",
     "text": [
      "Your max_length is set to 200, but your input_length is only 144. Since this is a summarization task, where outputs shorter than the input are typically wanted, you might consider decreasing max_length manually, e.g. summarizer('...', max_length=72)\n"
     ]
    },
    {
     "name": "stdout",
     "output_type": "stream",
     "text": [
      "574:‘Baseball was my dream, and Purdue Global moved me forward’\n",
      "575:Indiana State Medical Association, Purdue announce landmark effort to address social drivers of health\n",
      "576:$1.3B investments in Purdue University facilities for students and faculty\n",
      "577:Healthy Boiler workshop focuses on getting family involved in the kitchen\n",
      "578:‘The Attitude of Gratitude’ is SupportLinc’s featured topic for July\n",
      "579:$1.3B investments in Purdue University facilities for students and faculty\n",
      "580:All new summer, fall 2023 undergraduate Purdue students to be issued mobile digital ID cards for greater campus convenience\n",
      "581:Purdue Global faculty earn national credential in teaching excellence\n",
      "582:Biotechnology offers holistic approach to restoration of at-risk forest tree species\n",
      "583:Purdue Global faculty earn national credential in teaching excellence\n",
      "584:Kayli Peterson is driven to succeed\n",
      "585:Fact sheet: Student debt at Purdue University\n",
      "586:Sociogenomics: The intricate science of how genetics influences sociology\n",
      "587:ICON co-directors Mou, Sundaram to lead Saab-ONR project aimed at enhancing battlespace threat awareness\n",
      "588:AnalySwift receives nearly $800,000 NASA contract to improve simulation of next-generation composites\n",
      "589:Summer program helps students develop skills for growing semiconductors industry\n",
      "590:Purdue Global names vice president of strategic enrollment management\n",
      "591:Purdue scores top 10 among U.S. public universities in QS world rankings\n",
      "592:Green Industry trade show and research tours at Purdue Turf and Landscape Field Day\n"
     ]
    },
    {
     "name": "stderr",
     "output_type": "stream",
     "text": [
      "Your max_length is set to 200, but your input_length is only 154. Since this is a summarization task, where outputs shorter than the input are typically wanted, you might consider decreasing max_length manually, e.g. summarizer('...', max_length=77)\n"
     ]
    },
    {
     "name": "stdout",
     "output_type": "stream",
     "text": [
      "593:Expert: How wildfires contaminate drinking water\n",
      "594:Topp named to lead institute for advanced pharmaceutical manufacturing at Purdue\n",
      "595:Purdue-launched solid rocket motor-maker Adranos flies off with Anduril\n"
     ]
    },
    {
     "name": "stderr",
     "output_type": "stream",
     "text": [
      "Your max_length is set to 200, but your input_length is only 177. Since this is a summarization task, where outputs shorter than the input are typically wanted, you might consider decreasing max_length manually, e.g. summarizer('...', max_length=88)\n"
     ]
    },
    {
     "name": "stdout",
     "output_type": "stream",
     "text": [
      "596:Purdue and SEMI convene semiconductor partnership meeting in Washington, D.C., with top Indian government officials and industry leaders\n",
      "597:Introducing high school students to careers in aviation and space\n",
      "598:Purdue Global and Northern Light Inland Hospital celebrate opening of state-of-the-art simulation center\n",
      "599:Purdue signs tech-focused MOUs with Taiwan universities; Krach Institute for Tech Diplomacy hosts Taiwan delegation and Ambassador Bi-khim Hsiao\n",
      "600:Purdue University, High Alpha partner to house programs in downtown Indianapolis\n",
      "601:Purdue, TSMC extend partnership on semiconductor research and workforce development\n",
      "602:It’s never too late to come back. ‘Purdue Global was built for working adults like us.’\n",
      "603:Are cars lasting longer than they used to? – new video uploaded to AP Video Hub\n",
      "604:Purdue Global’s organizational management program equips employees for new leadership, managerial roles\n",
      "605:Governor appoints new student trustee for Purdue; three trustees reappointed\n",
      "606:Fathers push the limits searching for balance, family and education\n",
      "607:Purdue Digital Ag Showcase returns on July 14\n",
      "608:Purdue University in Indianapolis: Launching Purdue’s first comprehensive urban campus and forming America’s Hard Tech Corridor\n",
      "609:Indiana University and Purdue University sign historic agreement\n",
      "610:Cloud computing and blue-sky thinking: An atmospheric scientist illuminates the science of clouds in Earth’s sky and beyond\n",
      "611:Women of the Green Industry meetings to feature industry expert, offer career development opportunities\n",
      "612:‘Purdue Global moved me forward’\n",
      "613:Beyond on and off: Purdue engineers create continuously tunable thermal regulators for batteries and electronic devices\n",
      "614:Purdue Global, Ivy Tech sign new Pathways Partnership agreement\n",
      "615:Purdue Global, Ivy Tech sign new Pathways Partnership agreement\n",
      "616:Trustees sign off on 2024 budget, 11th and 12th years of frozen tuition for Purdue West Lafayette\n",
      "617:Trustees approve Purdue University Airport runway rehabilitation\n",
      "618:Purdue trustees ratify faculty and staff positions, approve resolutions of appreciation and namings\n",
      "619:Purdue trustees adopt 2024 budget, approve tuition freeze for 11th and 12th consecutive years among actions\n",
      "620:Provost provides update on leadership roles\n",
      "621:Professor Bernie Engel appointed Purdue’s next Glenn W. Sample Dean of Agriculture\n",
      "622:Gallardo named vice president of the updated Office of Engagement\n",
      "623:Purdue Global chancellor highlights growth initiatives, student success\n",
      "624:Purdue Applied Research Institute opens $41M Hypersonics and Applied Research Facility\n",
      "625:AI-driven mobile health algorithm uses phone camera to detect blood vessel oxygen levels\n",
      "626:Purdue Global school to receive new name\n",
      "627:Purdue launches partnership with Greek universities and business chamber, deepens collaboration with European semiconductor hub in Belgium\n",
      "628:Purdue Farm Management Tour to visit Washington and Jackson counties in July\n",
      "629:Alumnus and wife give $10 million in unrestricted support to Purdue’s new Daniels School of Business\n",
      "630:EPICS team designs, creates and donates bronze marker to honor Civil War hero\n",
      "631:Treatment creates steel alloys with superior strength and plasticity\n",
      "632:Software supply chain security risks are here: Are we equipped to act accordingly? Purdue tandem tackles thorny cybersecurity issue\n",
      "633:Independence Science and ViewPlus Technologies partner to create science access tools for students who experience blindness or low vision\n",
      "634:Purdue University offers new Medical and Healthcare Writing Graduate Certificate\n",
      "635:Concord Law School at Purdue Global to present ‘The Battle Over Religious Liberty in the Courts’ in next Distinguished Speaker Series event\n",
      "636:Purdue Global to celebrate Juneteenth with online programs, keynote address\n",
      "637:Don’t forget military families on Memorial Day – new video uploaded to AP Video Hub\n",
      "638:Emergent Solar Energy starts the engines on Abel Construction’s 210-kilowatt, roof-mounted solar project\n",
      "639:Conor Daly and Purdue Global join forces for the 107th running of the Indianapolis 500\n",
      "640:Purdue receives $5 million Lilly Endowment grant to support Military Family Research Institute\n",
      "641:Purdue University earns STARS Silver rating for campuswide sustainability\n",
      "642:Purdue agrivoltaic farming structures and software harvest solar power at lower cost and with minimal impact on crop yield\n",
      "643:Purdue biology innovation allows the introduction of valuable traits in plants without creating transgenic plants\n",
      "644:Purdue to hold public hearing for tuition and fee proposals\n"
     ]
    },
    {
     "name": "stderr",
     "output_type": "stream",
     "text": [
      "Your max_length is set to 200, but your input_length is only 165. Since this is a summarization task, where outputs shorter than the input are typically wanted, you might consider decreasing max_length manually, e.g. summarizer('...', max_length=82)\n"
     ]
    },
    {
     "name": "stdout",
     "output_type": "stream",
     "text": [
      "645:Purdue signs landmark U.S.-Japan agreement in semiconductors at G7 summit\n",
      "646:Annual free summer concert series returning to Purdue Memorial Union June 2\n",
      "647:Practicing what it teaches, environmentally friendly Purdue earns sustainability honor from U.S. Department of Education\n",
      "648:New Purdue Global doctoral program to expand access for next generation of leaders\n",
      "649:From micro to macro: Cooling data centers from the inside out\n",
      "650:Approaching artificial intelligence: How Purdue is leading the research and advancement of AI technologies\n",
      "651:Purdue Ventures invests in wearable communication chip company Ixana\n",
      "652:Purdue University Fire Department recognizes local business for supporting annual Shop with a Firefighter event for more than a decade\n",
      "653:Purdue President Chiang to grads: Let Boilermakers lead in ‘sharpening the ability to doubt, debate and dissent’ in world of AI\n",
      "654:Purdue mourns the death of alum and trustee William ‘Bill’ Oesterle after 5-year battle with ALS\n",
      "655:Purdue blazed a historic trail in computer science, still pushes the field forward\n",
      "656:Purdue’s eXcellence in Manufacturing and Operations initiative meets the moment\n",
      "657:Industrial engineering grad: ‘Nowhere else in the country could I have had the extraordinary experience that I had here at Purdue’\n",
      "658:Purdue Global looks to expand education opportunities for working adults\n",
      "659:Feasibility study: Advanced nuclear technology is a potential option to achieve zero carbon emissions for Purdue University\n",
      "660:Purdue and India establish milestone semiconductor alliance; sign partnership in the presence of Minister Ashwini Vaishnaw\n",
      "661:Building the first highway segment that can charge electric vehicles as they drive\n",
      "662:Purdue receives $500,000 grant as part of new AI Institute focusing on climate-smart agriculture and forestry\n",
      "663:Krach Institute for Tech Diplomacy at Purdue Fireside Chat set for Thursday (May 11)\n",
      "664:From artisanal to automatic: Purdue tool allows greater control, speed for semiconductor manufacture\n",
      "665:Motherly love: Sacrificing for goals, balance and growth\n",
      "666:Keynote to Purdue Global grads: Keep chasing those dreams because you will catch them\n",
      "667:More than 1,400 graduates celebrate their ‘comeback’ during Purdue Global commencement ceremonies\n",
      "668:Appointments, honors and activities\n",
      "669:NSF funds institute to research AI-powered cybersecurity\n",
      "670:Indiana General Assembly adopts 2-year appropriations budget: Purdue receives full transition funding for Purdue in Indianapolis along with increases for operating funding and capital projects\n",
      "671:Remote Work Professional Certificate course grant funding available, only $50 for participants\n",
      "672:Purdue startup Aerovy Mobility develops cloud software to support infrastructure for electric aircraft\n",
      "673:US-Europe semiconductors collaboration milestone as Purdue, imec, Indiana announce partnership\n",
      "674:Purdue police warn of thefts from unlocked vehicles\n",
      "675:New building to elevate transformative education for Purdue nursing and pharmacy programs\n",
      "676:Purdue Farmers Market set to begin new season May 4\n",
      "677:Provost announces national search, interim vice provost for enrollment management\n",
      "678:Ranked No. 1, Purdue’s 100% online hospitality and tourism management master’s is a hot commodity\n",
      "679:Desire for research and discovery leads to Goldwater Scholarships for three Purdue students\n",
      "680:High-tech toolkit to analyze digital evidence made more efficient and budget-friendly for law enforcement agencies\n",
      "681:Internet inventors Cerf and Kahn to join President Chiang for September Presidential Lecture Series event, marking Purdue Computer Science’s 60th anniversary\n",
      "682:Purdue@DC to amplify Boilermaker presence in nation’s capital\n",
      "683:Purdue Day of Giving thanks all donors for historic $110.8 million\n",
      "684:Purdue Global to celebrate more than 1,400 graduates at May commencements\n",
      "685:Changing lives through inventions: Purdue jumps to the top 5 of global leaders in US patents received\n",
      "686:Pharmacy alumna and husband give additional $17 million to support Purdue College of Pharmacy\n",
      "687:Purdue University receives $10 million commitment from alumni William and Barbara Rakosnik\n",
      "688:Purdue police warn of scam targeting parents and family members of students\n",
      "689:Purdue engineering graduate program ranked in the top 2% nationally, 4th among more than 200 universities in the US\n",
      "690:Uncovering a star’s demise: Supermassive black hole tears apart a giant star in a display brighter, more energetic and longer lasting than any observed before\n",
      "691:Applications open for Purdue’s new fully online Master of Science in International Agribusiness\n",
      "692:Purdue researchers build transparent conductors without expensive rare-earth indium\n",
      "693:STARTedUP Foundation, Purdue announce pitch competition regional qualifiers\n",
      "694:Purdue Global Law School’s rural law course helps address legal deserts\n",
      "695:Insignum AgTech and Beck’s collaborate to help corn ‘talk’\n",
      "696:Purdue Ventures invests in antibody-based cancer therapeutics company\n",
      "697:‘Purdue Innovates’ launches one united IP commercialization and startup creation network\n",
      "698:President Chiang and Purdue-affiliated Veo celebrate company’s launch on campus\n",
      "699:Purdue Global commencement celebrates multigenerational success\n",
      "700:Purdue researchers featured on multiple major national broadcasts\n",
      "701:Concord Law School launches new class to address rural legal issues\n",
      "702:Concord Law School grad Dolan Williams shares lessons learned – and his commitment to family\n",
      "703:Purdue convenes CHIPS summit in D.C. with Sec. Raimondo and Sen. Young, announces sustainability index and facility investment\n",
      "704:Purdue leadership forms task force to take growing semiconductors program to next level\n",
      "705:Purdue launches Purdue Mobile ID for students, allowing them to get around campus with just a simple tap of their mobile device\n",
      "706:Computer Science synergies across Science and Engineering; Purdue invests in computing to meet student need\n",
      "707:Purdue launches nation’s first Institute for Physical AI (IPAI), recruiting 50 new faculty\n",
      "708:Purdue researchers combine electric poling and 3D printing into a single step\n",
      "709:Trustees endorse vision statement for Purdue’s Online Learning 2.0\n",
      "710:Trustees endorse 2023-24 Purdue faculty and staff salary policy\n",
      "711:Trustees approve new electronic research administration system; Doctor of Psychology and University College at Purdue Northwest; chilled water capacity enhancement projects\n",
      "712:Trustees approve 1,000 beds for student housing via resolution with Purdue Research Foundation\n",
      "713:Purdue trustees announce ‘Purdue Computes’ initiative, add Online Learning 2.0 to Next Moves among actions\n",
      "714:Purdue announces 3-pronged ‘Purdue Computes’ initiative: Propel Computer Science to the nation’s top 10, launch the Institute of Physical AI and expand semiconductor facilities\n",
      "715:Purdue trustees ratify faculty and staff positions, promotions; approve resolutions of appreciation\n",
      "716:Purdue receives $10 million commitment from Blake family to establish ethics center in new Daniels School of Business\n",
      "717:Autonomous transport made more inclusive by Purdue\n",
      "718:Purdue continues to lead in chip technology and workforce innovation across the US\n",
      "719:Purdue continues to lead in chip technology and workforce innovation across the US\n",
      "720:Purdue Global’s Concord Law School celebrates 25 years of audacity\n",
      "721:Dudley and Lambertus Halls dedication set for Friday (April 14)\n",
      "722:Purdue University in Indianapolis’ IAC creates significant savings for Indiana businesses\n",
      "723:Mark Lewis named inaugural CEO of Purdue Applied Research Institute\n"
     ]
    },
    {
     "name": "stderr",
     "output_type": "stream",
     "text": [
      "Your max_length is set to 200, but your input_length is only 191. Since this is a summarization task, where outputs shorter than the input are typically wanted, you might consider decreasing max_length manually, e.g. summarizer('...', max_length=95)\n"
     ]
    },
    {
     "name": "stdout",
     "output_type": "stream",
     "text": [
      "724:Purdue offering new online Hypersonics Graduate Certificate\n",
      "725:Purdue sophomore named Frederick Douglass Fellow\n",
      "726:New Webb telescope image reveals wonders, beauty, secrets of star structure and building blocks of life\n",
      "727:13 Purdue Researchers Earn NSF Early Career Recognition\n",
      "728:Former U.S. ambassador to Ukraine to speak in ethics series\n"
     ]
    },
    {
     "name": "stderr",
     "output_type": "stream",
     "text": [
      "Your max_length is set to 200, but your input_length is only 190. Since this is a summarization task, where outputs shorter than the input are typically wanted, you might consider decreasing max_length manually, e.g. summarizer('...', max_length=95)\n"
     ]
    },
    {
     "name": "stdout",
     "output_type": "stream",
     "text": [
      "729:Purdue University and Duke Energy to release interim report of nuclear power feasibility study\n",
      "730:Stories spark the imagination of Purdue’s first Beinecke Scholar\n",
      "731:Air Force initiative at Purdue progresses as it enters second year\n",
      "732:Caterpillar reaffirms recent $1 million commitment to Purdue by establishing office at Convergence Center\n",
      "733:‘This Is My Comeback’: Purdue Global launches new brand platform and marketing campaign\n"
     ]
    },
    {
     "name": "stderr",
     "output_type": "stream",
     "text": [
      "Your max_length is set to 200, but your input_length is only 134. Since this is a summarization task, where outputs shorter than the input are typically wanted, you might consider decreasing max_length manually, e.g. summarizer('...', max_length=67)\n"
     ]
    },
    {
     "name": "stdout",
     "output_type": "stream",
     "text": [
      "734:Purdue Extension needs your help growing food for science\n"
     ]
    },
    {
     "name": "stderr",
     "output_type": "stream",
     "text": [
      "Your max_length is set to 200, but your input_length is only 189. Since this is a summarization task, where outputs shorter than the input are typically wanted, you might consider decreasing max_length manually, e.g. summarizer('...', max_length=94)\n"
     ]
    },
    {
     "name": "stdout",
     "output_type": "stream",
     "text": [
      "735:Appointments, honors and activities\n",
      "736:Purdue economic education program to celebrate entrepreneurial efforts of Indiana students\n",
      "737:Today’s top 5 from Purdue University\n",
      "738:GeniPhys secures $6 million in Series A funding\n",
      "739:NutraMaize receives $650,000 USDA grant to scale research on orange corn that improves poultry health and egg yolk pigmentation\n",
      "740:Collaborative Research With Purdue Polytechnic High Schools: Documenting Student Impact\n",
      "741:$500,000 grant targets lack of air-quality data in swine production\n",
      "742:Purdue launches oneAPI Center of Excellence to advance AI and HPC teaching in the US\n",
      "743:Sheep checkoff calls for nominations, approves projects\n",
      "744:Today’s top 5 from Purdue University\n",
      "745:Purdue receives $20 million commitment from alum Sassola for new pharmacy leadership academy\n",
      "746:Connected vehicles the latest tool to give engineers real-time insight into highway traffic congestion issues\n",
      "747:Colorful sidewalks move tourists, Purdue HTM researchers discover\n",
      "748:Boilermaker Vegetable Season Pass returns for 2023\n",
      "749:Purdue Global to offer educational opportunities at reduced rates to Maine’s Redington-Fairview General Hospital\n",
      "750:Indiana GEAR UP: Creating doors and opportunities for students\n",
      "751:Purdue’s ViPER Group innovates high-energy-density, long life-cycle rechargeable lithium metal batteries\n",
      "752:Ericsson, Saab and Purdue University announce ‘lab to life’ innovative 5G network to make Purdue Airport accessible as a real-life research site for aviation industry\n",
      "753:Today’s top 5 from Purdue University\n",
      "754:New electric scooters coming to campus March 17, partnership to promote safety\n",
      "755:Purdue offering online Prequalified Structures for the Stage course\n",
      "756:How the NCAA tournament impacts host cities – new video uploaded to AP Video Hub\n"
     ]
    },
    {
     "name": "stderr",
     "output_type": "stream",
     "text": [
      "Your max_length is set to 200, but your input_length is only 170. Since this is a summarization task, where outputs shorter than the input are typically wanted, you might consider decreasing max_length manually, e.g. summarizer('...', max_length=85)\n"
     ]
    },
    {
     "name": "stdout",
     "output_type": "stream",
     "text": [
      "757:Purdue’s ‘world’s whitest paint’ wins 2023 SXSW Innovation Award\n",
      "758:Purdue Road School expected to draw more than 3,000 participants\n",
      "759:Purdue, Varcity partner for new alumni-focused residential development in Discovery Park District\n",
      "760:‘Talking’ concrete could help prevent traffic jams and cut carbon emissions\n",
      "761:PurdueALERT test, campuswide tornado drill on Tuesday (March 14)\n",
      "762:Purdue engineers create safer solid-state lithium-ion batteries from new composite materials\n",
      "763:Today’s top 5 from Purdue University\n",
      "764:Americans planning frugal uses for their 2023 tax refunds\n",
      "765:Purdue Women’s Conference 2023 to feature more than 20 empowering speakers\n",
      "766:Fighter pilot Heather Penney on Purdue journey and 9/11 mission\n",
      "767:Purdue engineer, IU cardiologist collaborate to offer innovative tool and fresh hope for babies with heart defects\n",
      "768:Purdue Global’s Dooley selected to ACE board of directors\n",
      "769:Gardeners asked to be vigilant this spring for invasive jumping worms\n",
      "770:Wheelchair prototype safely navigates passengers through airports to aircraft seats\n",
      "771:Biologists, chemical engineers collaborate to reveal complex cellular process inside petunias\n",
      "772:Snyder Lecture speaker to focus on land-grant universities’ role in shaping the future of higher education\n",
      "773:Purdue University named No. 16 among World’s Most Innovative Companies, No. 1 in education\n",
      "774:Today’s top 5 from Purdue University\n",
      "775:Helping construction material manufacturers reduce the energy consumption, carbon footprint of heating and cooling homes\n",
      "776:Financial wellness tips for America Saves Week – new video uploaded to AP Video Hub\n",
      "777:Discovery of the ‘bubble phase of composite fermions’ confirms existence of a new family of quantum matter\n",
      "778:Concord Law School celebrates 25 years since becoming the nation’s first of its kind\n",
      "779:Novilytic preps for expansion with launch of new Proteometer-L\n",
      "780:1095 tax documents mailed with wrong data\n",
      "781:Purdue Global celebrates nearly 1,000 graduates in Anaheim commencement ceremonies\n",
      "782:Commencement speaker to grads: You can overcome the hurricanes of life\n",
      "783:Today’s top 5 from Purdue University\n",
      "784:Purdue’s Brian Lamb School of Communication offering new combined BA and MS program\n",
      "785:Indiana Life Sciences Manufacturing 2023 Summit\n"
     ]
    },
    {
     "name": "stderr",
     "output_type": "stream",
     "text": [
      "Your max_length is set to 200, but your input_length is only 192. Since this is a summarization task, where outputs shorter than the input are typically wanted, you might consider decreasing max_length manually, e.g. summarizer('...', max_length=96)\n"
     ]
    },
    {
     "name": "stdout",
     "output_type": "stream",
     "text": [
      "786:Ukraine Scholars Initiative expands and receives Heritage Group gift\n",
      "787:U.S. cybersecurity leaders to examine lessons learned and set strategies for future risk\n",
      "788:Purdue police investigating reports of fraud related to purchasing basketball tickets\n",
      "789:Purdue Global School of Nursing to support Story County Medical Center’s participation in DAISY Award program\n",
      "790:Purdue Global partnering with Northern Light Inland Hospital on innovative learning model featuring state-of-the-art simulation center\n",
      "791:Dust explosion incidents increased last year, no fatalities\n",
      "792:Purdue Global announces Anaheim commencement weekend schedule — Feb. 24-25\n"
     ]
    },
    {
     "name": "stderr",
     "output_type": "stream",
     "text": [
      "Your max_length is set to 200, but your input_length is only 197. Since this is a summarization task, where outputs shorter than the input are typically wanted, you might consider decreasing max_length manually, e.g. summarizer('...', max_length=98)\n"
     ]
    },
    {
     "name": "stdout",
     "output_type": "stream",
     "text": [
      "793:Today’s top 5 from Purdue University\n",
      "794:Hands-on ‘guitar lab’ one of Purdue’s most popular courses\n",
      "795:Purdue Ventures invests $250,000 in assistive educational technology company\n",
      "796:Purdue-connected digital health startup wins phase 1 of NIH competition for maternal health\n",
      "797:Purdue University receives $21 million art donation of Degas sculptures from engineering alum Avrum Gray\n",
      "798:Purdue Global, UMGC Team with GetSet Learning to Boost Student Persistence and Retention\n",
      "799:You’ve got to have heart: Computer scientist works to help AI comprehend human emotions\n",
      "800:White Family Foundation commits $50 million to new Daniels School of Business at Purdue University\n",
      "801:$10 million USDA grant to fuel economic resilience and sustainability in Eastern U.S. forests\n",
      "802:Purdue secures university-issued/subsidized devices through TikTok removal\n"
     ]
    },
    {
     "name": "stderr",
     "output_type": "stream",
     "text": [
      "Your max_length is set to 200, but your input_length is only 179. Since this is a summarization task, where outputs shorter than the input are typically wanted, you might consider decreasing max_length manually, e.g. summarizer('...', max_length=89)\n"
     ]
    },
    {
     "name": "stdout",
     "output_type": "stream",
     "text": [
      "803:Appointments, honors and activities\n",
      "804:Leading researcher on health and social inequities to speak at John Martinson Honors College\n",
      "805:Indiana AgrAbility farmer to speak at 2023 AgrAbility National Training Workshop\n",
      "806:Today’s top 5 from Purdue University\n",
      "807:Purdue Global Chancellor Dooley to appear on ‘The Balancing Act’\n",
      "808:Health Care Navigation Program now available\n",
      "809:Food survey queries consumers about New Year’s resolutions, risk tolerance\n",
      "810:New success coaches to help Purdue Global students with life challenges\n",
      "811:Speaking stones: Analyzing Antarctica’s rocks to explore Earth’s past and possible futures.\n",
      "812:Arvind Raman selected as the next dean of Purdue’s College of Engineering, the largest top-ranked program in the nation\n",
      "813:Purdue Engineering to play key role in two new SRC JUMP 2.0 centers\n",
      "814:Abbott appointed interim Purdue associate dean and Extension director\n",
      "815:Commitment to service prompts restaurant exec to choose Purdue Global\n",
      "816:Purdue trustees ratify faculty and staff positions, approve contract for new football coach and resolutions of appreciation\n"
     ]
    },
    {
     "name": "stderr",
     "output_type": "stream",
     "text": [
      "Your max_length is set to 200, but your input_length is only 188. Since this is a summarization task, where outputs shorter than the input are typically wanted, you might consider decreasing max_length manually, e.g. summarizer('...', max_length=94)\n"
     ]
    },
    {
     "name": "stdout",
     "output_type": "stream",
     "text": [
      "817:Purdue trustees endorse 12th consecutive tuition freeze\n",
      "818:Purdue trustees discuss student housing, identify ways to increase capacity\n"
     ]
    },
    {
     "name": "stderr",
     "output_type": "stream",
     "text": [
      "Your max_length is set to 200, but your input_length is only 133. Since this is a summarization task, where outputs shorter than the input are typically wanted, you might consider decreasing max_length manually, e.g. summarizer('...', max_length=66)\n"
     ]
    },
    {
     "name": "stdout",
     "output_type": "stream",
     "text": [
      "819:Purdue trustees approve plans for state-of-the-art Mitchell E. Daniels, Jr. School of Business, endorse 12th consecutive tuition freeze\n",
      "820:Trustees approve winter recess for 2023\n",
      "821:Purdue’s next big move: The Mitchell E. Daniels, Jr. School of Business\n",
      "822:Chancellor Dooley updates trustees on Purdue Global Moves\n",
      "823:Purdue researchers receive over $143,000 to strengthen marketplace interest in their IP\n",
      "824:Today’s top 5 from Purdue University\n",
      "825:Purdue Ag-Celerator fund invests $100,000 in pathogen detection company\n",
      "826:Purdue a factor as Lafayette No. 1 nationally in latest WSJ/Realtor.com housing index of most affordable markets for fourth quarter\n",
      "827:The moon is too hot and too cold; now it could be just right for humans, thanks to newly available science\n",
      "828:Digital revolution inspires new research direction in ecosystem structural diversity\n",
      "829:Purdue’s popular aseptic processing and packaging workshop now offered online\n"
     ]
    },
    {
     "name": "stderr",
     "output_type": "stream",
     "text": [
      "Your max_length is set to 200, but your input_length is only 150. Since this is a summarization task, where outputs shorter than the input are typically wanted, you might consider decreasing max_length manually, e.g. summarizer('...', max_length=75)\n"
     ]
    },
    {
     "name": "stdout",
     "output_type": "stream",
     "text": [
      "830:Purdue faculty chosen as fellows of the American Association for the Advancement of Sciences\n",
      "831:Purdue opens Black History Month by honoring Parker sisters\n",
      "832:Anu, previously gropod, awarded nearly $1 million competitive grant from the National Science Foundation\n",
      "833:Forage enthusiasts to gather for annual meeting and seminar\n",
      "834:VR avatars rival online interactions in creating closeness\n",
      "835:Today’s top 5 from Purdue University\n",
      "836:Resume normal campus parking; regular enforcement begins at 7 a.m. Friday\n",
      "837:Researchers tailor thickness of conducting nitrides and oxides to enhance their photonic applications\n",
      "838:Registration opens for the Ag Women Engage Conference\n",
      "839:Purdue launches new AI-based global forest mapping project\n",
      "840:Study: How to apply lessons from Colorado’s costliest wildfire to drinking water systems\n",
      "841:Transistors repurposed as microchip ‘clock’ address supply chain weakness\n",
      "842:Purdue’s online engineering graduate programs gain overall in U.S. News rankings of Best Online Programs\n",
      "843:Towing risk: Remove on-street vehicles from marked snow routes by 11 p.m. tonight\n",
      "844:How economic policy impacts crime – new video uploaded to AP Video Hub\n",
      "845:Purdue Global and Ambassador Health to benefit from strategic partnership\n",
      "846:Stratolaunch creates Advanced Program Office at Discovery Park District and collaborates with Purdue University on hypersonic design and test\n",
      "847:David MacMillan, the 2021 Nobel laureate in chemistry, to join President Chiang for Presidential Lecture Series on Feb. 13\n",
      "848:Purdue University, Purdue Global discontinue university accounts on TikTok and review further steps\n",
      "849:Longtime Purdue benefactor Bruce White dies at 70\n",
      "850:Today’s top 5 from Purdue University\n"
     ]
    },
    {
     "name": "stderr",
     "output_type": "stream",
     "text": [
      "Your max_length is set to 200, but your input_length is only 153. Since this is a summarization task, where outputs shorter than the input are typically wanted, you might consider decreasing max_length manually, e.g. summarizer('...', max_length=76)\n"
     ]
    },
    {
     "name": "stdout",
     "output_type": "stream",
     "text": [
      "851:Purdue Bands & Orchestras hosting 33rd annual Purdue Jazz Festival\n",
      "852:Using cancer cells as logic gates to determine what makes them move\n",
      "853:Purdue engineers improve solar cell efficiency, stability\n",
      "854:Expo registration open for Indiana green industry professionals\n",
      "855:Raytheon Technologies commits $4 million to Purdue for named chair position in new School of Business\n"
     ]
    },
    {
     "name": "stderr",
     "output_type": "stream",
     "text": [
      "Your max_length is set to 200, but your input_length is only 164. Since this is a summarization task, where outputs shorter than the input are typically wanted, you might consider decreasing max_length manually, e.g. summarizer('...', max_length=82)\n"
     ]
    },
    {
     "name": "stdout",
     "output_type": "stream",
     "text": [
      "856:OmniVis recognized with prestigious Most Fundable Companies designation\n",
      "857:President Chiang, Provost Wolfe to hold undergraduate listening session\n",
      "858:National searches for Purdue’s named deanships in Agriculture and in Science; nominations sought\n",
      "859:Finalists for dean of College of Engineering selected, will make on-campus presentations\n",
      "860:Expansive agricultural dataset now available from Purdue University\n",
      "861:Today’s top 5 from Purdue University\n",
      "862:Purdue scientists and engineers push the boundaries of space knowledge, studying the stars, the solar system and beyond\n"
     ]
    },
    {
     "name": "stderr",
     "output_type": "stream",
     "text": [
      "Your max_length is set to 200, but your input_length is only 190. Since this is a summarization task, where outputs shorter than the input are typically wanted, you might consider decreasing max_length manually, e.g. summarizer('...', max_length=95)\n"
     ]
    },
    {
     "name": "stdout",
     "output_type": "stream",
     "text": [
      "863:December Consumer Food Insights Report reveals steady food behaviors through economic change\n",
      "864:How the College of Education is addressing the teacher shortage\n"
     ]
    },
    {
     "name": "stderr",
     "output_type": "stream",
     "text": [
      "Your max_length is set to 200, but your input_length is only 190. Since this is a summarization task, where outputs shorter than the input are typically wanted, you might consider decreasing max_length manually, e.g. summarizer('...', max_length=95)\n"
     ]
    },
    {
     "name": "stdout",
     "output_type": "stream",
     "text": [
      "865:Plan ahead for on-street snow removal: Purdue, city of West Lafayette snow routes and process\n",
      "866:Purdue to celebrate Martin Luther King Jr. with concert by Morgan State University Choir\n",
      "867:Purdue Global Concord Law School to discuss how technology can promote access to justice in next Distinguished Speaker Series\n",
      "868:Purdue announces investments and policies for scholarly impact and research excellence\n",
      "869:New high-tech startup developing smart contact lenses for glaucoma diagnosis and management\n"
     ]
    },
    {
     "name": "stderr",
     "output_type": "stream",
     "text": [
      "Your max_length is set to 200, but your input_length is only 130. Since this is a summarization task, where outputs shorter than the input are typically wanted, you might consider decreasing max_length manually, e.g. summarizer('...', max_length=65)\n"
     ]
    },
    {
     "name": "stdout",
     "output_type": "stream",
     "text": [
      "870:Welcome back letter from President Chiang, Provost Wolfe\n",
      "871:Over 500 to attend Purdue’s Indiana STEM Education Conference\n",
      "872:Purdue Global’s Diego Britto selected for second term on UPCEA finance committee\n",
      "873:Today’s top 5 from Purdue University\n",
      "874:Purdue appoints senior vice president, vice provosts and interim agriculture dean\n"
     ]
    }
   ],
   "source": [
    "import os\n",
    "import numpy as np\n",
    "import pandas as pd\n",
    "from datasets import Dataset\n",
    "from transformers import pipeline\n",
    "# Saving model\n",
    "from transformers import AutoTokenizer, AutoModelForSequenceClassification, AutoConfig, AutoModelForSeq2SeqLM\n",
    "\n",
    "testing_file = '/home/ubuntu/llama/source/Describer/article_metadata.test.csv'\n",
    "testing_df = pd.read_csv(testing_file)\n",
    "testing_dataset = Dataset.from_pandas(testing_df)\n",
    "\n",
    "# Download configuration from huggingface.co and cache.\n",
    "config = AutoConfig.from_pretrained(\"google-t5/t5-base\")\n",
    "tokenizer = AutoTokenizer.from_pretrained(\"google-t5/t5-base\")\n",
    "model = AutoModelForSeq2SeqLM.from_config(config)\n",
    "\n",
    "summarizer = pipeline(\"summarization\", model=\"google-t5/t5-base\", device=0)\n",
    "updated = []\n",
    "\n",
    "for index, row in testing_df.iterrows():\n",
    "    text = \"summarize:\" + row['Article Text']\n",
    "    summary = summarizer(text)\n",
    "    obj = {'title':row['Title'], 'content':text, 'summary':summary}\n",
    "    print(str(index) + ':' + row['Title'])\n",
    "    updated.append(obj)\n",
    "    \n",
    "updated_df = pd.DataFrame(updated)\n",
    "updated_df.to_csv('/home/ubuntu/llama/source/Describer/article.updated_2023.csv', index=False)"
   ]
  },
  {
   "cell_type": "code",
   "execution_count": null,
   "metadata": {},
   "outputs": [],
   "source": []
  }
 ],
 "metadata": {
  "colab": {
   "name": "Summarization",
   "provenance": []
  },
  "kernelspec": {
   "display_name": "Python 3 (ipykernel)",
   "language": "python",
   "name": "python3"
  },
  "language_info": {
   "codemirror_mode": {
    "name": "ipython",
    "version": 3
   },
   "file_extension": ".py",
   "mimetype": "text/x-python",
   "name": "python",
   "nbconvert_exporter": "python",
   "pygments_lexer": "ipython3",
   "version": "3.12.3"
  }
 },
 "nbformat": 4,
 "nbformat_minor": 4
}
