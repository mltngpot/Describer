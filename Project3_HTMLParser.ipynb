{
  "nbformat": 4,
  "nbformat_minor": 0,
  "metadata": {
    "colab": {
      "provenance": [],
      "authorship_tag": "ABX9TyMFLx/0H8H3lNpRGWT8xit+",
      "include_colab_link": true
    },
    "kernelspec": {
      "name": "python3",
      "display_name": "Python 3"
    },
    "language_info": {
      "name": "python"
    }
  },
  "cells": [
    {
      "cell_type": "markdown",
      "metadata": {
        "id": "view-in-github",
        "colab_type": "text"
      },
      "source": [
        "<a href=\"https://colab.research.google.com/github/mltngpot/Describer/blob/main/Project3_HTMLParser.ipynb\" target=\"_parent\"><img src=\"https://colab.research.google.com/assets/colab-badge.svg\" alt=\"Open In Colab\"/></a>"
      ]
    },
    {
      "cell_type": "code",
      "execution_count": 33,
      "metadata": {
        "colab": {
          "base_uri": "https://localhost:8080/"
        },
        "id": "tuUGLx7LGwt3",
        "outputId": "3254ebdd-b421-432e-fa15-004cd27d1a8a"
      },
      "outputs": [
        {
          "output_type": "stream",
          "name": "stdout",
          "text": [
            "Title:\n",
            "Employees can now connect with their Purdue Retirement Program on Fidelity NetBenefits\n",
            "\n",
            "Article Text:\n",
            "Beginning Jan. 1, the web addresses NetBenefits.com/Purdue and NetBenefits.com/PG will bring employees directly to the Fidelity NetBenefits login screen, allowing for a more direct access experience to easily:\n",
            "Access individual account information and personalized planning resources.\n",
            "Learn and act on your financial wellness goals.\n",
            "Get timely updates and alerts.\n",
            "Schedule a one-on-one meeting with a Fidelity retirement planner.\n",
            "Additional Fidelity account resources:\n",
            "Download the NetBenefits mobile app to access retirement account information on the go.\n",
            "Watch this short video to learn how to get started on NetBenefits.\n",
            "Schedule online or call 800-642-7131 to make an in-person or virtual one-on-one appointment with a Fidelity retirement planner.\n",
            "\n",
            "First JPG Image:\n",
            "https://www.purdue.edu/newsroom/wp-content/uploads/2024/05/Winter-Purdue-2024_GMB5372.jpg\n",
            "\n"
          ]
        }
      ],
      "source": [
        "import requests\n",
        "from bs4 import BeautifulSoup\n",
        "\n",
        "url = \"https://www.purdue.edu/newsroom/purduetoday/2023/Q4/employees-can-now-connect-with-their-purdue-retirement-program-on-fidelity-netbenefits/\"\n",
        "#url = \"https://www.purdue.edu/research/features/stories/new-ranking-demonstrates-purdue-prominence-in-ai-research-supercomputing/\"\n",
        "#url = \"https://www.purdue.edu/newsroom/purduetoday/2023/Q4/stay-safe-and-injury-free-this-winter-top-tips-for-preventing-falls-and-walking-safely/\"\n",
        "\n",
        "response = requests.get(url)\n",
        "\n",
        "if response.status_code == 200:\n",
        "    soup = BeautifulSoup(response.content, 'html.parser')\n",
        "\n",
        "    # Extract the title using its ID\n",
        "    title = soup.find('h1', id='main-heading')\n",
        "    article_title = title.text.strip() if title else \"Title not found\"\n",
        "\n",
        "    # Find the specific div with class \"post-content__body\"\n",
        "    content_div = soup.find('div', class_='post-content__body')\n",
        "    if content_div:\n",
        "      # Extract text content from paragraphs and list items within this div\n",
        "      paragraphs = [p.text.strip() for p in content_div.find_all(['p', 'li'])]\n",
        "\n",
        "      # Extract image URLs within this div\n",
        "      images = [img['src'] for img in content_div.find_all('img') if 'src' in img.attrs]\n",
        "\n",
        "      # Combine all text\n",
        "      article_text = \"\\n\".join(paragraphs)\n",
        "    else:\n",
        "      print(\"The specified div with class 'post-content__body' was not found.\")\n",
        "\n",
        "\n",
        "    # Find the specific div with class \"post-content__thumbnail\" for images\n",
        "    thumbnail_div = soup.find('div', class_='post-content__thumbnail')\n",
        "    first_jpg_url = None\n",
        "    if thumbnail_div:\n",
        "        # Extract the first image tag\n",
        "        img = thumbnail_div.find('img', class_='post-content__thumbnail--image')\n",
        "        if img and 'srcset' in img.attrs:\n",
        "            # Parse the srcset and find the first .jpg\n",
        "            srcset = img['srcset']\n",
        "            images = [img.strip().split(\" \")[0] for img in srcset.split(\",\")]\n",
        "            for image in images:\n",
        "                if image.endswith('.jpg'):\n",
        "                    first_jpg_url = image\n",
        "                    break\n",
        "        elif img and 'src' in img.attrs and img['src'].endswith('.jpg'):\n",
        "            # Fallback to the src attribute if srcset is not present\n",
        "            first_jpg_url = img['src']\n",
        "    else:\n",
        "        print(\"The specified div with class 'post-content__thumbnail' was not found.\")\n",
        "\n",
        "    # Prepare the output content\n",
        "    output_content = f\"Title:\\n{article_title}\\n\\nArticle Text:\\n{article_text}\\n\\nFirst JPG Image:\\n{first_jpg_url}\\n\"\n",
        "\n",
        "    # Print the results\n",
        "    print(output_content)\n",
        "\n",
        "    # Write the results to a text file\n",
        "    with open(\"output.txt\", \"w\", encoding=\"utf-8\") as file:\n",
        "        file.write(output_content)\n",
        "\n",
        "    # Console outputs\n",
        "    #print(\"Title:\")\n",
        "    #print(article_title)\n",
        "    #print(\"Article Text:\")\n",
        "    #print(article_text)\n",
        "    #print(\"\\nThumbnail:\")\n",
        "    #print(first_jpg_url)\n",
        "\n",
        "else:\n",
        "    print(f\"Failed to retrieve the page. Status code: {response.status_code}\")\n",
        "\n"
      ]
    }
  ]
}