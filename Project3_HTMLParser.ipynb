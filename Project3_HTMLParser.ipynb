{
  "nbformat": 4,
  "nbformat_minor": 0,
  "metadata": {
    "colab": {
      "provenance": [],
      "authorship_tag": "ABX9TyOnDcPd+2D7q7boTqCR96x2",
      "include_colab_link": true
    },
    "kernelspec": {
      "name": "python3",
      "display_name": "Python 3"
    },
    "language_info": {
      "name": "python"
    }
  },
  "cells": [
    {
      "cell_type": "markdown",
      "metadata": {
        "id": "view-in-github",
        "colab_type": "text"
      },
      "source": [
        "<a href=\"https://colab.research.google.com/github/mltngpot/Describer/blob/main/Project3_HTMLParser.ipynb\" target=\"_parent\"><img src=\"https://colab.research.google.com/assets/colab-badge.svg\" alt=\"Open In Colab\"/></a>"
      ]
    },
    {
      "cell_type": "code",
      "execution_count": 29,
      "metadata": {
        "colab": {
          "base_uri": "https://localhost:8080/"
        },
        "id": "tuUGLx7LGwt3",
        "outputId": "23713131-2a3a-44c2-af8a-80922a8b4817"
      },
      "outputs": [
        {
          "output_type": "stream",
          "name": "stdout",
          "text": [
            "Title:\n",
            "Stay safe and injury-free this winter: Top tips for preventing falls and walking safely\n",
            "Article Text:\n",
            "As the Indiana winter settles in, Environmental Health and Safety (EHS) is once again sharing safety and walking tips for navigating snowy and icy conditions. To avoid falls and injuries, EHS encourages the campus community to take the following precautions before heading out this season:\n",
            "Plan ahead for routes and only take cleared and treated surfaces. Use pedestrian subwalks and skywalks to walk to buildings when possible.\n",
            "Wear appropriate footwear. If wearing ice cleats, be sure to remove them indoors to avoid slipping.\n",
            "Slow down and take shorter steps to help with traction.\n",
            "Avoid carrying heavy or awkward loads.\n",
            "Use handrails when using stairs or ramps.\n",
            "Consider using an elevator, if available, as indoor stairs may also be wet due to tracked-in snow and ice. Falls on stairs can lead to severe injuries, especially when slippery conditions are present.\n",
            "Use a door or seat to provide stability when getting in or out of a vehicle as parking lots may be slippery.\n",
            "The Grounds department may be contacted at 765-494-3087 with questions or requests regarding all snow removal operations. Grounds will then coordinate with other departments to address those questions or requests. Building Services will be responsible for removing snow from building entrances, ramps, steps and sidewalks adjacent to buildings. Contact your building deputy with any questions.\n",
            "Building Services is currently working to distribute self-serve ice melt buckets to many facilities across campus. Contact Dave Petros, occupational safety specialist, at petros@purdue.edu to request self-serve buckets for a building.\n",
            "A winter walking safety infographic is also available to print on 11-by-17-inch paper for posting on noticeboards throughout campus buildings.\n",
            "EHS, Grounds and Building Services are all part of the Administrative Operations organization. The organization supports the university through safe, reliable and transformative services. Informing the campus community on how to stay safe while traveling in winter conditions and assisting with snow removal are just a couple of ways the organization helps power Purdue.\n",
            "\n",
            "Images:\n",
            "[]\n"
          ]
        }
      ],
      "source": [
        "import requests\n",
        "from bs4 import BeautifulSoup\n",
        "\n",
        "#url = \"https://www.purdue.edu/newsroom/purduetoday/2023/Q4/employees-can-now-connect-with-their-purdue-retirement-program-on-fidelity-netbenefits/\"\n",
        "#url = \"https://www.purdue.edu/research/features/stories/new-ranking-demonstrates-purdue-prominence-in-ai-research-supercomputing/\"\n",
        "url = \"https://www.purdue.edu/newsroom/purduetoday/2023/Q4/stay-safe-and-injury-free-this-winter-top-tips-for-preventing-falls-and-walking-safely/\"\n",
        "\n",
        "response = requests.get(url)\n",
        "\n",
        "if response.status_code == 200:\n",
        "    soup = BeautifulSoup(response.content, 'html.parser')\n",
        "\n",
        "    # Extract the title using its ID\n",
        "    title = soup.find('h1', id='main-heading')\n",
        "    article_title = title.text.strip() if title else \"Title not found\"\n",
        "\n",
        "    # Find the specific div with class \"post-content__body\"\n",
        "    content_div = soup.find('div', class_='post-content__body')\n",
        "    if content_div:\n",
        "      # Extract text content from paragraphs and list items within this div\n",
        "      paragraphs = [p.text.strip() for p in content_div.find_all(['p', 'li'])]\n",
        "\n",
        "      # Extract image URLs within this div\n",
        "      images = [img['src'] for img in content_div.find_all('img') if 'src' in img.attrs]\n",
        "\n",
        "      # Combine all text\n",
        "      article_text = \"\\n\".join(paragraphs)\n",
        "    else:\n",
        "      print(\"The specified div with class 'post-content__body' was not found.\")\n",
        "\n",
        "\n",
        "    # Find the specific div with class \"post-content__thumbnail\" for images\n",
        "    thumbnail_div = soup.find('div', class_='post-content__thumbnail')\n",
        "    image_urls = []\n",
        "    if thumbnail_div:\n",
        "      # Extract image URLs\n",
        "      image_urls = [img['src'] for img in thumbnail_div.find_all('img') if 'src' in img.attrs]\n",
        "    else:\n",
        "      print(\"The specified div with class 'post-content__thumbnail' was not found.\")\n",
        "\n",
        "    print(\"Title:\")\n",
        "    print(article_title)\n",
        "    print(\"Article Text:\")\n",
        "    print(article_text)\n",
        "    print(\"\\nImages:\")\n",
        "    print(images)\n",
        "\n",
        "else:\n",
        "    print(f\"Failed to retrieve the page. Status code: {response.status_code}\")\n",
        "\n"
      ]
    }
  ]
}