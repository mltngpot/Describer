{
  "nbformat": 4,
  "nbformat_minor": 0,
  "metadata": {
    "colab": {
      "provenance": [],
      "authorship_tag": "ABX9TyM1uOmQZBcIFSNEEWmbNtoS",
      "include_colab_link": true
    },
    "kernelspec": {
      "name": "python3",
      "display_name": "Python 3"
    },
    "language_info": {
      "name": "python"
    }
  },
  "cells": [
    {
      "cell_type": "markdown",
      "metadata": {
        "id": "view-in-github",
        "colab_type": "text"
      },
      "source": [
        "<a href=\"https://colab.research.google.com/github/mltngpot/Describer/blob/main/Project3_HTMLParser.ipynb\" target=\"_parent\"><img src=\"https://colab.research.google.com/assets/colab-badge.svg\" alt=\"Open In Colab\"/></a>"
      ]
    },
    {
      "cell_type": "code",
      "execution_count": 2,
      "metadata": {
        "colab": {
          "base_uri": "https://localhost:8080/"
        },
        "id": "tuUGLx7LGwt3",
        "outputId": "7506f18a-94f8-4676-c066-5cc96ab36434"
      },
      "outputs": [
        {
          "output_type": "stream",
          "name": "stdout",
          "text": [
            "Title:\n",
            "Employees can now connect with their Purdue Retirement Program on Fidelity NetBenefits\n",
            "\n",
            "Article Text:\n",
            "Beginning Jan. 1, the web addresses NetBenefits.com/Purdue and NetBenefits.com/PG will bring employees directly to the Fidelity NetBenefits login screen, allowing for a more direct access experience to easily:\n",
            "Access individual account information and personalized planning resources.\n",
            "Learn and act on your financial wellness goals.\n",
            "Get timely updates and alerts.\n",
            "Schedule a one-on-one meeting with a Fidelity retirement planner.\n",
            "Additional Fidelity account resources:\n",
            "Download the NetBenefits mobile app to access retirement account information on the go.\n",
            "Watch this short video to learn how to get started on NetBenefits.\n",
            "Schedule online or call 800-642-7131 to make an in-person or virtual one-on-one appointment with a Fidelity retirement planner.\n",
            "\n",
            "Thumbnail Image:\n",
            "https://www.purdue.edu/newsroom/wp-content/uploads/2024/05/Winter-Purdue-2024_GMB5372.jpg\n",
            "Thumbnail Text:\n",
            "John Purdue statue\n"
          ]
        }
      ],
      "source": [
        "import requests\n",
        "from bs4 import BeautifulSoup\n",
        "\n",
        "url = \"https://www.purdue.edu/newsroom/purduetoday/2023/Q4/employees-can-now-connect-with-their-purdue-retirement-program-on-fidelity-netbenefits/\"\n",
        "#url = \"https://www.purdue.edu/research/features/stories/new-ranking-demonstrates-purdue-prominence-in-ai-research-supercomputing/\"\n",
        "#url = \"https://www.purdue.edu/newsroom/purduetoday/2023/Q4/stay-safe-and-injury-free-this-winter-top-tips-for-preventing-falls-and-walking-safely/\"\n",
        "\n",
        "response = requests.get(url)\n",
        "\n",
        "if response.status_code == 200:\n",
        "    soup = BeautifulSoup(response.content, 'html.parser')\n",
        "\n",
        "    # Extract the title using its ID\n",
        "    title = soup.find('h1', id='main-heading')\n",
        "    article_title = title.text.strip() if title else \"Title not found\"\n",
        "\n",
        "    # Find the specific div with class \"post-content__body\"\n",
        "    content_div = soup.find('div', class_='post-content__body')\n",
        "    if content_div:\n",
        "      # Extract text content from paragraphs and list items within this div\n",
        "      paragraphs = [p.text.strip() for p in content_div.find_all(['p', 'li'])]\n",
        "\n",
        "      # Extract image URLs within this div\n",
        "      images = [img['src'] for img in content_div.find_all('img') if 'src' in img.attrs]\n",
        "\n",
        "      # Combine all text\n",
        "      article_text = \"\\n\".join(paragraphs)\n",
        "    else:\n",
        "      print(\"The specified div with class 'post-content__body' was not found.\")\n",
        "\n",
        "\n",
        "    # Find the specific div with class \"post-content__thumbnail\" for images\n",
        "    thumbnail_div = soup.find('div', class_='post-content__thumbnail')\n",
        "    image_url = None\n",
        "    if thumbnail_div:\n",
        "        # Find the image tag\n",
        "        img = thumbnail_div.find('img', class_='post-content__thumbnail--image')\n",
        "        if img:\n",
        "            # Extract alt text and src (image URL)\n",
        "            alt_text = img.get('alt', 'No alt text found')\n",
        "            image_url = img.get('src', 'No image URL found')\n",
        "        else:\n",
        "            print(\"No image found in the thumbnail div.\")\n",
        "    else:\n",
        "        print(\"Thumbnail div not found.\")\n",
        "\n",
        "    # Prepare the output content\n",
        "    output_content = f\"Title:\\n{article_title}\\n\\nArticle Text:\\n{article_text}\\n\\nThumbnail Image:\\n{image_url}\\nThumbnail Text:\\n{alt_text}\"\n",
        "\n",
        "    # Print the results\n",
        "    print(output_content)\n",
        "\n",
        "    # Write the results to a text file\n",
        "    with open(\"output.txt\", \"w\", encoding=\"utf-8\") as file:\n",
        "        file.write(output_content)\n",
        "\n",
        "    # Console outputs\n",
        "    #print(\"Title:\")\n",
        "    #print(article_title)\n",
        "    #print(\"Article Text:\")\n",
        "    #print(article_text)\n",
        "    #print(\"\\nThumbnail:\")\n",
        "    #print(image_url)\n",
        "    #print(\"Thumbnail Text (Alt):\", alt_text)\n",
        "\n",
        "else:\n",
        "    print(f\"Failed to retrieve the page. Status code: {response.status_code}\")\n",
        "\n"
      ]
    }
  ]
}